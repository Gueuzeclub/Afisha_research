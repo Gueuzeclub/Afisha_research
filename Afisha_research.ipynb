{
 "cells": [
  {
   "cell_type": "markdown",
   "metadata": {
    "id": "LMuaGIE3lGcr"
   },
   "source": [
    "# Проект: исследовательский анализ данных Яндекс Афиша"
   ]
  },
  {
   "cell_type": "markdown",
   "metadata": {},
   "source": [
    "## Цель и задачи  \n",
    "\n",
    "**Цель:** Провести анализ данных заказчика о стартапах и ответить на поставленные вопросы.   \n",
    "\n",
    "**Задачи:**\n",
    "1. Загрузить данные и познакомиться с их содержимым.\n",
    "2. Провести предобработку данных.\n",
    "3. Провести исследовательский анализ данных:\n",
    "    - провести анализ распределения заказов по сегментам и их сезонные изменения;\n",
    "    - изучить осеннюю активность пользователей;\n",
    "    - выявить популярные события и партнеров;\n",
    "4. Статистический анализ данных и проверка гепотиз;\n",
    "4. Выводы по проведённому анализу и рекомендации."
   ]
  },
  {
   "cell_type": "markdown",
   "metadata": {},
   "source": [
    "## Описание данных\n",
    "\n",
    "**Для анализа имеются данные о заказов билетов на различные мероприятия через сервис Яндекс Афиша. Данные состоят из двух датасетов:**\n",
    "\n",
    "- `final_tickets_orders_df.csv` — включает информацию обо всех заказах билетов, совершённых с двух типов устройств — мобильных и стационарных;\n",
    "- `final_tickets_events_df.csv` — содержит информацию о событиях, включая город и регион события, а также информацию о площадке проведения мероприятия.\n",
    "- `final_tickets_tenge_df.csv` — с информацией о курсе тенге к российскому рублю за 2024 год. \n",
    "\n",
    "### Описание датасета `final_tickets_orders_df`\n",
    "\n",
    "- order_id — уникальный идентификатор заказа.\n",
    "- user_id — уникальный идентификатор пользователя.\n",
    "- created_dt_msk — дата создания заказа (московское время).\n",
    "- created_ts_msk — дата и время создания заказа (московское время).\n",
    "- event_id — идентификатор мероприятия из таблицы events.\n",
    "- cinema_circuit — сеть кинотеатров. Если не применимо, то здесь будет значение 'нет'.\n",
    "- age_limit — возрастное ограничение мероприятия.\n",
    "- currency_code — валюта оплаты, например rub для российских рублей.\n",
    "- device_type_canonical — тип устройства, с которого был оформлен заказ, например mobile для мобильных устройств, desktop для стационарных.\n",
    "- revenue — выручка от заказа.\n",
    "- service_name — название билетного оператора.\n",
    "- tickets_count — количество купленных билетов.\n",
    "- total — общая сумма заказа.\n",
    "\n",
    "### Описание датасета `final_tickets_events_df`\n",
    "\n",
    "- event_id — уникальный идентификатор мероприятия.\n",
    "- event_name — название мероприятия. Аналог поля event_name_code из исходной базы данных.\n",
    "- event_type_description — описание типа мероприятия.\n",
    "- event_type_main — основной тип мероприятия: театральная постановка, концерт и так далее.\n",
    "- organizers — организаторы мероприятия.\n",
    "- region_name — название региона.\n",
    "- city_name — название города.\n",
    "- venue_id — уникальный идентификатор площадки.\n",
    "- venue_name — название площадки.\n",
    "- venue_address — адрес площадки.\n",
    "\n",
    "### Описание датасета `final_tickets_tenge_df`\n",
    "\n",
    "- nominal — номинал (100 тенге).\n",
    "- data — дата.\n",
    "- curs — курс тенге к рублю.\n",
    "- cdx — обозначение валюты (kzt)."
   ]
  },
  {
   "cell_type": "markdown",
   "metadata": {},
   "source": [
    "## Загрузка и знакомство с данными"
   ]
  },
  {
   "cell_type": "code",
   "execution_count": 1,
   "metadata": {},
   "outputs": [],
   "source": [
    "import numpy as np\n",
    "import pandas as pd \n",
    "import matplotlib.pyplot as plt\n",
    "import seaborn as sns "
   ]
  },
  {
   "cell_type": "code",
   "execution_count": 2,
   "metadata": {},
   "outputs": [],
   "source": [
    "final_tickets_orders_df = pd.read_csv('https://code.s3.yandex.net/datasets/final_tickets_orders_df.csv')\n",
    "final_tickets_events_df = pd.read_csv('https://code.s3.yandex.net/datasets/final_tickets_events_df.csv')\n",
    "final_tickets_tenge_df = pd.read_csv('https://code.s3.yandex.net/datasets/final_tickets_tenge_df.csv')"
   ]
  },
  {
   "cell_type": "code",
   "execution_count": 3,
   "metadata": {},
   "outputs": [
    {
     "name": "stdout",
     "output_type": "stream",
     "text": [
      "\n",
      "Проверка датафрейма 1\n",
      "\n"
     ]
    },
    {
     "data": {
      "text/html": [
       "<div>\n",
       "<style scoped>\n",
       "    .dataframe tbody tr th:only-of-type {\n",
       "        vertical-align: middle;\n",
       "    }\n",
       "\n",
       "    .dataframe tbody tr th {\n",
       "        vertical-align: top;\n",
       "    }\n",
       "\n",
       "    .dataframe thead th {\n",
       "        text-align: right;\n",
       "    }\n",
       "</style>\n",
       "<table border=\"1\" class=\"dataframe\">\n",
       "  <thead>\n",
       "    <tr style=\"text-align: right;\">\n",
       "      <th></th>\n",
       "      <th>order_id</th>\n",
       "      <th>user_id</th>\n",
       "      <th>created_dt_msk</th>\n",
       "      <th>created_ts_msk</th>\n",
       "      <th>event_id</th>\n",
       "      <th>cinema_circuit</th>\n",
       "      <th>age_limit</th>\n",
       "      <th>currency_code</th>\n",
       "      <th>device_type_canonical</th>\n",
       "      <th>revenue</th>\n",
       "      <th>service_name</th>\n",
       "      <th>tickets_count</th>\n",
       "      <th>total</th>\n",
       "      <th>days_since_prev</th>\n",
       "    </tr>\n",
       "  </thead>\n",
       "  <tbody>\n",
       "    <tr>\n",
       "      <th>0</th>\n",
       "      <td>4359165</td>\n",
       "      <td>0002849b70a3ce2</td>\n",
       "      <td>2024-08-20</td>\n",
       "      <td>2024-08-20 16:08:03</td>\n",
       "      <td>169230</td>\n",
       "      <td>нет</td>\n",
       "      <td>16</td>\n",
       "      <td>rub</td>\n",
       "      <td>mobile</td>\n",
       "      <td>1521.94</td>\n",
       "      <td>Край билетов</td>\n",
       "      <td>4</td>\n",
       "      <td>10870.99</td>\n",
       "      <td>NaN</td>\n",
       "    </tr>\n",
       "    <tr>\n",
       "      <th>1</th>\n",
       "      <td>7965605</td>\n",
       "      <td>0005ca5e93f2cf4</td>\n",
       "      <td>2024-07-23</td>\n",
       "      <td>2024-07-23 18:36:24</td>\n",
       "      <td>237325</td>\n",
       "      <td>нет</td>\n",
       "      <td>0</td>\n",
       "      <td>rub</td>\n",
       "      <td>mobile</td>\n",
       "      <td>289.45</td>\n",
       "      <td>Мой билет</td>\n",
       "      <td>2</td>\n",
       "      <td>2067.51</td>\n",
       "      <td>NaN</td>\n",
       "    </tr>\n",
       "    <tr>\n",
       "      <th>2</th>\n",
       "      <td>7292370</td>\n",
       "      <td>0005ca5e93f2cf4</td>\n",
       "      <td>2024-10-06</td>\n",
       "      <td>2024-10-06 13:56:02</td>\n",
       "      <td>578454</td>\n",
       "      <td>нет</td>\n",
       "      <td>0</td>\n",
       "      <td>rub</td>\n",
       "      <td>mobile</td>\n",
       "      <td>1258.57</td>\n",
       "      <td>За билетом!</td>\n",
       "      <td>4</td>\n",
       "      <td>13984.16</td>\n",
       "      <td>75.0</td>\n",
       "    </tr>\n",
       "    <tr>\n",
       "      <th>3</th>\n",
       "      <td>1139875</td>\n",
       "      <td>000898990054619</td>\n",
       "      <td>2024-07-13</td>\n",
       "      <td>2024-07-13 19:40:48</td>\n",
       "      <td>387271</td>\n",
       "      <td>нет</td>\n",
       "      <td>0</td>\n",
       "      <td>rub</td>\n",
       "      <td>mobile</td>\n",
       "      <td>8.49</td>\n",
       "      <td>Лови билет!</td>\n",
       "      <td>2</td>\n",
       "      <td>212.28</td>\n",
       "      <td>NaN</td>\n",
       "    </tr>\n",
       "    <tr>\n",
       "      <th>4</th>\n",
       "      <td>972400</td>\n",
       "      <td>000898990054619</td>\n",
       "      <td>2024-10-04</td>\n",
       "      <td>2024-10-04 22:33:15</td>\n",
       "      <td>509453</td>\n",
       "      <td>нет</td>\n",
       "      <td>18</td>\n",
       "      <td>rub</td>\n",
       "      <td>mobile</td>\n",
       "      <td>1390.41</td>\n",
       "      <td>Билеты без проблем</td>\n",
       "      <td>3</td>\n",
       "      <td>10695.43</td>\n",
       "      <td>83.0</td>\n",
       "    </tr>\n",
       "  </tbody>\n",
       "</table>\n",
       "</div>"
      ],
      "text/plain": [
       "   order_id          user_id created_dt_msk       created_ts_msk  event_id  \\\n",
       "0   4359165  0002849b70a3ce2     2024-08-20  2024-08-20 16:08:03    169230   \n",
       "1   7965605  0005ca5e93f2cf4     2024-07-23  2024-07-23 18:36:24    237325   \n",
       "2   7292370  0005ca5e93f2cf4     2024-10-06  2024-10-06 13:56:02    578454   \n",
       "3   1139875  000898990054619     2024-07-13  2024-07-13 19:40:48    387271   \n",
       "4    972400  000898990054619     2024-10-04  2024-10-04 22:33:15    509453   \n",
       "\n",
       "  cinema_circuit  age_limit currency_code device_type_canonical  revenue  \\\n",
       "0            нет         16           rub                mobile  1521.94   \n",
       "1            нет          0           rub                mobile   289.45   \n",
       "2            нет          0           rub                mobile  1258.57   \n",
       "3            нет          0           rub                mobile     8.49   \n",
       "4            нет         18           rub                mobile  1390.41   \n",
       "\n",
       "         service_name  tickets_count     total  days_since_prev  \n",
       "0        Край билетов              4  10870.99              NaN  \n",
       "1           Мой билет              2   2067.51              NaN  \n",
       "2         За билетом!              4  13984.16             75.0  \n",
       "3         Лови билет!              2    212.28              NaN  \n",
       "4  Билеты без проблем              3  10695.43             83.0  "
      ]
     },
     "metadata": {},
     "output_type": "display_data"
    },
    {
     "name": "stdout",
     "output_type": "stream",
     "text": [
      "None\n",
      "\n",
      "<class 'pandas.core.frame.DataFrame'>\n",
      "RangeIndex: 290849 entries, 0 to 290848\n",
      "Data columns (total 14 columns):\n",
      " #   Column                 Non-Null Count   Dtype  \n",
      "---  ------                 --------------   -----  \n",
      " 0   order_id               290849 non-null  int64  \n",
      " 1   user_id                290849 non-null  object \n",
      " 2   created_dt_msk         290849 non-null  object \n",
      " 3   created_ts_msk         290849 non-null  object \n",
      " 4   event_id               290849 non-null  int64  \n",
      " 5   cinema_circuit         290849 non-null  object \n",
      " 6   age_limit              290849 non-null  int64  \n",
      " 7   currency_code          290849 non-null  object \n",
      " 8   device_type_canonical  290849 non-null  object \n",
      " 9   revenue                290849 non-null  float64\n",
      " 10  service_name           290849 non-null  object \n",
      " 11  tickets_count          290849 non-null  int64  \n",
      " 12  total                  290849 non-null  float64\n",
      " 13  days_since_prev        268909 non-null  float64\n",
      "dtypes: float64(3), int64(4), object(7)\n",
      "memory usage: 31.1+ MB\n",
      "None\n",
      "\n",
      "Дубликатов нет\n",
      "\n",
      "Дубликатов по первичному ключу нет\n",
      "\n",
      "В датафрейме есть пропуски, их доля:\n",
      "order_id                 0.000000\n",
      "user_id                  0.000000\n",
      "created_dt_msk           0.000000\n",
      "created_ts_msk           0.000000\n",
      "event_id                 0.000000\n",
      "cinema_circuit           0.000000\n",
      "age_limit                0.000000\n",
      "currency_code            0.000000\n",
      "device_type_canonical    0.000000\n",
      "revenue                  0.000000\n",
      "service_name             0.000000\n",
      "tickets_count            0.000000\n",
      "total                    0.000000\n",
      "days_since_prev          0.075434\n",
      "dtype: float64\n",
      "\n",
      "Проверка датафрейма 2\n",
      "\n"
     ]
    },
    {
     "data": {
      "text/html": [
       "<div>\n",
       "<style scoped>\n",
       "    .dataframe tbody tr th:only-of-type {\n",
       "        vertical-align: middle;\n",
       "    }\n",
       "\n",
       "    .dataframe tbody tr th {\n",
       "        vertical-align: top;\n",
       "    }\n",
       "\n",
       "    .dataframe thead th {\n",
       "        text-align: right;\n",
       "    }\n",
       "</style>\n",
       "<table border=\"1\" class=\"dataframe\">\n",
       "  <thead>\n",
       "    <tr style=\"text-align: right;\">\n",
       "      <th></th>\n",
       "      <th>event_id</th>\n",
       "      <th>event_name</th>\n",
       "      <th>event_type_description</th>\n",
       "      <th>event_type_main</th>\n",
       "      <th>organizers</th>\n",
       "      <th>region_name</th>\n",
       "      <th>city_name</th>\n",
       "      <th>city_id</th>\n",
       "      <th>venue_id</th>\n",
       "      <th>venue_name</th>\n",
       "      <th>venue_address</th>\n",
       "    </tr>\n",
       "  </thead>\n",
       "  <tbody>\n",
       "    <tr>\n",
       "      <th>0</th>\n",
       "      <td>4436</td>\n",
       "      <td>e4f26fba-da77-4c61-928a-6c3e434d793f</td>\n",
       "      <td>спектакль</td>\n",
       "      <td>театр</td>\n",
       "      <td>№4893</td>\n",
       "      <td>Североярская область</td>\n",
       "      <td>Озёрск</td>\n",
       "      <td>2</td>\n",
       "      <td>1600</td>\n",
       "      <td>Кладбище искусств \"Проблема\" и партнеры</td>\n",
       "      <td>наб. Загородная, д. 785</td>\n",
       "    </tr>\n",
       "    <tr>\n",
       "      <th>1</th>\n",
       "      <td>5785</td>\n",
       "      <td>5cc08a60-fdea-4186-9bb2-bffc3603fb77</td>\n",
       "      <td>спектакль</td>\n",
       "      <td>театр</td>\n",
       "      <td>№1931</td>\n",
       "      <td>Светополянский округ</td>\n",
       "      <td>Глиноград</td>\n",
       "      <td>54</td>\n",
       "      <td>2196</td>\n",
       "      <td>Лекции по искусству \"Свет\" Групп</td>\n",
       "      <td>ул. Ягодная, д. 942</td>\n",
       "    </tr>\n",
       "    <tr>\n",
       "      <th>2</th>\n",
       "      <td>8817</td>\n",
       "      <td>8e379a89-3a10-4811-ba06-ec22ebebe989</td>\n",
       "      <td>спектакль</td>\n",
       "      <td>театр</td>\n",
       "      <td>№4896</td>\n",
       "      <td>Североярская область</td>\n",
       "      <td>Озёрск</td>\n",
       "      <td>2</td>\n",
       "      <td>4043</td>\n",
       "      <td>Кинокомитет \"Золотая\" Инк</td>\n",
       "      <td>ш. Коммуны, д. 92 стр. 6</td>\n",
       "    </tr>\n",
       "    <tr>\n",
       "      <th>3</th>\n",
       "      <td>8849</td>\n",
       "      <td>682e3129-6a32-4952-9d8a-ef7f60d4c247</td>\n",
       "      <td>спектакль</td>\n",
       "      <td>театр</td>\n",
       "      <td>№4960</td>\n",
       "      <td>Каменевский регион</td>\n",
       "      <td>Глиногорск</td>\n",
       "      <td>213</td>\n",
       "      <td>1987</td>\n",
       "      <td>Выставка ремесел \"Свет\" Лтд</td>\n",
       "      <td>пер. Набережный, д. 35</td>\n",
       "    </tr>\n",
       "    <tr>\n",
       "      <th>4</th>\n",
       "      <td>8850</td>\n",
       "      <td>d6e99176-c77f-4af0-9222-07c571f6c624</td>\n",
       "      <td>спектакль</td>\n",
       "      <td>театр</td>\n",
       "      <td>№4770</td>\n",
       "      <td>Лесодальний край</td>\n",
       "      <td>Родниковец</td>\n",
       "      <td>55</td>\n",
       "      <td>4230</td>\n",
       "      <td>Фестивальный проект \"Листья\" Групп</td>\n",
       "      <td>пер. Проезжий, д. 9</td>\n",
       "    </tr>\n",
       "  </tbody>\n",
       "</table>\n",
       "</div>"
      ],
      "text/plain": [
       "   event_id                            event_name event_type_description  \\\n",
       "0      4436  e4f26fba-da77-4c61-928a-6c3e434d793f              спектакль   \n",
       "1      5785  5cc08a60-fdea-4186-9bb2-bffc3603fb77              спектакль   \n",
       "2      8817  8e379a89-3a10-4811-ba06-ec22ebebe989              спектакль   \n",
       "3      8849  682e3129-6a32-4952-9d8a-ef7f60d4c247              спектакль   \n",
       "4      8850  d6e99176-c77f-4af0-9222-07c571f6c624              спектакль   \n",
       "\n",
       "  event_type_main organizers           region_name   city_name  city_id  \\\n",
       "0           театр      №4893  Североярская область      Озёрск        2   \n",
       "1           театр      №1931  Светополянский округ   Глиноград       54   \n",
       "2           театр      №4896  Североярская область      Озёрск        2   \n",
       "3           театр      №4960    Каменевский регион  Глиногорск      213   \n",
       "4           театр      №4770      Лесодальний край  Родниковец       55   \n",
       "\n",
       "   venue_id                               venue_name             venue_address  \n",
       "0      1600  Кладбище искусств \"Проблема\" и партнеры   наб. Загородная, д. 785  \n",
       "1      2196         Лекции по искусству \"Свет\" Групп       ул. Ягодная, д. 942  \n",
       "2      4043                Кинокомитет \"Золотая\" Инк  ш. Коммуны, д. 92 стр. 6  \n",
       "3      1987              Выставка ремесел \"Свет\" Лтд    пер. Набережный, д. 35  \n",
       "4      4230       Фестивальный проект \"Листья\" Групп       пер. Проезжий, д. 9  "
      ]
     },
     "metadata": {},
     "output_type": "display_data"
    },
    {
     "name": "stdout",
     "output_type": "stream",
     "text": [
      "None\n",
      "\n",
      "<class 'pandas.core.frame.DataFrame'>\n",
      "RangeIndex: 22427 entries, 0 to 22426\n",
      "Data columns (total 11 columns):\n",
      " #   Column                  Non-Null Count  Dtype \n",
      "---  ------                  --------------  ----- \n",
      " 0   event_id                22427 non-null  int64 \n",
      " 1   event_name              22427 non-null  object\n",
      " 2   event_type_description  22427 non-null  object\n",
      " 3   event_type_main         22427 non-null  object\n",
      " 4   organizers              22427 non-null  object\n",
      " 5   region_name             22427 non-null  object\n",
      " 6   city_name               22427 non-null  object\n",
      " 7   city_id                 22427 non-null  int64 \n",
      " 8   venue_id                22427 non-null  int64 \n",
      " 9   venue_name              22427 non-null  object\n",
      " 10  venue_address           22427 non-null  object\n",
      "dtypes: int64(3), object(8)\n",
      "memory usage: 1.9+ MB\n",
      "None\n",
      "\n",
      "Дубликатов нет\n",
      "\n",
      "Дубликатов по первичному ключу нет\n",
      "\n",
      "Пропусков нет\n",
      "\n",
      "Проверка датафрейма 3\n",
      "\n"
     ]
    },
    {
     "data": {
      "text/html": [
       "<div>\n",
       "<style scoped>\n",
       "    .dataframe tbody tr th:only-of-type {\n",
       "        vertical-align: middle;\n",
       "    }\n",
       "\n",
       "    .dataframe tbody tr th {\n",
       "        vertical-align: top;\n",
       "    }\n",
       "\n",
       "    .dataframe thead th {\n",
       "        text-align: right;\n",
       "    }\n",
       "</style>\n",
       "<table border=\"1\" class=\"dataframe\">\n",
       "  <thead>\n",
       "    <tr style=\"text-align: right;\">\n",
       "      <th></th>\n",
       "      <th>data</th>\n",
       "      <th>nominal</th>\n",
       "      <th>curs</th>\n",
       "      <th>cdx</th>\n",
       "    </tr>\n",
       "  </thead>\n",
       "  <tbody>\n",
       "    <tr>\n",
       "      <th>0</th>\n",
       "      <td>2024-01-10</td>\n",
       "      <td>100</td>\n",
       "      <td>19.9391</td>\n",
       "      <td>kzt</td>\n",
       "    </tr>\n",
       "    <tr>\n",
       "      <th>1</th>\n",
       "      <td>2024-01-11</td>\n",
       "      <td>100</td>\n",
       "      <td>19.7255</td>\n",
       "      <td>kzt</td>\n",
       "    </tr>\n",
       "    <tr>\n",
       "      <th>2</th>\n",
       "      <td>2024-01-12</td>\n",
       "      <td>100</td>\n",
       "      <td>19.5839</td>\n",
       "      <td>kzt</td>\n",
       "    </tr>\n",
       "    <tr>\n",
       "      <th>3</th>\n",
       "      <td>2024-01-13</td>\n",
       "      <td>100</td>\n",
       "      <td>19.4501</td>\n",
       "      <td>kzt</td>\n",
       "    </tr>\n",
       "    <tr>\n",
       "      <th>4</th>\n",
       "      <td>2024-01-14</td>\n",
       "      <td>100</td>\n",
       "      <td>19.4501</td>\n",
       "      <td>kzt</td>\n",
       "    </tr>\n",
       "  </tbody>\n",
       "</table>\n",
       "</div>"
      ],
      "text/plain": [
       "         data  nominal     curs  cdx\n",
       "0  2024-01-10      100  19.9391  kzt\n",
       "1  2024-01-11      100  19.7255  kzt\n",
       "2  2024-01-12      100  19.5839  kzt\n",
       "3  2024-01-13      100  19.4501  kzt\n",
       "4  2024-01-14      100  19.4501  kzt"
      ]
     },
     "metadata": {},
     "output_type": "display_data"
    },
    {
     "name": "stdout",
     "output_type": "stream",
     "text": [
      "None\n",
      "\n",
      "<class 'pandas.core.frame.DataFrame'>\n",
      "RangeIndex: 357 entries, 0 to 356\n",
      "Data columns (total 4 columns):\n",
      " #   Column   Non-Null Count  Dtype  \n",
      "---  ------   --------------  -----  \n",
      " 0   data     357 non-null    object \n",
      " 1   nominal  357 non-null    int64  \n",
      " 2   curs     357 non-null    float64\n",
      " 3   cdx      357 non-null    object \n",
      "dtypes: float64(1), int64(1), object(2)\n",
      "memory usage: 11.3+ KB\n",
      "None\n",
      "\n",
      "Дубликатов нет\n",
      "\n",
      "Дубликатов по первичному ключу нет\n",
      "\n",
      "Пропусков нет\n"
     ]
    }
   ],
   "source": [
    "# Цикл для оптимизации проверки сразу всех датафреймов\n",
    "for i, df in enumerate([final_tickets_orders_df, final_tickets_events_df, final_tickets_tenge_df], 1):\n",
    "    print('')\n",
    "    print(f'Проверка датафрейма {i}')\n",
    "    print('')\n",
    "    print(display(df.head()))\n",
    "    print('')\n",
    "    print(df.info())\n",
    "    print('')\n",
    "    if df.duplicated().sum() > 0:\n",
    "        print(f'Всего явных дуюликатов:{df.duplicated.sum()}')\n",
    "    else:\n",
    "        print('Дубликатов нет')\n",
    "    print('')\n",
    "    if df.duplicated(subset=df.columns[0]).sum() > 0:\n",
    "        print(f'Всего дуюликатов по первичному ключу:{df.duplicated(subset=df.columns[0]).sum()}')\n",
    "    else:\n",
    "        print('Дубликатов по первичному ключу нет')\n",
    "    print('')\n",
    "    if df.isna().sum().sum() > 0:\n",
    "        print('В датафрейме есть пропуски, их доля:')\n",
    "        print(final_tickets_orders_df.isna().sum()/final_tickets_orders_df.shape[0])\n",
    "    else:\n",
    "        print('Пропусков нет')"
   ]
  },
  {
   "cell_type": "markdown",
   "metadata": {},
   "source": [
    "        В ДатаФрейме final_tickets_orders_df 7,5 % значений в поле days_since_prev - пропуски, что означает, что это были первые покупки пользователя(не имеют предыдущих покупок). Больше пропусков или дубликатов в датафреймах нет. Названия полей во всех датафреймах корректные.\n",
    "        На этапе предобработки данных необходимо привести поля с датой к оптимальному типу данных, проверить валидность значимых для исследования полей (категориальных и числовых), проверить данные на неявные дубликаты (без учета первичного ключа), рассчитать необходимые для дальнейшей работы поля"
   ]
  },
  {
   "cell_type": "markdown",
   "metadata": {},
   "source": [
    "## Предобработка данных"
   ]
  },
  {
   "cell_type": "code",
   "execution_count": 4,
   "metadata": {},
   "outputs": [],
   "source": [
    "# скорректирую тип данных\n",
    "\n",
    "final_tickets_orders_df['created_dt_msk'] = pd.to_datetime(final_tickets_orders_df['created_dt_msk']) \n",
    "final_tickets_orders_df['created_ts_msk'] = pd.to_datetime(final_tickets_orders_df['created_ts_msk'])\n",
    "\n",
    "final_tickets_tenge_df['data'] = pd.to_datetime(final_tickets_tenge_df['data'])"
   ]
  },
  {
   "cell_type": "code",
   "execution_count": 5,
   "metadata": {},
   "outputs": [],
   "source": [
    "# глаза режет...\n",
    "\n",
    "final_tickets_tenge_df = final_tickets_tenge_df.rename(columns={'data':'date'})"
   ]
  },
  {
   "cell_type": "code",
   "execution_count": 6,
   "metadata": {},
   "outputs": [
    {
     "data": {
      "text/html": [
       "<div>\n",
       "<style scoped>\n",
       "    .dataframe tbody tr th:only-of-type {\n",
       "        vertical-align: middle;\n",
       "    }\n",
       "\n",
       "    .dataframe tbody tr th {\n",
       "        vertical-align: top;\n",
       "    }\n",
       "\n",
       "    .dataframe thead th {\n",
       "        text-align: right;\n",
       "    }\n",
       "</style>\n",
       "<table border=\"1\" class=\"dataframe\">\n",
       "  <thead>\n",
       "    <tr style=\"text-align: right;\">\n",
       "      <th></th>\n",
       "      <th>order_id</th>\n",
       "      <th>user_id</th>\n",
       "      <th>created_dt_msk</th>\n",
       "      <th>created_ts_msk</th>\n",
       "      <th>event_id</th>\n",
       "      <th>cinema_circuit</th>\n",
       "      <th>age_limit</th>\n",
       "      <th>currency_code</th>\n",
       "      <th>device_type_canonical</th>\n",
       "      <th>revenue</th>\n",
       "      <th>service_name</th>\n",
       "      <th>tickets_count</th>\n",
       "      <th>total</th>\n",
       "      <th>days_since_prev</th>\n",
       "    </tr>\n",
       "  </thead>\n",
       "  <tbody>\n",
       "    <tr>\n",
       "      <th>11778</th>\n",
       "      <td>1123867</td>\n",
       "      <td>06eb7897f65b433</td>\n",
       "      <td>2024-08-13</td>\n",
       "      <td>2024-08-13 16:31:07</td>\n",
       "      <td>183706</td>\n",
       "      <td>нет</td>\n",
       "      <td>18</td>\n",
       "      <td>rub</td>\n",
       "      <td>mobile</td>\n",
       "      <td>69.82</td>\n",
       "      <td>Билеты в руки</td>\n",
       "      <td>1</td>\n",
       "      <td>997.48</td>\n",
       "      <td>0.0</td>\n",
       "    </tr>\n",
       "    <tr>\n",
       "      <th>57220</th>\n",
       "      <td>160893</td>\n",
       "      <td>2564e3703075008</td>\n",
       "      <td>2024-10-30</td>\n",
       "      <td>2024-10-30 10:04:15</td>\n",
       "      <td>589005</td>\n",
       "      <td>нет</td>\n",
       "      <td>6</td>\n",
       "      <td>rub</td>\n",
       "      <td>mobile</td>\n",
       "      <td>11.23</td>\n",
       "      <td>Лови билет!</td>\n",
       "      <td>2</td>\n",
       "      <td>280.81</td>\n",
       "      <td>0.0</td>\n",
       "    </tr>\n",
       "    <tr>\n",
       "      <th>84015</th>\n",
       "      <td>3363798</td>\n",
       "      <td>3ee7dc2e115847f</td>\n",
       "      <td>2024-06-25</td>\n",
       "      <td>2024-06-25 07:32:08</td>\n",
       "      <td>277504</td>\n",
       "      <td>нет</td>\n",
       "      <td>6</td>\n",
       "      <td>rub</td>\n",
       "      <td>mobile</td>\n",
       "      <td>59.19</td>\n",
       "      <td>Билеты в руки</td>\n",
       "      <td>3</td>\n",
       "      <td>739.85</td>\n",
       "      <td>0.0</td>\n",
       "    </tr>\n",
       "    <tr>\n",
       "      <th>148477</th>\n",
       "      <td>2323916</td>\n",
       "      <td>7b525118ae656af</td>\n",
       "      <td>2024-10-28</td>\n",
       "      <td>2024-10-28 08:33:04</td>\n",
       "      <td>588203</td>\n",
       "      <td>нет</td>\n",
       "      <td>0</td>\n",
       "      <td>rub</td>\n",
       "      <td>mobile</td>\n",
       "      <td>26.96</td>\n",
       "      <td>Лучшие билеты</td>\n",
       "      <td>4</td>\n",
       "      <td>674.12</td>\n",
       "      <td>0.0</td>\n",
       "    </tr>\n",
       "    <tr>\n",
       "      <th>154173</th>\n",
       "      <td>5372831</td>\n",
       "      <td>7eb4fc207ecc10f</td>\n",
       "      <td>2024-08-23</td>\n",
       "      <td>2024-08-23 14:08:19</td>\n",
       "      <td>298035</td>\n",
       "      <td>нет</td>\n",
       "      <td>6</td>\n",
       "      <td>rub</td>\n",
       "      <td>mobile</td>\n",
       "      <td>126.84</td>\n",
       "      <td>Билеты без проблем</td>\n",
       "      <td>1</td>\n",
       "      <td>3170.95</td>\n",
       "      <td>0.0</td>\n",
       "    </tr>\n",
       "  </tbody>\n",
       "</table>\n",
       "</div>"
      ],
      "text/plain": [
       "        order_id          user_id created_dt_msk      created_ts_msk  \\\n",
       "11778    1123867  06eb7897f65b433     2024-08-13 2024-08-13 16:31:07   \n",
       "57220     160893  2564e3703075008     2024-10-30 2024-10-30 10:04:15   \n",
       "84015    3363798  3ee7dc2e115847f     2024-06-25 2024-06-25 07:32:08   \n",
       "148477   2323916  7b525118ae656af     2024-10-28 2024-10-28 08:33:04   \n",
       "154173   5372831  7eb4fc207ecc10f     2024-08-23 2024-08-23 14:08:19   \n",
       "\n",
       "        event_id cinema_circuit  age_limit currency_code  \\\n",
       "11778     183706            нет         18           rub   \n",
       "57220     589005            нет          6           rub   \n",
       "84015     277504            нет          6           rub   \n",
       "148477    588203            нет          0           rub   \n",
       "154173    298035            нет          6           rub   \n",
       "\n",
       "       device_type_canonical  revenue        service_name  tickets_count  \\\n",
       "11778                 mobile    69.82       Билеты в руки              1   \n",
       "57220                 mobile    11.23         Лови билет!              2   \n",
       "84015                 mobile    59.19       Билеты в руки              3   \n",
       "148477                mobile    26.96       Лучшие билеты              4   \n",
       "154173                mobile   126.84  Билеты без проблем              1   \n",
       "\n",
       "          total  days_since_prev  \n",
       "11778    997.48              0.0  \n",
       "57220    280.81              0.0  \n",
       "84015    739.85              0.0  \n",
       "148477   674.12              0.0  \n",
       "154173  3170.95              0.0  "
      ]
     },
     "metadata": {},
     "output_type": "display_data"
    },
    {
     "name": "stdout",
     "output_type": "stream",
     "text": [
      "число таких дубликатов - 30\n"
     ]
    }
   ],
   "source": [
    "# проверка на неявные дубликаты\n",
    "\n",
    "display(final_tickets_orders_df[final_tickets_orders_df.iloc[:, 1:].duplicated()].head())\n",
    "\n",
    "print(f'число таких дубликатов - {final_tickets_orders_df.iloc[:, 1:].duplicated().sum()}')"
   ]
  },
  {
   "cell_type": "markdown",
   "metadata": {},
   "source": [
    "Закономерности в таких дубликатов нет. Число их составляет - 30 штук. Удалю "
   ]
  },
  {
   "cell_type": "code",
   "execution_count": 7,
   "metadata": {},
   "outputs": [],
   "source": [
    "# Удалю неявные дубликаты\n",
    "final_tickets_orders_df = final_tickets_orders_df[~final_tickets_orders_df.iloc[:, 1:].duplicated()]"
   ]
  },
  {
   "cell_type": "code",
   "execution_count": 8,
   "metadata": {},
   "outputs": [
    {
     "name": "stdout",
     "output_type": "stream",
     "text": [
      "Уникальные значения в поле age_limit\n",
      "[16  0 18 12  6]\n",
      "\n",
      "Уникальные значения в поле currency_code\n",
      "['rub' 'kzt']\n",
      "\n",
      "Уникальные значения в поле device_type_canonical\n",
      "['mobile' 'desktop']\n",
      "\n",
      "Уникальные значения в поле service_name\n",
      "['Край билетов' 'Мой билет' 'За билетом!' 'Лови билет!'\n",
      " 'Билеты без проблем' 'Облачко' 'Лучшие билеты' 'Прачечная' 'Быстробилет'\n",
      " 'Дом культуры' 'Весь в билетах' 'Билеты в руки' 'Тебе билет!'\n",
      " 'Show_ticket' 'Городской дом культуры' 'Яблоко' 'Билет по телефону'\n",
      " 'Выступления.ру' 'Росбилет' 'Шоу начинается!' 'Мир касс' 'Восьмёрка'\n",
      " 'Телебилет' 'Crazy ticket!' 'Реестр' 'Быстрый кассир' 'КарандашРУ'\n",
      " 'Радио ticket' 'Дырокол' 'Вперёд!' 'Кино билет' 'Цвет и билет' 'Зе Бест!'\n",
      " 'Тех билет' 'Лимоны' 'Билеты в интернете']\n",
      "\n"
     ]
    }
   ],
   "source": [
    "# Проверю валидность категориальных полей в датафреймах\n",
    "\n",
    "for col in ['age_limit', 'currency_code', 'device_type_canonical', 'service_name']:\n",
    "    print(f'Уникальные значения в поле {col}')\n",
    "    print(final_tickets_orders_df[col].unique())\n",
    "    print()"
   ]
  },
  {
   "cell_type": "code",
   "execution_count": 9,
   "metadata": {
    "scrolled": true
   },
   "outputs": [
    {
     "name": "stdout",
     "output_type": "stream",
     "text": [
      "Уникальные значения в поле event_type_description\n",
      "['спектакль' 'балет' 'мюзикл' 'опера' 'концерт' 'шоу' 'ёлка'\n",
      " 'цирковое шоу' 'событие' 'фестиваль' 'спортивное мероприятие' 'выставка'\n",
      " 'спорт' 'оперетта' 'экскурсия' 'рок-мюзикл' 'музыкальный спектакль'\n",
      " 'снегурочка' 'подарок' 'кукольный спектакль']\n",
      "\n",
      "Уникальные значения в поле event_type_main\n",
      "['театр' 'концерты' 'ёлки' 'другое' 'стендап' 'выставки' 'спорт']\n",
      "\n"
     ]
    }
   ],
   "source": [
    "for col in ['event_type_description', 'event_type_main']:\n",
    "    print(f'Уникальные значения в поле {col}')\n",
    "    print(final_tickets_events_df[col].unique())\n",
    "    print()"
   ]
  },
  {
   "cell_type": "markdown",
   "metadata": {},
   "source": [
    "Категориальные поля валидны. Теперь проверю количественные значения\n"
   ]
  },
  {
   "cell_type": "code",
   "execution_count": 10,
   "metadata": {},
   "outputs": [],
   "source": [
    "# Функция для проверки полей с числовыми значениями\n",
    "\n",
    "def check_number(df, col):\n",
    "    print(df[col].describe(percentiles=[0.25, 0.5, 0.75, 0.99]))\n",
    "    \n",
    "    plt.figure(figsize=(7, 2))\n",
    "\n",
    "    df.boxplot(column=col, vert=False)\n",
    "\n",
    "    plt.title(f'Распределение значений поля {col}')\n",
    "    plt.xlabel('Значения')\n",
    "\n",
    "    plt.show()"
   ]
  },
  {
   "cell_type": "code",
   "execution_count": 11,
   "metadata": {},
   "outputs": [
    {
     "name": "stdout",
     "output_type": "stream",
     "text": [
      "count    285750.000000\n",
      "mean        547.590617\n",
      "std         871.556472\n",
      "min         -90.760000\n",
      "25%         113.862500\n",
      "50%         346.180000\n",
      "75%         791.700000\n",
      "99%        2569.600200\n",
      "max       81174.540000\n",
      "Name: revenue, dtype: float64\n"
     ]
    },
    {
     "data": {
      "image/png": "[encoded data removed]",
      "text/plain": [
       "<Figure size 504x144 with 1 Axes>"
      ]
     },
     "metadata": {
      "needs_background": "light"
     },
     "output_type": "display_data"
    }
   ],
   "source": [
    "# Для начала проверю revenue с рублями и тенге\n",
    "check_number(final_tickets_orders_df[final_tickets_orders_df['currency_code']=='rub'], 'revenue')"
   ]
  },
  {
   "cell_type": "code",
   "execution_count": 12,
   "metadata": {},
   "outputs": [
    {
     "data": {
      "text/html": [
       "<div>\n",
       "<style scoped>\n",
       "    .dataframe tbody tr th:only-of-type {\n",
       "        vertical-align: middle;\n",
       "    }\n",
       "\n",
       "    .dataframe tbody tr th {\n",
       "        vertical-align: top;\n",
       "    }\n",
       "\n",
       "    .dataframe thead th {\n",
       "        text-align: right;\n",
       "    }\n",
       "</style>\n",
       "<table border=\"1\" class=\"dataframe\">\n",
       "  <thead>\n",
       "    <tr style=\"text-align: right;\">\n",
       "      <th></th>\n",
       "      <th>order_id</th>\n",
       "      <th>user_id</th>\n",
       "      <th>created_dt_msk</th>\n",
       "      <th>created_ts_msk</th>\n",
       "      <th>event_id</th>\n",
       "      <th>cinema_circuit</th>\n",
       "      <th>age_limit</th>\n",
       "      <th>currency_code</th>\n",
       "      <th>device_type_canonical</th>\n",
       "      <th>revenue</th>\n",
       "      <th>service_name</th>\n",
       "      <th>tickets_count</th>\n",
       "      <th>total</th>\n",
       "      <th>days_since_prev</th>\n",
       "    </tr>\n",
       "  </thead>\n",
       "  <tbody>\n",
       "    <tr>\n",
       "      <th>264</th>\n",
       "      <td>1594653</td>\n",
       "      <td>00eb3dc9baa1543</td>\n",
       "      <td>2024-06-29</td>\n",
       "      <td>2024-06-29 15:01:43</td>\n",
       "      <td>538650</td>\n",
       "      <td>нет</td>\n",
       "      <td>0</td>\n",
       "      <td>rub</td>\n",
       "      <td>mobile</td>\n",
       "      <td>-2.37</td>\n",
       "      <td>Билеты без проблем</td>\n",
       "      <td>3</td>\n",
       "      <td>-59.20</td>\n",
       "      <td>NaN</td>\n",
       "    </tr>\n",
       "    <tr>\n",
       "      <th>4540</th>\n",
       "      <td>2360920</td>\n",
       "      <td>02ea4583333f064</td>\n",
       "      <td>2024-09-03</td>\n",
       "      <td>2024-09-03 18:12:58</td>\n",
       "      <td>559772</td>\n",
       "      <td>нет</td>\n",
       "      <td>0</td>\n",
       "      <td>rub</td>\n",
       "      <td>mobile</td>\n",
       "      <td>-0.23</td>\n",
       "      <td>Билеты без проблем</td>\n",
       "      <td>3</td>\n",
       "      <td>-7.65</td>\n",
       "      <td>0.0</td>\n",
       "    </tr>\n",
       "    <tr>\n",
       "      <th>4562</th>\n",
       "      <td>2361094</td>\n",
       "      <td>02ea4583333f064</td>\n",
       "      <td>2024-09-04</td>\n",
       "      <td>2024-09-04 09:34:53</td>\n",
       "      <td>559772</td>\n",
       "      <td>нет</td>\n",
       "      <td>0</td>\n",
       "      <td>rub</td>\n",
       "      <td>mobile</td>\n",
       "      <td>-0.15</td>\n",
       "      <td>Билеты без проблем</td>\n",
       "      <td>2</td>\n",
       "      <td>-5.10</td>\n",
       "      <td>0.0</td>\n",
       "    </tr>\n",
       "    <tr>\n",
       "      <th>8155</th>\n",
       "      <td>166809</td>\n",
       "      <td>043f669c9f734b1</td>\n",
       "      <td>2024-09-27</td>\n",
       "      <td>2024-09-27 10:56:35</td>\n",
       "      <td>567183</td>\n",
       "      <td>нет</td>\n",
       "      <td>0</td>\n",
       "      <td>rub</td>\n",
       "      <td>mobile</td>\n",
       "      <td>-0.62</td>\n",
       "      <td>Лучшие билеты</td>\n",
       "      <td>1</td>\n",
       "      <td>-20.64</td>\n",
       "      <td>0.0</td>\n",
       "    </tr>\n",
       "    <tr>\n",
       "      <th>8156</th>\n",
       "      <td>166780</td>\n",
       "      <td>043f669c9f734b1</td>\n",
       "      <td>2024-09-27</td>\n",
       "      <td>2024-09-27 10:00:09</td>\n",
       "      <td>567183</td>\n",
       "      <td>нет</td>\n",
       "      <td>0</td>\n",
       "      <td>rub</td>\n",
       "      <td>mobile</td>\n",
       "      <td>-1.86</td>\n",
       "      <td>Лучшие билеты</td>\n",
       "      <td>3</td>\n",
       "      <td>-61.92</td>\n",
       "      <td>0.0</td>\n",
       "    </tr>\n",
       "  </tbody>\n",
       "</table>\n",
       "</div>"
      ],
      "text/plain": [
       "      order_id          user_id created_dt_msk      created_ts_msk  event_id  \\\n",
       "264    1594653  00eb3dc9baa1543     2024-06-29 2024-06-29 15:01:43    538650   \n",
       "4540   2360920  02ea4583333f064     2024-09-03 2024-09-03 18:12:58    559772   \n",
       "4562   2361094  02ea4583333f064     2024-09-04 2024-09-04 09:34:53    559772   \n",
       "8155    166809  043f669c9f734b1     2024-09-27 2024-09-27 10:56:35    567183   \n",
       "8156    166780  043f669c9f734b1     2024-09-27 2024-09-27 10:00:09    567183   \n",
       "\n",
       "     cinema_circuit  age_limit currency_code device_type_canonical  revenue  \\\n",
       "264             нет          0           rub                mobile    -2.37   \n",
       "4540            нет          0           rub                mobile    -0.23   \n",
       "4562            нет          0           rub                mobile    -0.15   \n",
       "8155            нет          0           rub                mobile    -0.62   \n",
       "8156            нет          0           rub                mobile    -1.86   \n",
       "\n",
       "            service_name  tickets_count  total  days_since_prev  \n",
       "264   Билеты без проблем              3 -59.20              NaN  \n",
       "4540  Билеты без проблем              3  -7.65              0.0  \n",
       "4562  Билеты без проблем              2  -5.10              0.0  \n",
       "8155       Лучшие билеты              1 -20.64              0.0  \n",
       "8156       Лучшие билеты              3 -61.92              0.0  "
      ]
     },
     "execution_count": 12,
     "metadata": {},
     "output_type": "execute_result"
    }
   ],
   "source": [
    "# Посмотрю на заказы с отрицательным revenue\n",
    "\n",
    "final_tickets_orders_df[final_tickets_orders_df['revenue']<0].head()"
   ]
  },
  {
   "cell_type": "markdown",
   "metadata": {},
   "source": [
    "Отрицательный revenue может быть вполне валидным, если это заказы, которые были оформленны в рамках акции или скидки от Яндекс Афиша, которая должна была привлекать новых юзеров или мотивировать пользователей выбирть именно данный сервис."
   ]
  },
  {
   "cell_type": "code",
   "execution_count": 13,
   "metadata": {},
   "outputs": [
    {
     "name": "stdout",
     "output_type": "stream",
     "text": [
      "count    285173.000000\n",
      "mean        529.524608\n",
      "std         544.450141\n",
      "min         -90.760000\n",
      "25%         113.340000\n",
      "50%         345.290000\n",
      "75%         788.900000\n",
      "99%        2439.970000\n",
      "max        3998.270000\n",
      "Name: revenue, dtype: float64\n"
     ]
    },
    {
     "data": {
      "image/png": "[encoded data removed]",
      "text/plain": [
       "<Figure size 504x144 with 1 Axes>"
      ]
     },
     "metadata": {
      "needs_background": "light"
     },
     "output_type": "display_data"
    }
   ],
   "source": [
    "# Отфильруюсь по 99-перцентилю и по валюте \n",
    "rus_orders_df = final_tickets_orders_df[(final_tickets_orders_df['currency_code']=='rub' )\n",
    "                                       & (final_tickets_orders_df['revenue'] < final_tickets_orders_df['revenue'].quantile(q=0.99))]\n",
    "\n",
    "check_number(rus_orders_df, 'revenue')"
   ]
  },
  {
   "cell_type": "markdown",
   "metadata": {},
   "source": [
    "С половины заказов revenue = 345, не смотря на это, достаточно большое число выбросов могут обозначать покупку сразу большого числа билетов в одном заказе, например для школьного класса или групповой экскурсии. "
   ]
  },
  {
   "cell_type": "code",
   "execution_count": 14,
   "metadata": {
    "scrolled": false
   },
   "outputs": [
    {
     "name": "stdout",
     "output_type": "stream",
     "text": [
      "count     5069.000000\n",
      "mean      4995.206767\n",
      "std       4916.752776\n",
      "min          0.000000\n",
      "25%        518.100000\n",
      "50%       3698.830000\n",
      "75%       7397.660000\n",
      "99%      17617.240000\n",
      "max      26425.860000\n",
      "Name: revenue, dtype: float64\n"
     ]
    },
    {
     "data": {
      "image/png": "[encoded data removed]",
      "text/plain": [
       "<Figure size 504x144 with 1 Axes>"
      ]
     },
     "metadata": {
      "needs_background": "light"
     },
     "output_type": "display_data"
    }
   ],
   "source": [
    "# проверю revenue в тенге\n",
    "\n",
    "kz_orders_df = final_tickets_orders_df[(final_tickets_orders_df['currency_code']=='kzt' )]\n",
    "\n",
    "check_number(kz_orders_df, 'revenue')"
   ]
  },
  {
   "cell_type": "markdown",
   "metadata": {},
   "source": [
    "Выбросов не так много. Выбросы не на столько выражены, чтобы их удалять."
   ]
  },
  {
   "cell_type": "code",
   "execution_count": 15,
   "metadata": {},
   "outputs": [],
   "source": [
    "# обратно соединю оба датафрейма с рублями и тенге \n",
    "\n",
    "orders_df = pd.concat([rus_orders_df, kz_orders_df])"
   ]
  },
  {
   "cell_type": "code",
   "execution_count": 16,
   "metadata": {},
   "outputs": [
    {
     "name": "stdout",
     "output_type": "stream",
     "text": [
      "count    290242.000000\n",
      "mean          2.752107\n",
      "std           1.169456\n",
      "min           1.000000\n",
      "25%           2.000000\n",
      "50%           3.000000\n",
      "75%           3.000000\n",
      "99%           6.000000\n",
      "max          57.000000\n",
      "Name: tickets_count, dtype: float64\n"
     ]
    },
    {
     "data": {
      "image/png": "[encoded data removed]",
      "text/plain": [
       "<Figure size 504x144 with 1 Axes>"
      ]
     },
     "metadata": {
      "needs_background": "light"
     },
     "output_type": "display_data"
    }
   ],
   "source": [
    "# проверю tickets_count\n",
    "\n",
    "check_number(orders_df, 'tickets_count')"
   ]
  },
  {
   "cell_type": "code",
   "execution_count": 17,
   "metadata": {},
   "outputs": [],
   "source": [
    "# уберу выбросы\n",
    "orders_df = orders_df[orders_df['tickets_count'] <= orders_df['tickets_count'].quantile(q=0.99)]"
   ]
  },
  {
   "cell_type": "code",
   "execution_count": 18,
   "metadata": {
    "scrolled": false
   },
   "outputs": [
    {
     "name": "stdout",
     "output_type": "stream",
     "text": [
      "count    290055.000000\n",
      "mean          2.747186\n",
      "std           1.142789\n",
      "min           1.000000\n",
      "25%           2.000000\n",
      "50%           3.000000\n",
      "75%           3.000000\n",
      "99%           6.000000\n",
      "max           6.000000\n",
      "Name: tickets_count, dtype: float64\n"
     ]
    },
    {
     "data": {
      "image/png": "[encoded data removed]",
      "text/plain": [
       "<Figure size 504x144 with 1 Axes>"
      ]
     },
     "metadata": {
      "needs_background": "light"
     },
     "output_type": "display_data"
    }
   ],
   "source": [
    "check_number(orders_df, 'tickets_count')"
   ]
  },
  {
   "cell_type": "code",
   "execution_count": 19,
   "metadata": {},
   "outputs": [
    {
     "name": "stdout",
     "output_type": "stream",
     "text": [
      "2024-06-01 00:00:00\n",
      "2024-10-31 00:00:00\n"
     ]
    }
   ],
   "source": [
    "# проверю даты заказов\n",
    "print(\n",
    "    orders_df['created_dt_msk'].min()\n",
    "    , orders_df['created_dt_msk'].max()\n",
    "    , sep='\\n')"
   ]
  },
  {
   "cell_type": "markdown",
   "metadata": {},
   "source": [
    "Теперь в данных нет выбросов по числу билетов в заказе"
   ]
  },
  {
   "cell_type": "code",
   "execution_count": 20,
   "metadata": {},
   "outputs": [],
   "source": [
    "# Создам поле \"revenue_rub\", переведу kzt в rub\n",
    "\n",
    "def kzt_to_rub(row):\n",
    "    if row['currency_code'] == 'kzt':\n",
    "        date = row['created_dt_msk']\n",
    "        curs = final_tickets_tenge_df.loc[final_tickets_tenge_df['date'] == date]['curs'].sum()\n",
    "        return row['revenue']/100*curs\n",
    "    else:\n",
    "        return row['revenue']"
   ]
  },
  {
   "cell_type": "code",
   "execution_count": 21,
   "metadata": {},
   "outputs": [],
   "source": [
    "orders_df['revenue_rub'] = orders_df.apply(kzt_to_rub, axis=1)\n",
    "orders_df['revenue_rub'] = orders_df['revenue_rub'].round(decimals=2)"
   ]
  },
  {
   "cell_type": "code",
   "execution_count": 22,
   "metadata": {
    "scrolled": true
   },
   "outputs": [
    {
     "data": {
      "text/html": [
       "<div>\n",
       "<style scoped>\n",
       "    .dataframe tbody tr th:only-of-type {\n",
       "        vertical-align: middle;\n",
       "    }\n",
       "\n",
       "    .dataframe tbody tr th {\n",
       "        vertical-align: top;\n",
       "    }\n",
       "\n",
       "    .dataframe thead th {\n",
       "        text-align: right;\n",
       "    }\n",
       "</style>\n",
       "<table border=\"1\" class=\"dataframe\">\n",
       "  <thead>\n",
       "    <tr style=\"text-align: right;\">\n",
       "      <th></th>\n",
       "      <th>order_id</th>\n",
       "      <th>user_id</th>\n",
       "      <th>created_dt_msk</th>\n",
       "      <th>created_ts_msk</th>\n",
       "      <th>event_id</th>\n",
       "      <th>cinema_circuit</th>\n",
       "      <th>age_limit</th>\n",
       "      <th>currency_code</th>\n",
       "      <th>device_type_canonical</th>\n",
       "      <th>revenue</th>\n",
       "      <th>service_name</th>\n",
       "      <th>tickets_count</th>\n",
       "      <th>total</th>\n",
       "      <th>days_since_prev</th>\n",
       "      <th>revenue_rub</th>\n",
       "    </tr>\n",
       "  </thead>\n",
       "  <tbody>\n",
       "    <tr>\n",
       "      <th>73</th>\n",
       "      <td>7850214</td>\n",
       "      <td>0033403583a55ed</td>\n",
       "      <td>2024-09-17</td>\n",
       "      <td>2024-09-17 16:52:06</td>\n",
       "      <td>559919</td>\n",
       "      <td>нет</td>\n",
       "      <td>6</td>\n",
       "      <td>kzt</td>\n",
       "      <td>mobile</td>\n",
       "      <td>518.10</td>\n",
       "      <td>Билеты без проблем</td>\n",
       "      <td>4</td>\n",
       "      <td>10361.97</td>\n",
       "      <td>20.0</td>\n",
       "      <td>98.50</td>\n",
       "    </tr>\n",
       "    <tr>\n",
       "      <th>92</th>\n",
       "      <td>8634925</td>\n",
       "      <td>0040e12d70fae81</td>\n",
       "      <td>2024-09-02</td>\n",
       "      <td>2024-09-02 19:49:14</td>\n",
       "      <td>559476</td>\n",
       "      <td>нет</td>\n",
       "      <td>6</td>\n",
       "      <td>kzt</td>\n",
       "      <td>desktop</td>\n",
       "      <td>347.18</td>\n",
       "      <td>Билеты без проблем</td>\n",
       "      <td>3</td>\n",
       "      <td>6943.61</td>\n",
       "      <td>39.0</td>\n",
       "      <td>65.73</td>\n",
       "    </tr>\n",
       "    <tr>\n",
       "      <th>99</th>\n",
       "      <td>7625522</td>\n",
       "      <td>0054b38b2653e6e</td>\n",
       "      <td>2024-09-09</td>\n",
       "      <td>2024-09-09 18:06:04</td>\n",
       "      <td>559582</td>\n",
       "      <td>нет</td>\n",
       "      <td>6</td>\n",
       "      <td>kzt</td>\n",
       "      <td>mobile</td>\n",
       "      <td>328.77</td>\n",
       "      <td>Билеты без проблем</td>\n",
       "      <td>4</td>\n",
       "      <td>10959.07</td>\n",
       "      <td>NaN</td>\n",
       "      <td>61.15</td>\n",
       "    </tr>\n",
       "    <tr>\n",
       "      <th>289</th>\n",
       "      <td>720419</td>\n",
       "      <td>00f4f5244501ce6</td>\n",
       "      <td>2024-06-11</td>\n",
       "      <td>2024-06-11 20:15:57</td>\n",
       "      <td>536826</td>\n",
       "      <td>нет</td>\n",
       "      <td>12</td>\n",
       "      <td>kzt</td>\n",
       "      <td>mobile</td>\n",
       "      <td>22021.55</td>\n",
       "      <td>Мой билет</td>\n",
       "      <td>5</td>\n",
       "      <td>275269.40</td>\n",
       "      <td>NaN</td>\n",
       "      <td>4380.70</td>\n",
       "    </tr>\n",
       "    <tr>\n",
       "      <th>472</th>\n",
       "      <td>5227657</td>\n",
       "      <td>01370a0e9c1a7d5</td>\n",
       "      <td>2024-06-04</td>\n",
       "      <td>2024-06-04 13:28:17</td>\n",
       "      <td>533803</td>\n",
       "      <td>нет</td>\n",
       "      <td>16</td>\n",
       "      <td>kzt</td>\n",
       "      <td>desktop</td>\n",
       "      <td>7397.66</td>\n",
       "      <td>Мой билет</td>\n",
       "      <td>4</td>\n",
       "      <td>123294.32</td>\n",
       "      <td>1.0</td>\n",
       "      <td>1478.30</td>\n",
       "    </tr>\n",
       "  </tbody>\n",
       "</table>\n",
       "</div>"
      ],
      "text/plain": [
       "     order_id          user_id created_dt_msk      created_ts_msk  event_id  \\\n",
       "73    7850214  0033403583a55ed     2024-09-17 2024-09-17 16:52:06    559919   \n",
       "92    8634925  0040e12d70fae81     2024-09-02 2024-09-02 19:49:14    559476   \n",
       "99    7625522  0054b38b2653e6e     2024-09-09 2024-09-09 18:06:04    559582   \n",
       "289    720419  00f4f5244501ce6     2024-06-11 2024-06-11 20:15:57    536826   \n",
       "472   5227657  01370a0e9c1a7d5     2024-06-04 2024-06-04 13:28:17    533803   \n",
       "\n",
       "    cinema_circuit  age_limit currency_code device_type_canonical   revenue  \\\n",
       "73             нет          6           kzt                mobile    518.10   \n",
       "92             нет          6           kzt               desktop    347.18   \n",
       "99             нет          6           kzt                mobile    328.77   \n",
       "289            нет         12           kzt                mobile  22021.55   \n",
       "472            нет         16           kzt               desktop   7397.66   \n",
       "\n",
       "           service_name  tickets_count      total  days_since_prev  \\\n",
       "73   Билеты без проблем              4   10361.97             20.0   \n",
       "92   Билеты без проблем              3    6943.61             39.0   \n",
       "99   Билеты без проблем              4   10959.07              NaN   \n",
       "289           Мой билет              5  275269.40              NaN   \n",
       "472           Мой билет              4  123294.32              1.0   \n",
       "\n",
       "     revenue_rub  \n",
       "73         98.50  \n",
       "92         65.73  \n",
       "99         61.15  \n",
       "289      4380.70  \n",
       "472      1478.30  "
      ]
     },
     "execution_count": 22,
     "metadata": {},
     "output_type": "execute_result"
    }
   ],
   "source": [
    "# Проверка, как сработало.\n",
    "orders_df[orders_df['currency_code']=='kzt'].head()"
   ]
  },
  {
   "cell_type": "code",
   "execution_count": 23,
   "metadata": {},
   "outputs": [],
   "source": [
    "# Добавлю поле с ценой одного билета\n",
    "orders_df['one_ticket_revenue_rub'] = (orders_df['revenue_rub'] / orders_df['tickets_count']).round(decimals=2)\n",
    "\n",
    "# Добавлю поле с месяцем заказа\n",
    "orders_df['month'] = orders_df['created_dt_msk'].dt.month\n",
    "\n",
    "# Добавлю поле с сезоном заказа \n",
    "orders_df['season'] = orders_df['month'].apply(lambda x: 'осень' if x in [9, 10, 11] else 'лето')"
   ]
  },
  {
   "cell_type": "code",
   "execution_count": 24,
   "metadata": {},
   "outputs": [
    {
     "data": {
      "text/html": [
       "<div>\n",
       "<style scoped>\n",
       "    .dataframe tbody tr th:only-of-type {\n",
       "        vertical-align: middle;\n",
       "    }\n",
       "\n",
       "    .dataframe tbody tr th {\n",
       "        vertical-align: top;\n",
       "    }\n",
       "\n",
       "    .dataframe thead th {\n",
       "        text-align: right;\n",
       "    }\n",
       "</style>\n",
       "<table border=\"1\" class=\"dataframe\">\n",
       "  <thead>\n",
       "    <tr style=\"text-align: right;\">\n",
       "      <th></th>\n",
       "      <th>order_id</th>\n",
       "      <th>user_id</th>\n",
       "      <th>created_dt_msk</th>\n",
       "      <th>created_ts_msk</th>\n",
       "      <th>event_id</th>\n",
       "      <th>cinema_circuit</th>\n",
       "      <th>age_limit</th>\n",
       "      <th>currency_code</th>\n",
       "      <th>device_type_canonical</th>\n",
       "      <th>revenue</th>\n",
       "      <th>service_name</th>\n",
       "      <th>tickets_count</th>\n",
       "      <th>total</th>\n",
       "      <th>days_since_prev</th>\n",
       "      <th>revenue_rub</th>\n",
       "      <th>one_ticket_revenue_rub</th>\n",
       "      <th>month</th>\n",
       "      <th>season</th>\n",
       "    </tr>\n",
       "  </thead>\n",
       "  <tbody>\n",
       "    <tr>\n",
       "      <th>0</th>\n",
       "      <td>4359165</td>\n",
       "      <td>0002849b70a3ce2</td>\n",
       "      <td>2024-08-20</td>\n",
       "      <td>2024-08-20 16:08:03</td>\n",
       "      <td>169230</td>\n",
       "      <td>нет</td>\n",
       "      <td>16</td>\n",
       "      <td>rub</td>\n",
       "      <td>mobile</td>\n",
       "      <td>1521.94</td>\n",
       "      <td>Край билетов</td>\n",
       "      <td>4</td>\n",
       "      <td>10870.99</td>\n",
       "      <td>NaN</td>\n",
       "      <td>1521.94</td>\n",
       "      <td>380.48</td>\n",
       "      <td>8</td>\n",
       "      <td>лето</td>\n",
       "    </tr>\n",
       "    <tr>\n",
       "      <th>1</th>\n",
       "      <td>7965605</td>\n",
       "      <td>0005ca5e93f2cf4</td>\n",
       "      <td>2024-07-23</td>\n",
       "      <td>2024-07-23 18:36:24</td>\n",
       "      <td>237325</td>\n",
       "      <td>нет</td>\n",
       "      <td>0</td>\n",
       "      <td>rub</td>\n",
       "      <td>mobile</td>\n",
       "      <td>289.45</td>\n",
       "      <td>Мой билет</td>\n",
       "      <td>2</td>\n",
       "      <td>2067.51</td>\n",
       "      <td>NaN</td>\n",
       "      <td>289.45</td>\n",
       "      <td>144.72</td>\n",
       "      <td>7</td>\n",
       "      <td>лето</td>\n",
       "    </tr>\n",
       "    <tr>\n",
       "      <th>2</th>\n",
       "      <td>7292370</td>\n",
       "      <td>0005ca5e93f2cf4</td>\n",
       "      <td>2024-10-06</td>\n",
       "      <td>2024-10-06 13:56:02</td>\n",
       "      <td>578454</td>\n",
       "      <td>нет</td>\n",
       "      <td>0</td>\n",
       "      <td>rub</td>\n",
       "      <td>mobile</td>\n",
       "      <td>1258.57</td>\n",
       "      <td>За билетом!</td>\n",
       "      <td>4</td>\n",
       "      <td>13984.16</td>\n",
       "      <td>75.0</td>\n",
       "      <td>1258.57</td>\n",
       "      <td>314.64</td>\n",
       "      <td>10</td>\n",
       "      <td>осень</td>\n",
       "    </tr>\n",
       "    <tr>\n",
       "      <th>3</th>\n",
       "      <td>1139875</td>\n",
       "      <td>000898990054619</td>\n",
       "      <td>2024-07-13</td>\n",
       "      <td>2024-07-13 19:40:48</td>\n",
       "      <td>387271</td>\n",
       "      <td>нет</td>\n",
       "      <td>0</td>\n",
       "      <td>rub</td>\n",
       "      <td>mobile</td>\n",
       "      <td>8.49</td>\n",
       "      <td>Лови билет!</td>\n",
       "      <td>2</td>\n",
       "      <td>212.28</td>\n",
       "      <td>NaN</td>\n",
       "      <td>8.49</td>\n",
       "      <td>4.24</td>\n",
       "      <td>7</td>\n",
       "      <td>лето</td>\n",
       "    </tr>\n",
       "    <tr>\n",
       "      <th>4</th>\n",
       "      <td>972400</td>\n",
       "      <td>000898990054619</td>\n",
       "      <td>2024-10-04</td>\n",
       "      <td>2024-10-04 22:33:15</td>\n",
       "      <td>509453</td>\n",
       "      <td>нет</td>\n",
       "      <td>18</td>\n",
       "      <td>rub</td>\n",
       "      <td>mobile</td>\n",
       "      <td>1390.41</td>\n",
       "      <td>Билеты без проблем</td>\n",
       "      <td>3</td>\n",
       "      <td>10695.43</td>\n",
       "      <td>83.0</td>\n",
       "      <td>1390.41</td>\n",
       "      <td>463.47</td>\n",
       "      <td>10</td>\n",
       "      <td>осень</td>\n",
       "    </tr>\n",
       "  </tbody>\n",
       "</table>\n",
       "</div>"
      ],
      "text/plain": [
       "   order_id          user_id created_dt_msk      created_ts_msk  event_id  \\\n",
       "0   4359165  0002849b70a3ce2     2024-08-20 2024-08-20 16:08:03    169230   \n",
       "1   7965605  0005ca5e93f2cf4     2024-07-23 2024-07-23 18:36:24    237325   \n",
       "2   7292370  0005ca5e93f2cf4     2024-10-06 2024-10-06 13:56:02    578454   \n",
       "3   1139875  000898990054619     2024-07-13 2024-07-13 19:40:48    387271   \n",
       "4    972400  000898990054619     2024-10-04 2024-10-04 22:33:15    509453   \n",
       "\n",
       "  cinema_circuit  age_limit currency_code device_type_canonical  revenue  \\\n",
       "0            нет         16           rub                mobile  1521.94   \n",
       "1            нет          0           rub                mobile   289.45   \n",
       "2            нет          0           rub                mobile  1258.57   \n",
       "3            нет          0           rub                mobile     8.49   \n",
       "4            нет         18           rub                mobile  1390.41   \n",
       "\n",
       "         service_name  tickets_count     total  days_since_prev  revenue_rub  \\\n",
       "0        Край билетов              4  10870.99              NaN      1521.94   \n",
       "1           Мой билет              2   2067.51              NaN       289.45   \n",
       "2         За билетом!              4  13984.16             75.0      1258.57   \n",
       "3         Лови билет!              2    212.28              NaN         8.49   \n",
       "4  Билеты без проблем              3  10695.43             83.0      1390.41   \n",
       "\n",
       "   one_ticket_revenue_rub  month season  \n",
       "0                  380.48      8   лето  \n",
       "1                  144.72      7   лето  \n",
       "2                  314.64     10  осень  \n",
       "3                    4.24      7   лето  \n",
       "4                  463.47     10  осень  "
      ]
     },
     "execution_count": 24,
     "metadata": {},
     "output_type": "execute_result"
    }
   ],
   "source": [
    "# Проверю корректность новых столбцов\n",
    "orders_df.head()"
   ]
  },
  {
   "cell_type": "code",
   "execution_count": 80,
   "metadata": {},
   "outputs": [
    {
     "name": "stdout",
     "output_type": "stream",
     "text": [
      "<class 'pandas.core.frame.DataFrame'>\n",
      "Int64Index: 290055 entries, 0 to 290054\n",
      "Data columns (total 28 columns):\n",
      " #   Column                  Non-Null Count   Dtype         \n",
      "---  ------                  --------------   -----         \n",
      " 0   order_id                290055 non-null  int64         \n",
      " 1   user_id                 290055 non-null  object        \n",
      " 2   created_dt_msk          290055 non-null  datetime64[ns]\n",
      " 3   created_ts_msk          290055 non-null  datetime64[ns]\n",
      " 4   event_id                290055 non-null  int64         \n",
      " 5   cinema_circuit          290055 non-null  object        \n",
      " 6   age_limit               290055 non-null  int64         \n",
      " 7   currency_code           290055 non-null  object        \n",
      " 8   device_type_canonical   290055 non-null  object        \n",
      " 9   revenue                 290055 non-null  float64       \n",
      " 10  service_name            290055 non-null  object        \n",
      " 11  tickets_count           290055 non-null  int64         \n",
      " 12  total                   290055 non-null  float64       \n",
      " 13  days_since_prev         268156 non-null  float64       \n",
      " 14  revenue_rub             290055 non-null  float64       \n",
      " 15  one_ticket_revenue_rub  290055 non-null  float64       \n",
      " 16  month                   290055 non-null  int64         \n",
      " 17  season                  290055 non-null  object        \n",
      " 18  event_name              289817 non-null  object        \n",
      " 19  event_type_description  289817 non-null  object        \n",
      " 20  event_type_main         289817 non-null  object        \n",
      " 21  organizers              289817 non-null  object        \n",
      " 22  region_name             289817 non-null  object        \n",
      " 23  city_name               289817 non-null  object        \n",
      " 24  city_id                 289817 non-null  float64       \n",
      " 25  venue_id                289817 non-null  float64       \n",
      " 26  venue_name              289817 non-null  object        \n",
      " 27  venue_address           289817 non-null  object        \n",
      "dtypes: datetime64[ns](2), float64(7), int64(5), object(14)\n",
      "memory usage: 64.2+ MB\n"
     ]
    }
   ],
   "source": [
    "# сджойню два итоговых датафрейма в один для дальнейшего анализа\n",
    "df = pd.merge(orders_df, final_tickets_events_df, on='event_id', how='left')\n",
    "df.info()"
   ]
  },
  {
   "cell_type": "code",
   "execution_count": 81,
   "metadata": {},
   "outputs": [
    {
     "name": "stdout",
     "output_type": "stream",
     "text": [
      "ДО ОБЪЕДИНЕНИЯ:\n",
      "orders_df: 290055 записей | Уникальных event_id: 22413\n",
      "final_tickets_events_df: 22427 записей | Уникальных event_id: 22427\n",
      "\n",
      "ПОСЛЕ ОБЪЕДИНЕНИЯ:\n",
      "Результат: 290055 записей\n",
      "Пропусков в правых колонках: 238\n"
     ]
    }
   ],
   "source": [
    "# Проверка размерности строк\n",
    "\n",
    "print(\"ДО ОБЪЕДИНЕНИЯ:\")\n",
    "print(f\"orders_df: {orders_df.shape[0]} записей | Уникальных event_id: {orders_df['event_id'].nunique()}\")\n",
    "print(f\"final_tickets_events_df: {final_tickets_events_df.shape[0]} записей | Уникальных event_id: {final_tickets_events_df['event_id'].nunique()}\")\n",
    "\n",
    "\n",
    "print(\"\\nПОСЛЕ ОБЪЕДИНЕНИЯ:\")\n",
    "print(f\"Результат: {df.shape[0]} записей\")\n",
    "print(f\"Пропусков в правых колонках: {df['event_name'].isna().sum()}\")"
   ]
  },
  {
   "cell_type": "markdown",
   "metadata": {},
   "source": [
    "Не смотря на том, что в датафрейме final_tickets_events_df хранится информация о большем числе мероприятий нежели во фрейме orders_df, в итоговом фрейме все равно есть пропуски. Эти пропуски означают, что об одном или нескольких мероприятий информация отсутсвует. Возможно была потеряна при переносе или неправильном хранении данных. \n",
    "\n",
    "Проверю, могу ли я заполнить пропуски"
   ]
  },
  {
   "cell_type": "code",
   "execution_count": 27,
   "metadata": {},
   "outputs": [],
   "source": [
    "#Проверю, что это за мероприятия, и могу ли я заполнить пропуски в этих строках\n",
    "event_ids = list(df[df['event_name'].isna()]['event_id'].unique())"
   ]
  },
  {
   "cell_type": "code",
   "execution_count": 28,
   "metadata": {},
   "outputs": [
    {
     "data": {
      "text/plain": [
       "0"
      ]
     },
     "execution_count": 28,
     "metadata": {},
     "output_type": "execute_result"
    }
   ],
   "source": [
    "df[df['event_id'].isin(event_ids)]['event_name'].notna().sum()"
   ]
  },
  {
   "cell_type": "markdown",
   "metadata": {},
   "source": [
    "К сожалению о каждом event_id из которых есть event_id с пропусками, нет информации во всем датафрейме. Остается только удалить такие значения."
   ]
  },
  {
   "cell_type": "code",
   "execution_count": 29,
   "metadata": {
    "scrolled": true
   },
   "outputs": [
    {
     "name": "stdout",
     "output_type": "stream",
     "text": [
      "<class 'pandas.core.frame.DataFrame'>\n",
      "Int64Index: 289817 entries, 0 to 290054\n",
      "Data columns (total 28 columns):\n",
      " #   Column                  Non-Null Count   Dtype         \n",
      "---  ------                  --------------   -----         \n",
      " 0   order_id                289817 non-null  int64         \n",
      " 1   user_id                 289817 non-null  object        \n",
      " 2   created_dt_msk          289817 non-null  datetime64[ns]\n",
      " 3   created_ts_msk          289817 non-null  datetime64[ns]\n",
      " 4   event_id                289817 non-null  int64         \n",
      " 5   cinema_circuit          289817 non-null  object        \n",
      " 6   age_limit               289817 non-null  int64         \n",
      " 7   currency_code           289817 non-null  object        \n",
      " 8   device_type_canonical   289817 non-null  object        \n",
      " 9   revenue                 289817 non-null  float64       \n",
      " 10  service_name            289817 non-null  object        \n",
      " 11  tickets_count           289817 non-null  int64         \n",
      " 12  total                   289817 non-null  float64       \n",
      " 13  days_since_prev         267945 non-null  float64       \n",
      " 14  revenue_rub             289817 non-null  float64       \n",
      " 15  one_ticket_revenue_rub  289817 non-null  float64       \n",
      " 16  month                   289817 non-null  int64         \n",
      " 17  season                  289817 non-null  object        \n",
      " 18  event_name              289817 non-null  object        \n",
      " 19  event_type_description  289817 non-null  object        \n",
      " 20  event_type_main         289817 non-null  object        \n",
      " 21  organizers              289817 non-null  object        \n",
      " 22  region_name             289817 non-null  object        \n",
      " 23  city_name               289817 non-null  object        \n",
      " 24  city_id                 289817 non-null  float64       \n",
      " 25  venue_id                289817 non-null  float64       \n",
      " 26  venue_name              289817 non-null  object        \n",
      " 27  venue_address           289817 non-null  object        \n",
      "dtypes: datetime64[ns](2), float64(7), int64(5), object(14)\n",
      "memory usage: 64.1+ MB\n"
     ]
    }
   ],
   "source": [
    "df = df[df['event_name'].notna()]\n",
    "df.info()"
   ]
  },
  {
   "cell_type": "code",
   "execution_count": 30,
   "metadata": {},
   "outputs": [
    {
     "name": "stdout",
     "output_type": "stream",
     "text": [
      "Изначально было 290849 строк. В ходе предобработки данных было удалено 1032 или 0.35% строк. В итоговом датафрейме 289817 строк\n"
     ]
    }
   ],
   "source": [
    "# Посчитаю, сколько строк было удалено в ходе обработки\n",
    "rows_starting = pd.read_csv('https://code.s3.yandex.net/datasets/final_tickets_orders_df.csv').shape[0]\n",
    "rows_now = df.shape[0]\n",
    "print(f'Изначально было {rows_starting} строк. В ходе предобработки данных было удалено {rows_starting - rows_now} или {round((rows_starting - rows_now)/rows_starting * 100, 2)}% строк. В итоговом датафрейме {rows_now} строк')"
   ]
  },
  {
   "cell_type": "markdown",
   "metadata": {},
   "source": [
    "В ходе предобработки данные были проверены на дубликаты и пропуски, приведены к оптимальному типу данных, проверены на валидность. Итого было удалено менее 0,5% строк с пропусками или дубликатами, а так же расчитаны новые поля в датафрейме:\n",
    " - revenue_rub - выручка сервиса с заказа переведенная в рубли\n",
    " - one_ticket_revenue_rub - выручка сервиса с одного билета из заказа переведенная в рубли\n",
    " - month - месяц заказа\n",
    " - season - сезон заказа (только Лето и Осень, так как данные только за этот период)\n",
    " \n",
    " В общем и целом данные готовы к анализу "
   ]
  },
  {
   "cell_type": "markdown",
   "metadata": {},
   "source": [
    "##  Исследовательский анализ данных\n",
    "\n",
    " - анализ распределения заказов по сегментам и их сезонные изменения;\n",
    " - осенняя активность пользователей;\n",
    " - популярные события и партнеры;\n",
    " \n"
   ]
  },
  {
   "cell_type": "markdown",
   "metadata": {},
   "source": [
    "### Анализ распределения заказов по сегментам и их сезонные изменения"
   ]
  },
  {
   "cell_type": "code",
   "execution_count": 31,
   "metadata": {},
   "outputs": [
    {
     "data": {
      "image/png": "[encoded data removed]",
      "text/plain": [
       "<Figure size 720x216 with 1 Axes>"
      ]
     },
     "metadata": {
      "needs_background": "light"
     },
     "output_type": "display_data"
    }
   ],
   "source": [
    "# Для каждого месяца найду количество заказов\n",
    "\n",
    "plt.figure(figsize=(10,3))\n",
    "\n",
    "df['month'].value_counts().sort_values().plot(kind='bar', legend=False, grid=True, color='teal',\n",
    "                                  title='Распределение числа заказов по месяцам', \n",
    "                                  xlabel='Число месяца', ylabel='Число заказов')\n",
    "\n",
    "plt.show()"
   ]
  },
  {
   "cell_type": "markdown",
   "metadata": {},
   "source": [
    "На графике заметно явное увеличение числа заказов осенью по сравнению с летом. "
   ]
  },
  {
   "cell_type": "code",
   "execution_count": 84,
   "metadata": {},
   "outputs": [
    {
     "data": {
      "image/png": "[encoded data removed]",
      "text/plain": [
       "<Figure size 432x576 with 1 Axes>"
      ]
     },
     "metadata": {
      "needs_background": "light"
     },
     "output_type": "display_data"
    }
   ],
   "source": [
    "# Проверю как распределяются заказы по типу мероприятий летом и осенью\n",
    "\n",
    "plt.rcParams[\"figure.figsize\"] = (6,8)\n",
    "\n",
    "df.groupby('season')['event_type_main'].value_counts(normalize=True).unstack(fill_value=0).plot(kind='bar', stacked=True, \n",
    "                                                                                                color=['teal', 'salmon', 'cadetblue', 'lightskyblue', 'linen', 'lavender', 'plum'])\n",
    "\n",
    "\n",
    "plt.title('Распределение долей по числу заказов между категориями мероприятий по сезонам') \n",
    "plt.ylabel('Доли') \n",
    "plt.xlabel('Сезон') \n",
    "plt.xticks(rotation=0) \n",
    "\n",
    "plt.legend(title='Тип мероприятия', bbox_to_anchor=(1.05, 1), loc='upper left')\n",
    "\n",
    "\n",
    "\n",
    "plt.show()"
   ]
  },
  {
   "cell_type": "markdown",
   "metadata": {},
   "source": [
    "Из данного графика следует, что осенью мероприятия распределяются совсем немного иначе, чем летом. Меньшую долю стали занимать мероприятия \"другое\", но при этом выроста доля \"спорт\", \"театр\" и \"елки\""
   ]
  },
  {
   "cell_type": "code",
   "execution_count": 33,
   "metadata": {
    "scrolled": false
   },
   "outputs": [
    {
     "data": {
      "image/png": "[encoded data removed]",
      "text/plain": [
       "<Figure size 864x432 with 1 Axes>"
      ]
     },
     "metadata": {
      "needs_background": "light"
     },
     "output_type": "display_data"
    }
   ],
   "source": [
    "plt.rcParams[\"figure.figsize\"] = (12,6)\n",
    "\n",
    "df.groupby('event_type_main')['season'].value_counts(normalize=False).unstack(fill_value=0).plot(kind='bar', color=['teal', 'salmon'])\n",
    "\n",
    "\n",
    "plt.title('Распределение числа заказов между сезонами по категориям мероприятия') \n",
    "plt.ylabel('Число заказов') \n",
    "plt.xlabel('Тип мероприятия') \n",
    "plt.xticks(rotation=0) \n",
    "plt.legend(title='Сезон') \n",
    "\n",
    "\n",
    "plt.show()"
   ]
  },
  {
   "cell_type": "markdown",
   "metadata": {},
   "source": [
    "Наибольший абсолютный прирост числа заказов заметен для театров, спорта и концертов (стоит учитывать, что за лето мы принимаем 3 месяца, а за осень только 2 - сентябрь и октябрь)"
   ]
  },
  {
   "cell_type": "code",
   "execution_count": 86,
   "metadata": {
    "scrolled": false
   },
   "outputs": [
    {
     "data": {
      "image/png": "[encoded data removed]",
      "text/plain": [
       "<Figure size 432x576 with 1 Axes>"
      ]
     },
     "metadata": {
      "needs_background": "light"
     },
     "output_type": "display_data"
    }
   ],
   "source": [
    "# Проверю как распределяются заказы по типу устройства летом и осенью\n",
    "\n",
    "plt.rcParams[\"figure.figsize\"] = (6,8)\n",
    "\n",
    "df.groupby('season')['device_type_canonical'].value_counts(normalize=True).unstack(fill_value=0).plot(kind='bar', stacked=True, color=['teal', 'salmon'])\n",
    "\n",
    "\n",
    "plt.title('Распределение долей по числу заказов между типами устройства по сезонам') \n",
    "plt.ylabel('Доли') \n",
    "plt.xlabel('Сезон') \n",
    "plt.xticks(rotation=0) \n",
    "\n",
    "plt.legend(title='Тип устройства', bbox_to_anchor=(1.05, 1), loc='upper left')\n",
    "\n",
    "plt.show()"
   ]
  },
  {
   "cell_type": "markdown",
   "metadata": {},
   "source": [
    "Изменений в сезонности не наблюдается"
   ]
  },
  {
   "cell_type": "code",
   "execution_count": 85,
   "metadata": {},
   "outputs": [
    {
     "data": {
      "image/png": "[encoded data removed]",
      "text/plain": [
       "<Figure size 432x576 with 1 Axes>"
      ]
     },
     "metadata": {
      "needs_background": "light"
     },
     "output_type": "display_data"
    }
   ],
   "source": [
    "# Проверю как распределяются заказы по возрастному рейтингу летом и осенью\n",
    "\n",
    "plt.rcParams[\"figure.figsize\"] = (6,8)\n",
    "\n",
    "df.groupby('season')['age_limit'].value_counts(normalize=True).unstack(fill_value=0).plot(kind='bar', stacked=True, color=['teal', 'salmon', 'cadetblue', 'lightskyblue', 'linen'])\n",
    "\n",
    "\n",
    "plt.title('Распределение долей по числу заказов между возрасными рейтингами по сезонам') \n",
    "plt.ylabel('Доли') \n",
    "plt.xlabel('Сезон') \n",
    "plt.xticks(rotation=0) \n",
    "\n",
    "\n",
    "plt.legend(title='Рейтинг', bbox_to_anchor=(1.05, 1), loc='upper left')\n",
    "\n",
    "plt.show()"
   ]
  },
  {
   "cell_type": "markdown",
   "metadata": {},
   "source": [
    "Осенью явно уменьшилась доля мероприятий \"18+\" и увеличилась доля мероприятий без ограничений по возрасту"
   ]
  },
  {
   "cell_type": "code",
   "execution_count": 36,
   "metadata": {},
   "outputs": [
    {
     "data": {
      "image/png": "[encoded data removed]",
      "text/plain": [
       "<Figure size 576x432 with 1 Axes>"
      ]
     },
     "metadata": {
      "needs_background": "light"
     },
     "output_type": "display_data"
    }
   ],
   "source": [
    "# Проверю как изменилась выручка с одного билета в разрезе типа мероприятия по сезонам\n",
    "\n",
    "plt.figure(figsize=(8, 6))\n",
    "sns.barplot(x='event_type_main', y='one_ticket_revenue_rub', hue='season', data=df)\n",
    "\n",
    "\n",
    "plt.title('Столбчатая диаграмма с группировкой (Seaborn)')\n",
    "plt.xlabel('Категории')\n",
    "plt.ylabel('Значения')\n",
    "plt.legend()\n",
    "plt.show()"
   ]
  },
  {
   "cell_type": "markdown",
   "metadata": {},
   "source": [
    "Интересно заметить, что осенью падают в цене театры, ёлки, концерты, но вырастают немного сендапы и выставки.\n",
    "Так же любобытно, что доверительный интервал у \"елок\" летом больше, чем у других категорий в любой сезон, что связано с бОльшим разбросом цен."
   ]
  },
  {
   "cell_type": "code",
   "execution_count": 37,
   "metadata": {},
   "outputs": [
    {
     "data": {
      "image/png": "[encoded data removed]",
      "text/plain": [
       "<Figure size 720x216 with 1 Axes>"
      ]
     },
     "metadata": {
      "needs_background": "light"
     },
     "output_type": "display_data"
    }
   ],
   "source": [
    "# Визуализирую, на сколько процентов изменилась средняя цена билета по категориям от лета к осени\n",
    "type_season = df.groupby(['event_type_main', 'season'])['one_ticket_revenue_rub'].mean().unstack(fill_value=0)\n",
    "type_season['diff'] = type_season['осень']/type_season['лето'] - 1\n",
    "\n",
    "\n",
    "plt.figure(figsize=(10,3))\n",
    "\n",
    "type_season['diff'].plot(kind='bar', legend=False, grid=True, color='teal',\n",
    "                                  title='Изменение среднего чека за билет от лета к осени в долях', \n",
    "                                  xlabel='Категория мероприятия', ylabel='Доли')\n",
    "\n",
    "plt.show()"
   ]
  },
  {
   "cell_type": "markdown",
   "metadata": {},
   "source": [
    "Как видно на графике, в долевых значениях сильнее всего просела цена билета в театр (более чем на 15%), почти одинаково выросли билеты на стендап и выставки (5%)"
   ]
  },
  {
   "cell_type": "markdown",
   "metadata": {},
   "source": [
    "### Осенняя активность пользователей"
   ]
  },
  {
   "cell_type": "code",
   "execution_count": 38,
   "metadata": {},
   "outputs": [],
   "source": [
    "# Отфильтрую и агрегирую датафрейм, чтобы получить метрики по дням за осень\n",
    "autumn = df[df['season']=='осень'].groupby('created_dt_msk').agg({'user_id':['count','nunique']\n",
    "                                                                 ,'tickets_count':'sum'\n",
    "                                                                 ,'one_ticket_revenue_rub':'mean'})"
   ]
  },
  {
   "cell_type": "code",
   "execution_count": 39,
   "metadata": {},
   "outputs": [],
   "source": [
    "autumn.columns = ['order_count', 'unique_users', 'tickets_sum', 'avg_ticket_revenue']"
   ]
  },
  {
   "cell_type": "code",
   "execution_count": 40,
   "metadata": {
    "scrolled": true
   },
   "outputs": [
    {
     "data": {
      "text/html": [
       "<div>\n",
       "<style scoped>\n",
       "    .dataframe tbody tr th:only-of-type {\n",
       "        vertical-align: middle;\n",
       "    }\n",
       "\n",
       "    .dataframe tbody tr th {\n",
       "        vertical-align: top;\n",
       "    }\n",
       "\n",
       "    .dataframe thead th {\n",
       "        text-align: right;\n",
       "    }\n",
       "</style>\n",
       "<table border=\"1\" class=\"dataframe\">\n",
       "  <thead>\n",
       "    <tr style=\"text-align: right;\">\n",
       "      <th></th>\n",
       "      <th>created_dt_msk</th>\n",
       "      <th>order_count</th>\n",
       "      <th>unique_users</th>\n",
       "      <th>tickets_sum</th>\n",
       "      <th>avg_ticket_revenue</th>\n",
       "      <th>tickets_per_user</th>\n",
       "    </tr>\n",
       "  </thead>\n",
       "  <tbody>\n",
       "    <tr>\n",
       "      <th>0</th>\n",
       "      <td>2024-09-01</td>\n",
       "      <td>1346</td>\n",
       "      <td>569</td>\n",
       "      <td>3807</td>\n",
       "      <td>206.693284</td>\n",
       "      <td>6.69</td>\n",
       "    </tr>\n",
       "    <tr>\n",
       "      <th>1</th>\n",
       "      <td>2024-09-02</td>\n",
       "      <td>1388</td>\n",
       "      <td>578</td>\n",
       "      <td>3734</td>\n",
       "      <td>193.386895</td>\n",
       "      <td>6.46</td>\n",
       "    </tr>\n",
       "    <tr>\n",
       "      <th>2</th>\n",
       "      <td>2024-09-03</td>\n",
       "      <td>5120</td>\n",
       "      <td>782</td>\n",
       "      <td>15327</td>\n",
       "      <td>81.365098</td>\n",
       "      <td>19.60</td>\n",
       "    </tr>\n",
       "    <tr>\n",
       "      <th>3</th>\n",
       "      <td>2024-09-04</td>\n",
       "      <td>1779</td>\n",
       "      <td>687</td>\n",
       "      <td>4828</td>\n",
       "      <td>179.739545</td>\n",
       "      <td>7.03</td>\n",
       "    </tr>\n",
       "    <tr>\n",
       "      <th>4</th>\n",
       "      <td>2024-09-05</td>\n",
       "      <td>1953</td>\n",
       "      <td>744</td>\n",
       "      <td>5235</td>\n",
       "      <td>193.265463</td>\n",
       "      <td>7.04</td>\n",
       "    </tr>\n",
       "  </tbody>\n",
       "</table>\n",
       "</div>"
      ],
      "text/plain": [
       "  created_dt_msk  order_count  unique_users  tickets_sum  avg_ticket_revenue  \\\n",
       "0     2024-09-01         1346           569         3807          206.693284   \n",
       "1     2024-09-02         1388           578         3734          193.386895   \n",
       "2     2024-09-03         5120           782        15327           81.365098   \n",
       "3     2024-09-04         1779           687         4828          179.739545   \n",
       "4     2024-09-05         1953           744         5235          193.265463   \n",
       "\n",
       "   tickets_per_user  \n",
       "0              6.69  \n",
       "1              6.46  \n",
       "2             19.60  \n",
       "3              7.03  \n",
       "4              7.04  "
      ]
     },
     "execution_count": 40,
     "metadata": {},
     "output_type": "execute_result"
    }
   ],
   "source": [
    "# Посчитаю среднее число билетов на юзера в день\n",
    "autumn['tickets_per_user'] = round(autumn['tickets_sum'] / autumn['unique_users'], 2)\n",
    "autumn = autumn.reset_index()\n",
    "autumn.head()"
   ]
  },
  {
   "cell_type": "code",
   "execution_count": 41,
   "metadata": {
    "scrolled": false
   },
   "outputs": [
    {
     "data": {
      "image/png": "[encoded data removed]",
      "text/plain": [
       "<Figure size 1008x720 with 4 Axes>"
      ]
     },
     "metadata": {
      "needs_background": "light"
     },
     "output_type": "display_data"
    }
   ],
   "source": [
    "# Построю графики - динамики разных показателей по дням\n",
    "\n",
    "fig, axes = plt.subplots(2, 2, figsize=(14, 10))\n",
    "\n",
    "ax1 = autumn.plot(x='created_dt_msk', y='order_count', marker='o', markersize=4, legend=False, grid=False\n",
    "            , ax=axes[0, 0]\n",
    "            , title='Динамики числа заказов'\n",
    "            , ylabel='Число заказов'\n",
    "            , xlabel='Дата')\n",
    "\n",
    "ax1.text('2024-09-03', 5300, str(round(autumn[autumn['created_dt_msk']=='2024-09-03']['order_count'].sum(), 2)))\n",
    "ax1.text('2024-10-01', 7000, str(round(autumn[autumn['created_dt_msk']=='2024-10-01']['order_count'].sum(), 2)))\n",
    "\n",
    "ax2 = autumn.plot(x='created_dt_msk', y='unique_users', marker='o', markersize=4, legend=False, grid=False\n",
    "            , ax=axes[0, 1]\n",
    "            , title='Динамики числа уникальных юзеров'\n",
    "            , ylabel='Число юзеров'\n",
    "            , xlabel='Дата'\n",
    "            , color='salmon')\n",
    "\n",
    "\n",
    "ax3 = autumn.plot(x='created_dt_msk', y='avg_ticket_revenue', marker='o', markersize=4, legend=False, grid=False\n",
    "            , ax=axes[1, 0]\n",
    "            , title='Динамики средней выручки с билета'\n",
    "            , ylabel='цена билета'\n",
    "            , xlabel='Дата'\n",
    "            , color='teal')\n",
    "\n",
    "ax3.text('2024-09-03', 90, str(round(autumn[autumn['created_dt_msk']=='2024-09-03']['avg_ticket_revenue'].sum(), 2)))\n",
    "ax3.text('2024-10-01', 90, str(round(autumn[autumn['created_dt_msk']=='2024-10-01']['avg_ticket_revenue'].sum(), 2)))\n",
    "\n",
    "ax4 = autumn.plot(x='created_dt_msk', y='tickets_per_user', marker='o', markersize=4, legend=False, grid=False\n",
    "            , ax=axes[1, 1]\n",
    "            , title='Динамики среднего числа билетов на юзера'\n",
    "            , ylabel='Число билетов'\n",
    "            , xlabel='Дата'\n",
    "            , color='lightskyblue')\n",
    "\n",
    "\n",
    "ax4.text('2024-09-03', 19, str((autumn[autumn['created_dt_msk']=='2024-09-03']['tickets_per_user'].sum())))\n",
    "ax4.text('2024-10-01', 19, str((autumn[autumn['created_dt_msk']=='2024-10-01']['tickets_per_user'].sum())))\n",
    "        \n",
    "\n",
    "plt.tight_layout()\n",
    "plt.show()"
   ]
  },
  {
   "cell_type": "markdown",
   "metadata": {},
   "source": [
    "При анализе показателей по дням видно большой всплеск заказов и числа билетов на одного юзера 3 сентября и 1 октября. Стоит проверить, связан ли этот всплес с определенным мероприятием, или регионом, или категорией мероприятий."
   ]
  },
  {
   "cell_type": "code",
   "execution_count": 42,
   "metadata": {},
   "outputs": [],
   "source": [
    "# Теперь посмотрю как менялись показатели взависимости от дня недели\n",
    "df['week_day'] = df['created_dt_msk'].dt.day_of_week"
   ]
  },
  {
   "cell_type": "code",
   "execution_count": 43,
   "metadata": {},
   "outputs": [],
   "source": [
    "week = df[df['season']=='осень'].groupby('week_day').agg({'user_id':['count','nunique']\n",
    "                                                                 ,'tickets_count':'sum'\n",
    "                                                                 ,'one_ticket_revenue_rub':'mean'}).reset_index()"
   ]
  },
  {
   "cell_type": "code",
   "execution_count": 44,
   "metadata": {},
   "outputs": [],
   "source": [
    "week.columns = ['week_day','order_count', 'unique_users', 'tickets_sum', 'avg_ticket_revenue']"
   ]
  },
  {
   "cell_type": "code",
   "execution_count": 45,
   "metadata": {},
   "outputs": [
    {
     "data": {
      "text/html": [
       "<div>\n",
       "<style scoped>\n",
       "    .dataframe tbody tr th:only-of-type {\n",
       "        vertical-align: middle;\n",
       "    }\n",
       "\n",
       "    .dataframe tbody tr th {\n",
       "        vertical-align: top;\n",
       "    }\n",
       "\n",
       "    .dataframe thead th {\n",
       "        text-align: right;\n",
       "    }\n",
       "</style>\n",
       "<table border=\"1\" class=\"dataframe\">\n",
       "  <thead>\n",
       "    <tr style=\"text-align: right;\">\n",
       "      <th></th>\n",
       "      <th>week_day</th>\n",
       "      <th>order_count</th>\n",
       "      <th>unique_users</th>\n",
       "      <th>tickets_sum</th>\n",
       "      <th>avg_ticket_revenue</th>\n",
       "      <th>tickets_per_user</th>\n",
       "    </tr>\n",
       "  </thead>\n",
       "  <tbody>\n",
       "    <tr>\n",
       "      <th>0</th>\n",
       "      <td>0</td>\n",
       "      <td>21647</td>\n",
       "      <td>4466</td>\n",
       "      <td>59039</td>\n",
       "      <td>188.128034</td>\n",
       "      <td>13.22</td>\n",
       "    </tr>\n",
       "    <tr>\n",
       "      <th>1</th>\n",
       "      <td>1</td>\n",
       "      <td>31675</td>\n",
       "      <td>4813</td>\n",
       "      <td>90298</td>\n",
       "      <td>144.629706</td>\n",
       "      <td>18.76</td>\n",
       "    </tr>\n",
       "    <tr>\n",
       "      <th>2</th>\n",
       "      <td>2</td>\n",
       "      <td>23051</td>\n",
       "      <td>4843</td>\n",
       "      <td>62246</td>\n",
       "      <td>190.452222</td>\n",
       "      <td>12.85</td>\n",
       "    </tr>\n",
       "    <tr>\n",
       "      <th>3</th>\n",
       "      <td>3</td>\n",
       "      <td>27322</td>\n",
       "      <td>4991</td>\n",
       "      <td>73168</td>\n",
       "      <td>181.293633</td>\n",
       "      <td>14.66</td>\n",
       "    </tr>\n",
       "    <tr>\n",
       "      <th>4</th>\n",
       "      <td>4</td>\n",
       "      <td>25002</td>\n",
       "      <td>4888</td>\n",
       "      <td>68862</td>\n",
       "      <td>190.155445</td>\n",
       "      <td>14.09</td>\n",
       "    </tr>\n",
       "    <tr>\n",
       "      <th>5</th>\n",
       "      <td>5</td>\n",
       "      <td>21486</td>\n",
       "      <td>4592</td>\n",
       "      <td>59888</td>\n",
       "      <td>196.308831</td>\n",
       "      <td>13.04</td>\n",
       "    </tr>\n",
       "    <tr>\n",
       "      <th>6</th>\n",
       "      <td>6</td>\n",
       "      <td>19531</td>\n",
       "      <td>4407</td>\n",
       "      <td>53689</td>\n",
       "      <td>201.894291</td>\n",
       "      <td>12.18</td>\n",
       "    </tr>\n",
       "  </tbody>\n",
       "</table>\n",
       "</div>"
      ],
      "text/plain": [
       "   week_day  order_count  unique_users  tickets_sum  avg_ticket_revenue  \\\n",
       "0         0        21647          4466        59039          188.128034   \n",
       "1         1        31675          4813        90298          144.629706   \n",
       "2         2        23051          4843        62246          190.452222   \n",
       "3         3        27322          4991        73168          181.293633   \n",
       "4         4        25002          4888        68862          190.155445   \n",
       "5         5        21486          4592        59888          196.308831   \n",
       "6         6        19531          4407        53689          201.894291   \n",
       "\n",
       "   tickets_per_user  \n",
       "0             13.22  \n",
       "1             18.76  \n",
       "2             12.85  \n",
       "3             14.66  \n",
       "4             14.09  \n",
       "5             13.04  \n",
       "6             12.18  "
      ]
     },
     "execution_count": 45,
     "metadata": {},
     "output_type": "execute_result"
    }
   ],
   "source": [
    "# Посчитаю среднее число билетов на юзера в день\n",
    "week['tickets_per_user'] = round(week['tickets_sum'] / week['unique_users'], 2)\n",
    "week"
   ]
  },
  {
   "cell_type": "code",
   "execution_count": 46,
   "metadata": {},
   "outputs": [
    {
     "data": {
      "image/png": "[encoded data removed]",
      "text/plain": [
       "<Figure size 864x720 with 4 Axes>"
      ]
     },
     "metadata": {
      "needs_background": "light"
     },
     "output_type": "display_data"
    }
   ],
   "source": [
    "fig, axes = plt.subplots(2, 2, figsize=(12, 10))\n",
    "\n",
    "ax1 = week.plot(kind='bar', x='week_day', y='order_count', legend=False, grid=False\n",
    "            , ax=axes[0, 0]\n",
    "            , title='Динамики числа заказов'\n",
    "            , ylabel='Число заказов'\n",
    "            , xlabel='Дата')\n",
    "\n",
    "for index, value in enumerate(week['order_count']):\n",
    "    ax1.text(index, value + 600, str(round(value, 1)), ha='center', fontsize=9)\n",
    "\n",
    "ax2 = week.plot(kind='bar', x='week_day', y='unique_users', legend=False, grid=False\n",
    "            , ax=axes[0, 1]\n",
    "            , title='Динамики числа уникальных юзеров'\n",
    "            , ylabel='Число юзеров'\n",
    "            , xlabel='Дата'\n",
    "            , color='salmon')\n",
    "\n",
    "for index, value in enumerate(week['unique_users']):\n",
    "    ax2.text(index, value + 100, str(round(value, 1)), ha='center', fontsize=9)\n",
    "\n",
    "ax3 = week.plot(kind='bar', x='week_day', y='avg_ticket_revenue', legend=False, grid=False\n",
    "            , ax=axes[1, 0]\n",
    "            , title='Динамики средней выручки с билета'\n",
    "            , ylabel='цена билета'\n",
    "            , xlabel='Дата'\n",
    "            , color='teal')\n",
    "\n",
    "for index, value in enumerate(week['avg_ticket_revenue']):\n",
    "    ax3.text(index, value + 4, str(round(value, 1)), ha='center', fontsize=9)\n",
    "\n",
    "ax4 = week.plot(kind='bar', x='week_day', y='tickets_per_user', legend=False, grid=False\n",
    "            , ax=axes[1, 1]\n",
    "            , title='Динамики среднего числа билетов на юзера'\n",
    "            , ylabel='Число билетов'\n",
    "            , xlabel='Дата'\n",
    "            , color='lightskyblue')\n",
    "\n",
    "for index, value in enumerate(week['tickets_per_user']):\n",
    "    ax4.text(index, value + 0.3, str(round(value, 1)), ha='center', fontsize=9)\n",
    "    \n",
    "plt.tight_layout()\n",
    "plt.show()"
   ]
  },
  {
   "cell_type": "markdown",
   "metadata": {},
   "source": [
    "Не смотря на то, что в исследуемые два месяца на 1 четверг, пятницу и субботу меньше чем остальных дней, делать вывод о том, что активность пользователей по выходным снижается, все равно можно, так как 1 день не оказывает сильного влияния.  \n",
    " - Так понедельник, суббота и воскресене - антитоп дней по числу заказов и числу уникальных юзеров, сделавших заказ.\n",
    " - Вторник, суббота и воскресене - антитоп дней по среднему числу билетов на юзера.\n",
    " - Средняя выручка с билета ближе к выходным так же растет и достигает пика в воскресенье - 201,9\n",
    " - На рафиках выделяется вторник, однако это связано с пиками, которые мы наблюдали на предыдущих графиках (они были по вторникам)"
   ]
  },
  {
   "cell_type": "markdown",
   "metadata": {},
   "source": [
    "### Популярные события и партнеры"
   ]
  },
  {
   "cell_type": "code",
   "execution_count": 47,
   "metadata": {},
   "outputs": [],
   "source": [
    "# Отфильтрую и агрегирую датафрейм, чтобы получить метрики по регионам и по партнерам\n",
    "regions = df.groupby(['region_name', 'event_type_main']).agg({'event_id':['count','nunique']\n",
    "                                        ,'revenue':'sum'}).reset_index()\n",
    "\n",
    "partners = df.groupby('service_name').agg({'event_id':['count','nunique']\n",
    "                                        ,'revenue':'sum'})\n",
    "\n",
    "partners.columns = ['order_count','event_count', 'revenue_sum']\n",
    "regions.columns = ['region', 'event_type', 'order_count','event_count', 'revenue_sum']\n",
    "\n",
    "regions = regions.sort_values(by='order_count', ascending=False)\n",
    "partners = partners.sort_values(by='order_count', ascending=False)"
   ]
  },
  {
   "cell_type": "code",
   "execution_count": 48,
   "metadata": {},
   "outputs": [
    {
     "data": {
      "text/html": [
       "<div>\n",
       "<style scoped>\n",
       "    .dataframe tbody tr th:only-of-type {\n",
       "        vertical-align: middle;\n",
       "    }\n",
       "\n",
       "    .dataframe tbody tr th {\n",
       "        vertical-align: top;\n",
       "    }\n",
       "\n",
       "    .dataframe thead th {\n",
       "        text-align: right;\n",
       "    }\n",
       "</style>\n",
       "<table border=\"1\" class=\"dataframe\">\n",
       "  <thead>\n",
       "    <tr style=\"text-align: right;\">\n",
       "      <th></th>\n",
       "      <th>region</th>\n",
       "      <th>event_type</th>\n",
       "      <th>order_count</th>\n",
       "      <th>event_count</th>\n",
       "      <th>revenue_sum</th>\n",
       "    </tr>\n",
       "  </thead>\n",
       "  <tbody>\n",
       "    <tr>\n",
       "      <th>108</th>\n",
       "      <td>Каменевский регион</td>\n",
       "      <td>концерты</td>\n",
       "      <td>36486</td>\n",
       "      <td>2822</td>\n",
       "      <td>2.946173e+07</td>\n",
       "    </tr>\n",
       "    <tr>\n",
       "      <th>111</th>\n",
       "      <td>Каменевский регион</td>\n",
       "      <td>театр</td>\n",
       "      <td>22337</td>\n",
       "      <td>1704</td>\n",
       "      <td>1.690862e+07</td>\n",
       "    </tr>\n",
       "    <tr>\n",
       "      <th>107</th>\n",
       "      <td>Каменевский регион</td>\n",
       "      <td>другое</td>\n",
       "      <td>18991</td>\n",
       "      <td>796</td>\n",
       "      <td>6.204828e+06</td>\n",
       "    </tr>\n",
       "    <tr>\n",
       "      <th>266</th>\n",
       "      <td>Североярская область</td>\n",
       "      <td>концерты</td>\n",
       "      <td>16145</td>\n",
       "      <td>1648</td>\n",
       "      <td>1.149385e+07</td>\n",
       "    </tr>\n",
       "    <tr>\n",
       "      <th>269</th>\n",
       "      <td>Североярская область</td>\n",
       "      <td>театр</td>\n",
       "      <td>11496</td>\n",
       "      <td>1258</td>\n",
       "      <td>6.832800e+06</td>\n",
       "    </tr>\n",
       "    <tr>\n",
       "      <th>265</th>\n",
       "      <td>Североярская область</td>\n",
       "      <td>другое</td>\n",
       "      <td>11266</td>\n",
       "      <td>636</td>\n",
       "      <td>2.699263e+06</td>\n",
       "    </tr>\n",
       "    <tr>\n",
       "      <th>189</th>\n",
       "      <td>Медовская область</td>\n",
       "      <td>спорт</td>\n",
       "      <td>9924</td>\n",
       "      <td>96</td>\n",
       "      <td>1.068941e+06</td>\n",
       "    </tr>\n",
       "    <tr>\n",
       "      <th>344</th>\n",
       "      <td>Широковская область</td>\n",
       "      <td>концерты</td>\n",
       "      <td>6860</td>\n",
       "      <td>493</td>\n",
       "      <td>5.558582e+06</td>\n",
       "    </tr>\n",
       "    <tr>\n",
       "      <th>181</th>\n",
       "      <td>Малиновоярский округ</td>\n",
       "      <td>концерты</td>\n",
       "      <td>5952</td>\n",
       "      <td>66</td>\n",
       "      <td>5.622339e+06</td>\n",
       "    </tr>\n",
       "    <tr>\n",
       "      <th>206</th>\n",
       "      <td>Озернинский край</td>\n",
       "      <td>концерты</td>\n",
       "      <td>5572</td>\n",
       "      <td>107</td>\n",
       "      <td>5.602924e+06</td>\n",
       "    </tr>\n",
       "  </tbody>\n",
       "</table>\n",
       "</div>"
      ],
      "text/plain": [
       "                   region event_type  order_count  event_count   revenue_sum\n",
       "108    Каменевский регион   концерты        36486         2822  2.946173e+07\n",
       "111    Каменевский регион      театр        22337         1704  1.690862e+07\n",
       "107    Каменевский регион     другое        18991          796  6.204828e+06\n",
       "266  Североярская область   концерты        16145         1648  1.149385e+07\n",
       "269  Североярская область      театр        11496         1258  6.832800e+06\n",
       "265  Североярская область     другое        11266          636  2.699263e+06\n",
       "189     Медовская область      спорт         9924           96  1.068941e+06\n",
       "344   Широковская область   концерты         6860          493  5.558582e+06\n",
       "181  Малиновоярский округ   концерты         5952           66  5.622339e+06\n",
       "206      Озернинский край   концерты         5572          107  5.602924e+06"
      ]
     },
     "execution_count": 48,
     "metadata": {},
     "output_type": "execute_result"
    }
   ],
   "source": [
    "regions.head(10)"
   ]
  },
  {
   "cell_type": "code",
   "execution_count": 49,
   "metadata": {
    "scrolled": false
   },
   "outputs": [
    {
     "data": {
      "image/png": "[encoded data removed]",
      "text/plain": [
       "<Figure size 360x504 with 1 Axes>"
      ]
     },
     "metadata": {
      "needs_background": "light"
     },
     "output_type": "display_data"
    }
   ],
   "source": [
    "# Посмотрю, как распределяется число типов мероприятий на регион\n",
    "plt.figure(figsize=(5,7))\n",
    "ax = regions.groupby('region')['event_type'].count().value_counts().sort_index().plot(kind='bar', color='teal')\n",
    "\n",
    "for index, value in enumerate(regions.groupby('region')['event_type'].count().value_counts().sort_index()):\n",
    "        ax.text(index, value + 0.4, str(round(value, 1)), ha='center', fontsize=9)\n",
    "        \n",
    "plt.xlabel('Число категорий мероприятий на регион')\n",
    "plt.ylabel('Число регионов')\n",
    "plt.title('Распределение числа уникальных категорий мероприятий на регион')\n",
    "plt.show()"
   ]
  },
  {
   "cell_type": "markdown",
   "metadata": {},
   "source": [
    "Всего 16 регионов, в которых досуг люди проводят разнообразно (7 из 7 видов мероприятий). Чаще всего в регионах 3 или 4 типа мероприятий (по 18 регионов)"
   ]
  },
  {
   "cell_type": "code",
   "execution_count": 50,
   "metadata": {},
   "outputs": [
    {
     "data": {
      "text/html": [
       "<div>\n",
       "<style scoped>\n",
       "    .dataframe tbody tr th:only-of-type {\n",
       "        vertical-align: middle;\n",
       "    }\n",
       "\n",
       "    .dataframe tbody tr th {\n",
       "        vertical-align: top;\n",
       "    }\n",
       "\n",
       "    .dataframe thead th {\n",
       "        text-align: right;\n",
       "    }\n",
       "</style>\n",
       "<table border=\"1\" class=\"dataframe\">\n",
       "  <thead>\n",
       "    <tr style=\"text-align: right;\">\n",
       "      <th></th>\n",
       "      <th>order_count</th>\n",
       "      <th>event_count</th>\n",
       "      <th>revenue_sum</th>\n",
       "    </tr>\n",
       "    <tr>\n",
       "      <th>region</th>\n",
       "      <th></th>\n",
       "      <th></th>\n",
       "      <th></th>\n",
       "    </tr>\n",
       "  </thead>\n",
       "  <tbody>\n",
       "    <tr>\n",
       "      <th>Каменевский регион</th>\n",
       "      <td>90637</td>\n",
       "      <td>5964</td>\n",
       "      <td>5.898220e+07</td>\n",
       "    </tr>\n",
       "    <tr>\n",
       "      <th>Североярская область</th>\n",
       "      <td>43849</td>\n",
       "      <td>3806</td>\n",
       "      <td>2.264212e+07</td>\n",
       "    </tr>\n",
       "    <tr>\n",
       "      <th>Широковская область</th>\n",
       "      <td>16434</td>\n",
       "      <td>1233</td>\n",
       "      <td>9.429041e+06</td>\n",
       "    </tr>\n",
       "    <tr>\n",
       "      <th>Медовская область</th>\n",
       "      <td>13896</td>\n",
       "      <td>504</td>\n",
       "      <td>2.941588e+06</td>\n",
       "    </tr>\n",
       "    <tr>\n",
       "      <th>Озернинский край</th>\n",
       "      <td>10474</td>\n",
       "      <td>349</td>\n",
       "      <td>9.768752e+06</td>\n",
       "    </tr>\n",
       "    <tr>\n",
       "      <th>Светополянский округ</th>\n",
       "      <td>7574</td>\n",
       "      <td>1075</td>\n",
       "      <td>3.266715e+06</td>\n",
       "    </tr>\n",
       "    <tr>\n",
       "      <th>Малиновоярский округ</th>\n",
       "      <td>6612</td>\n",
       "      <td>165</td>\n",
       "      <td>5.915762e+06</td>\n",
       "    </tr>\n",
       "    <tr>\n",
       "      <th>Речиновская область</th>\n",
       "      <td>6289</td>\n",
       "      <td>702</td>\n",
       "      <td>2.694402e+06</td>\n",
       "    </tr>\n",
       "    <tr>\n",
       "      <th>Солнечноземская область</th>\n",
       "      <td>6287</td>\n",
       "      <td>522</td>\n",
       "      <td>1.206035e+06</td>\n",
       "    </tr>\n",
       "    <tr>\n",
       "      <th>Яблоневская область</th>\n",
       "      <td>6172</td>\n",
       "      <td>535</td>\n",
       "      <td>3.656180e+06</td>\n",
       "    </tr>\n",
       "  </tbody>\n",
       "</table>\n",
       "</div>"
      ],
      "text/plain": [
       "                         order_count  event_count   revenue_sum\n",
       "region                                                         \n",
       "Каменевский регион             90637         5964  5.898220e+07\n",
       "Североярская область           43849         3806  2.264212e+07\n",
       "Широковская область            16434         1233  9.429041e+06\n",
       "Медовская область              13896          504  2.941588e+06\n",
       "Озернинский край               10474          349  9.768752e+06\n",
       "Светополянский округ            7574         1075  3.266715e+06\n",
       "Малиновоярский округ            6612          165  5.915762e+06\n",
       "Речиновская область             6289          702  2.694402e+06\n",
       "Солнечноземская область         6287          522  1.206035e+06\n",
       "Яблоневская область             6172          535  3.656180e+06"
      ]
     },
     "execution_count": 50,
     "metadata": {},
     "output_type": "execute_result"
    }
   ],
   "source": [
    "regions = regions.groupby('region')[['order_count', 'event_count', 'revenue_sum']].sum()\n",
    "regions.columns = ['order_count', 'event_count', 'revenue_sum']\n",
    "regions = regions.sort_values(by='order_count', ascending=False)\n",
    "regions.head(10)"
   ]
  },
  {
   "cell_type": "code",
   "execution_count": 51,
   "metadata": {},
   "outputs": [
    {
     "data": {
      "text/html": [
       "<div>\n",
       "<style scoped>\n",
       "    .dataframe tbody tr th:only-of-type {\n",
       "        vertical-align: middle;\n",
       "    }\n",
       "\n",
       "    .dataframe tbody tr th {\n",
       "        vertical-align: top;\n",
       "    }\n",
       "\n",
       "    .dataframe thead th {\n",
       "        text-align: right;\n",
       "    }\n",
       "</style>\n",
       "<table border=\"1\" class=\"dataframe\">\n",
       "  <thead>\n",
       "    <tr style=\"text-align: right;\">\n",
       "      <th></th>\n",
       "      <th>order_count</th>\n",
       "      <th>event_count</th>\n",
       "      <th>revenue_sum</th>\n",
       "      <th>orders_share</th>\n",
       "      <th>revenue_share</th>\n",
       "      <th>event_share</th>\n",
       "    </tr>\n",
       "    <tr>\n",
       "      <th>region</th>\n",
       "      <th></th>\n",
       "      <th></th>\n",
       "      <th></th>\n",
       "      <th></th>\n",
       "      <th></th>\n",
       "      <th></th>\n",
       "    </tr>\n",
       "  </thead>\n",
       "  <tbody>\n",
       "    <tr>\n",
       "      <th>Каменевский регион</th>\n",
       "      <td>90637</td>\n",
       "      <td>5964</td>\n",
       "      <td>5.898220e+07</td>\n",
       "      <td>0.31</td>\n",
       "      <td>0.33</td>\n",
       "      <td>0.27</td>\n",
       "    </tr>\n",
       "    <tr>\n",
       "      <th>Североярская область</th>\n",
       "      <td>43849</td>\n",
       "      <td>3806</td>\n",
       "      <td>2.264212e+07</td>\n",
       "      <td>0.15</td>\n",
       "      <td>0.13</td>\n",
       "      <td>0.17</td>\n",
       "    </tr>\n",
       "    <tr>\n",
       "      <th>Широковская область</th>\n",
       "      <td>16434</td>\n",
       "      <td>1233</td>\n",
       "      <td>9.429041e+06</td>\n",
       "      <td>0.06</td>\n",
       "      <td>0.05</td>\n",
       "      <td>0.06</td>\n",
       "    </tr>\n",
       "    <tr>\n",
       "      <th>Медовская область</th>\n",
       "      <td>13896</td>\n",
       "      <td>504</td>\n",
       "      <td>2.941588e+06</td>\n",
       "      <td>0.05</td>\n",
       "      <td>0.02</td>\n",
       "      <td>0.02</td>\n",
       "    </tr>\n",
       "    <tr>\n",
       "      <th>Озернинский край</th>\n",
       "      <td>10474</td>\n",
       "      <td>349</td>\n",
       "      <td>9.768752e+06</td>\n",
       "      <td>0.04</td>\n",
       "      <td>0.06</td>\n",
       "      <td>0.02</td>\n",
       "    </tr>\n",
       "    <tr>\n",
       "      <th>Светополянский округ</th>\n",
       "      <td>7574</td>\n",
       "      <td>1075</td>\n",
       "      <td>3.266715e+06</td>\n",
       "      <td>0.03</td>\n",
       "      <td>0.02</td>\n",
       "      <td>0.05</td>\n",
       "    </tr>\n",
       "    <tr>\n",
       "      <th>Малиновоярский округ</th>\n",
       "      <td>6612</td>\n",
       "      <td>165</td>\n",
       "      <td>5.915762e+06</td>\n",
       "      <td>0.02</td>\n",
       "      <td>0.03</td>\n",
       "      <td>0.01</td>\n",
       "    </tr>\n",
       "    <tr>\n",
       "      <th>Речиновская область</th>\n",
       "      <td>6289</td>\n",
       "      <td>702</td>\n",
       "      <td>2.694402e+06</td>\n",
       "      <td>0.02</td>\n",
       "      <td>0.02</td>\n",
       "      <td>0.03</td>\n",
       "    </tr>\n",
       "    <tr>\n",
       "      <th>Солнечноземская область</th>\n",
       "      <td>6287</td>\n",
       "      <td>522</td>\n",
       "      <td>1.206035e+06</td>\n",
       "      <td>0.02</td>\n",
       "      <td>0.01</td>\n",
       "      <td>0.02</td>\n",
       "    </tr>\n",
       "    <tr>\n",
       "      <th>Яблоневская область</th>\n",
       "      <td>6172</td>\n",
       "      <td>535</td>\n",
       "      <td>3.656180e+06</td>\n",
       "      <td>0.02</td>\n",
       "      <td>0.02</td>\n",
       "      <td>0.02</td>\n",
       "    </tr>\n",
       "  </tbody>\n",
       "</table>\n",
       "</div>"
      ],
      "text/plain": [
       "                         order_count  event_count   revenue_sum  orders_share  \\\n",
       "region                                                                          \n",
       "Каменевский регион             90637         5964  5.898220e+07          0.31   \n",
       "Североярская область           43849         3806  2.264212e+07          0.15   \n",
       "Широковская область            16434         1233  9.429041e+06          0.06   \n",
       "Медовская область              13896          504  2.941588e+06          0.05   \n",
       "Озернинский край               10474          349  9.768752e+06          0.04   \n",
       "Светополянский округ            7574         1075  3.266715e+06          0.03   \n",
       "Малиновоярский округ            6612          165  5.915762e+06          0.02   \n",
       "Речиновская область             6289          702  2.694402e+06          0.02   \n",
       "Солнечноземская область         6287          522  1.206035e+06          0.02   \n",
       "Яблоневская область             6172          535  3.656180e+06          0.02   \n",
       "\n",
       "                         revenue_share  event_share  \n",
       "region                                               \n",
       "Каменевский регион                0.33         0.27  \n",
       "Североярская область              0.13         0.17  \n",
       "Широковская область               0.05         0.06  \n",
       "Медовская область                 0.02         0.02  \n",
       "Озернинский край                  0.06         0.02  \n",
       "Светополянский округ              0.02         0.05  \n",
       "Малиновоярский округ              0.03         0.01  \n",
       "Речиновская область               0.02         0.03  \n",
       "Солнечноземская область           0.01         0.02  \n",
       "Яблоневская область               0.02         0.02  "
      ]
     },
     "execution_count": 51,
     "metadata": {},
     "output_type": "execute_result"
    }
   ],
   "source": [
    "regions['orders_share'] = round(regions['order_count']/regions['order_count'].sum(), 2)\n",
    "regions['revenue_share'] = round(regions['revenue_sum']/regions['revenue_sum'].sum(), 2)\n",
    "regions['event_share'] = round(regions['event_count']/regions['event_count'].sum(), 2)\n",
    "regions.head(10)"
   ]
  },
  {
   "cell_type": "markdown",
   "metadata": {},
   "source": [
    "По таблице видно, что топы по числу заказов и по выручке будут отличаться. Визуализирую топы для наглядности"
   ]
  },
  {
   "cell_type": "code",
   "execution_count": 52,
   "metadata": {
    "scrolled": false
   },
   "outputs": [
    {
     "data": {
      "image/png": "[encoded data removed]",
      "text/plain": [
       "<Figure size 1008x504 with 2 Axes>"
      ]
     },
     "metadata": {
      "needs_background": "light"
     },
     "output_type": "display_data"
    }
   ],
   "source": [
    "# Построю диаграммы топов регионов\n",
    "fig, axes = plt.subplots(1, 2, figsize=(14, 7))\n",
    "\n",
    "ax1 = regions.reset_index().sort_values(by='orders_share', ascending=False).head(5).plot(kind='bar'\n",
    "                                                                           , x='region'\n",
    "                                                                           , y='orders_share'\n",
    "                                                                           , legend=False\n",
    "                                                                           , grid=False\n",
    "                                                                           , ax=axes[0]\n",
    "                                                                           , title='Топ 5 регионов по числу заказов'\n",
    "                                                                           , ylabel='Доля от общего числа заказов'\n",
    "                                                                           , xlabel='Регион'\n",
    "                                                                           , color='teal'\n",
    "                                                                           )\n",
    "ax1.set_xticklabels(ax1.get_xticklabels(), rotation=15)\n",
    "\n",
    "for index, value in enumerate(regions.reset_index().sort_values(by='orders_share', ascending=False).head(5)['orders_share']):\n",
    "    ax1.text(index, value + 0.006, str(round(value, 3)), ha='center', fontsize=9)\n",
    "\n",
    "    \n",
    "    \n",
    "ax2 = regions.reset_index().sort_values(by='revenue_share', ascending=False).head(5).plot(kind='bar'\n",
    "                                                                           , x='region'\n",
    "                                                                           , y='revenue_share'\n",
    "                                                                           , legend=False\n",
    "                                                                           , grid=False\n",
    "                                                                           , ax=axes[1]\n",
    "                                                                           , title='Топ 5 регионов по выручке'\n",
    "                                                                           , ylabel='Доля от суммарной выручки'\n",
    "                                                                           , xlabel='Регион'\n",
    "                                                                           , color='salmon'\n",
    "                                                                           )\n",
    "ax2.set_xticklabels(ax2.get_xticklabels(), rotation=15)\n",
    "\n",
    "for index, value in enumerate(regions.reset_index().sort_values(by='revenue_share', ascending=False).head(5)['revenue_share']):\n",
    "    ax2.text(index, value + 0.006, str(round(value, 3)), ha='center', fontsize=9)\n",
    "    \n",
    "    \n",
    "    \n",
    "plt.tight_layout()\n",
    "plt.show()"
   ]
  },
  {
   "cell_type": "code",
   "execution_count": 53,
   "metadata": {},
   "outputs": [
    {
     "data": {
      "image/png": "[encoded data removed]",
      "text/plain": [
       "<Figure size 432x504 with 1 Axes>"
      ]
     },
     "metadata": {
      "needs_background": "light"
     },
     "output_type": "display_data"
    }
   ],
   "source": [
    "plt.rcParams[\"figure.figsize\"] = (6,7)\n",
    "ax1 = regions.reset_index().sort_values(by='event_share', ascending=False).head(5).plot(kind='bar'\n",
    "                                                                           , x='region'\n",
    "                                                                           , y='event_share'\n",
    "                                                                           , legend=False\n",
    "                                                                           , grid=False\n",
    "\n",
    "                                                                           , title='Топ 5 регионов по числу ивентов'\n",
    "                                                                           , ylabel='Доля от общего числа ивентов'\n",
    "                                                                           , xlabel='Регион'\n",
    "                                                                           , color='lightblue'\n",
    "                                                                           )\n",
    "ax1.set_xticklabels(ax1.get_xticklabels(), rotation=15)\n",
    "\n",
    "for index, value in enumerate(regions.reset_index().sort_values(by='event_share', ascending=False).head(5)['event_share']):\n",
    "    ax1.text(index, value + 0.006, str(round(value, 3)), ha='center', fontsize=9)"
   ]
  },
  {
   "cell_type": "markdown",
   "metadata": {},
   "source": [
    "Как видно на графике топы немного отличаются, однако Каменевский регион - абсолютный лидер в обеих гонках"
   ]
  },
  {
   "cell_type": "code",
   "execution_count": 54,
   "metadata": {},
   "outputs": [
    {
     "data": {
      "text/html": [
       "<div>\n",
       "<style scoped>\n",
       "    .dataframe tbody tr th:only-of-type {\n",
       "        vertical-align: middle;\n",
       "    }\n",
       "\n",
       "    .dataframe tbody tr th {\n",
       "        vertical-align: top;\n",
       "    }\n",
       "\n",
       "    .dataframe thead th {\n",
       "        text-align: right;\n",
       "    }\n",
       "</style>\n",
       "<table border=\"1\" class=\"dataframe\">\n",
       "  <thead>\n",
       "    <tr style=\"text-align: right;\">\n",
       "      <th></th>\n",
       "      <th>service_name</th>\n",
       "      <th>order_count</th>\n",
       "      <th>event_count</th>\n",
       "      <th>revenue_sum</th>\n",
       "      <th>orders_share</th>\n",
       "      <th>revenue_share</th>\n",
       "      <th>event_share</th>\n",
       "    </tr>\n",
       "  </thead>\n",
       "  <tbody>\n",
       "    <tr>\n",
       "      <th>0</th>\n",
       "      <td>Билеты без проблем</td>\n",
       "      <td>63258</td>\n",
       "      <td>4247</td>\n",
       "      <td>2.792997e+07</td>\n",
       "      <td>0.22</td>\n",
       "      <td>0.16</td>\n",
       "      <td>0.17</td>\n",
       "    </tr>\n",
       "    <tr>\n",
       "      <th>1</th>\n",
       "      <td>Лови билет!</td>\n",
       "      <td>41093</td>\n",
       "      <td>4878</td>\n",
       "      <td>1.754455e+07</td>\n",
       "      <td>0.14</td>\n",
       "      <td>0.10</td>\n",
       "      <td>0.20</td>\n",
       "    </tr>\n",
       "    <tr>\n",
       "      <th>2</th>\n",
       "      <td>Билеты в руки</td>\n",
       "      <td>40323</td>\n",
       "      <td>3536</td>\n",
       "      <td>1.333856e+07</td>\n",
       "      <td>0.14</td>\n",
       "      <td>0.08</td>\n",
       "      <td>0.14</td>\n",
       "    </tr>\n",
       "    <tr>\n",
       "      <th>3</th>\n",
       "      <td>Мой билет</td>\n",
       "      <td>34754</td>\n",
       "      <td>1303</td>\n",
       "      <td>4.095472e+07</td>\n",
       "      <td>0.12</td>\n",
       "      <td>0.23</td>\n",
       "      <td>0.05</td>\n",
       "    </tr>\n",
       "    <tr>\n",
       "      <th>4</th>\n",
       "      <td>Облачко</td>\n",
       "      <td>26557</td>\n",
       "      <td>2343</td>\n",
       "      <td>1.904130e+07</td>\n",
       "      <td>0.09</td>\n",
       "      <td>0.11</td>\n",
       "      <td>0.10</td>\n",
       "    </tr>\n",
       "    <tr>\n",
       "      <th>5</th>\n",
       "      <td>Лучшие билеты</td>\n",
       "      <td>17760</td>\n",
       "      <td>1762</td>\n",
       "      <td>2.807153e+06</td>\n",
       "      <td>0.06</td>\n",
       "      <td>0.02</td>\n",
       "      <td>0.07</td>\n",
       "    </tr>\n",
       "    <tr>\n",
       "      <th>6</th>\n",
       "      <td>Весь в билетах</td>\n",
       "      <td>16728</td>\n",
       "      <td>864</td>\n",
       "      <td>1.743345e+07</td>\n",
       "      <td>0.06</td>\n",
       "      <td>0.10</td>\n",
       "      <td>0.04</td>\n",
       "    </tr>\n",
       "    <tr>\n",
       "      <th>7</th>\n",
       "      <td>Прачечная</td>\n",
       "      <td>10273</td>\n",
       "      <td>1027</td>\n",
       "      <td>4.900985e+06</td>\n",
       "      <td>0.04</td>\n",
       "      <td>0.03</td>\n",
       "      <td>0.04</td>\n",
       "    </tr>\n",
       "    <tr>\n",
       "      <th>8</th>\n",
       "      <td>Край билетов</td>\n",
       "      <td>6187</td>\n",
       "      <td>252</td>\n",
       "      <td>6.630373e+06</td>\n",
       "      <td>0.02</td>\n",
       "      <td>0.04</td>\n",
       "      <td>0.01</td>\n",
       "    </tr>\n",
       "    <tr>\n",
       "      <th>9</th>\n",
       "      <td>Тебе билет!</td>\n",
       "      <td>5225</td>\n",
       "      <td>1062</td>\n",
       "      <td>3.065265e+06</td>\n",
       "      <td>0.02</td>\n",
       "      <td>0.02</td>\n",
       "      <td>0.04</td>\n",
       "    </tr>\n",
       "  </tbody>\n",
       "</table>\n",
       "</div>"
      ],
      "text/plain": [
       "         service_name  order_count  event_count   revenue_sum  orders_share  \\\n",
       "0  Билеты без проблем        63258         4247  2.792997e+07          0.22   \n",
       "1         Лови билет!        41093         4878  1.754455e+07          0.14   \n",
       "2       Билеты в руки        40323         3536  1.333856e+07          0.14   \n",
       "3           Мой билет        34754         1303  4.095472e+07          0.12   \n",
       "4             Облачко        26557         2343  1.904130e+07          0.09   \n",
       "5       Лучшие билеты        17760         1762  2.807153e+06          0.06   \n",
       "6      Весь в билетах        16728          864  1.743345e+07          0.06   \n",
       "7           Прачечная        10273         1027  4.900985e+06          0.04   \n",
       "8        Край билетов         6187          252  6.630373e+06          0.02   \n",
       "9         Тебе билет!         5225         1062  3.065265e+06          0.02   \n",
       "\n",
       "   revenue_share  event_share  \n",
       "0           0.16         0.17  \n",
       "1           0.10         0.20  \n",
       "2           0.08         0.14  \n",
       "3           0.23         0.05  \n",
       "4           0.11         0.10  \n",
       "5           0.02         0.07  \n",
       "6           0.10         0.04  \n",
       "7           0.03         0.04  \n",
       "8           0.04         0.01  \n",
       "9           0.02         0.04  "
      ]
     },
     "execution_count": 54,
     "metadata": {},
     "output_type": "execute_result"
    }
   ],
   "source": [
    "partners = partners.reset_index()\n",
    "partners['orders_share'] = round(partners['order_count']/partners['order_count'].sum(), 2)\n",
    "partners['revenue_share'] = round(partners['revenue_sum']/partners['revenue_sum'].sum(), 2)\n",
    "partners['event_share'] = round(partners['event_count']/partners['event_count'].sum(), 2)\n",
    "partners.head(10)"
   ]
  },
  {
   "cell_type": "code",
   "execution_count": 55,
   "metadata": {},
   "outputs": [
    {
     "data": {
      "image/png": "[encoded data removed]",
      "text/plain": [
       "<Figure size 1008x504 with 2 Axes>"
      ]
     },
     "metadata": {
      "needs_background": "light"
     },
     "output_type": "display_data"
    }
   ],
   "source": [
    "fig, axes = plt.subplots(1, 2, figsize=(14, 7))\n",
    "\n",
    "ax1 = partners.reset_index().sort_values(by='orders_share', ascending=False).head(5).plot(kind='bar'\n",
    "                                                                           , x='service_name'\n",
    "                                                                           , y='orders_share'\n",
    "                                                                           , legend=False\n",
    "                                                                           , grid=False\n",
    "                                                                           , ax=axes[0]\n",
    "                                                                           , title='Топ 5 сервисов по числу заказов'\n",
    "                                                                           , ylabel='Доля от общего числа заказов'\n",
    "                                                                           , xlabel='Сервис'\n",
    "                                                                           , color='teal'\n",
    "                                                                           )\n",
    "ax1.set_xticklabels(ax1.get_xticklabels(), rotation=15)\n",
    "\n",
    "for index, value in enumerate(partners.reset_index().sort_values(by='orders_share', ascending=False).head(5)['orders_share']):\n",
    "    ax1.text(index, value + 0.006, str(round(value, 3)), ha='center', fontsize=9)\n",
    "\n",
    "    \n",
    "    \n",
    "ax2 = partners.reset_index().sort_values(by='revenue_share', ascending=False).head(5).plot(kind='bar'\n",
    "                                                                           , x='service_name'\n",
    "                                                                           , y='revenue_share'\n",
    "                                                                           , legend=False\n",
    "                                                                           , grid=False\n",
    "                                                                           , ax=axes[1]\n",
    "                                                                           , title='Топ 5 сервисов по выручке'\n",
    "                                                                           , ylabel='Доля от суммарной выручки'\n",
    "                                                                           , xlabel='Сервис'\n",
    "                                                                           , color='salmon'\n",
    "                                                                           )\n",
    "ax2.set_xticklabels(ax2.get_xticklabels(), rotation=15)\n",
    "\n",
    "for index, value in enumerate(partners.reset_index().sort_values(by='revenue_share', ascending=False).head(5)['revenue_share']):\n",
    "    ax2.text(index, value + 0.006, str(round(value, 3)), ha='center', fontsize=9)\n",
    "    \n",
    "    \n",
    "    \n",
    "plt.tight_layout()\n",
    "plt.show()"
   ]
  },
  {
   "cell_type": "code",
   "execution_count": 56,
   "metadata": {
    "scrolled": false
   },
   "outputs": [
    {
     "data": {
      "image/png": "[encoded data removed]",
      "text/plain": [
       "<Figure size 432x504 with 1 Axes>"
      ]
     },
     "metadata": {
      "needs_background": "light"
     },
     "output_type": "display_data"
    }
   ],
   "source": [
    "plt.rcParams[\"figure.figsize\"] = (6,7)\n",
    "ax1 = partners.reset_index().sort_values(by='event_share', ascending=False).head(5).plot(kind='bar'\n",
    "                                                                           , x='service_name'\n",
    "                                                                           , y='event_share'\n",
    "                                                                           , legend=False\n",
    "                                                                           , grid=False\n",
    "\n",
    "                                                                           , title='Топ 5 сервисов по числу ивентов'\n",
    "                                                                           , ylabel='Доля от общего числа ивентов'\n",
    "                                                                           , xlabel='Сервис'\n",
    "                                                                           , color='lightblue'\n",
    "                                                                           )\n",
    "ax1.set_xticklabels(ax1.get_xticklabels(), rotation=15)\n",
    "\n",
    "for index, value in enumerate(partners.reset_index().sort_values(by='event_share', ascending=False).head(5)['event_share']):\n",
    "    ax1.text(index, value + 0.002, str(round(value, 3)), ha='center', fontsize=9)"
   ]
  },
  {
   "cell_type": "markdown",
   "metadata": {},
   "source": [
    "Абсолютного лидера в трех номинациях в данном случае нет"
   ]
  },
  {
   "cell_type": "markdown",
   "metadata": {},
   "source": [
    "В общем и целом продажи билетов не распределены по регионам равномерно. Таким образом только в 5 регионах было продано более 10к билетов и только в 13 регионах более 5к билетов.\n",
    "В трех топах (по долям выручки, ивентов, заказов) фигурируют только 7 регионов, меняясь местами:\n",
    " - Каменевский регион\n",
    " - Североярская область\n",
    " - Широковская область\n",
    " - Медовская область\t\n",
    " - Озернинский край\t\n",
    " - Светополянский округ\t\n",
    " - Шанырский регион\n",
    " \n",
    " И только Каменевский регион неизменно стоит во всех топах на первом месте"
   ]
  },
  {
   "cell_type": "markdown",
   "metadata": {},
   "source": [
    "продажи билетов по сервисам распределены чуть более равномерно. Так из 30 сервисов, 11 продали более 5к билетов за период, из них 7 - продали более 10к.\n",
    "\n",
    "В трех топах (по долям выручки, ивентов, заказов) фигурируют только 7 регионов, меняясь местами:\n",
    " - Билеты без проблем\n",
    " - Билеты в руки\n",
    " - Лови билет!\n",
    " - Мой билет\t\t\n",
    " - Облачко\n",
    " - Весь в билетах\t\t\n",
    " - Лучшие билеты\t\n",
    " \n",
    "Стоит обратить внимание на \"Билеты без проблем\", который оформил больше всех заказов и находится на 2-м месте по числу ивентов и выручке.\n",
    "\n",
    "С результатами более подробно можно ознакомиться на графиках.\n"
   ]
  },
  {
   "cell_type": "markdown",
   "metadata": {},
   "source": [
    "### Вывод к исследовательскому анализу\n",
    "\n",
    "В ходе анализа, были исследованны заказы по сегментам и их сезонные изменения:\n",
    "\n",
    "   - Осенью действительно продавалось больше билетов, не смотря на то, что за осень брали только 2 месяца против 3-х летних;\n",
    "   - Осенью увеличилась средняя цена билета стендапов и выставок (около 5%), уменьшилась сильнее всего доля театров(около 15%);\n",
    "   - Выросла доля театров, ёлок и спорта, уменьшилась - стендапа и другое.\n",
    "   \n",
    "Так же была проанализированная активность пользователей осенью:\n",
    "        \n",
    "   - Были найдены пиковые по числу закзов и \"ямы\" по средней выручки с билета дни - 03.09 и 01.10. Даты требуют дальнейшего анализа;\n",
    "   - Рост числа уникальных юзеров по дням стаблильный, пиковые значения наблюдаются по четвергам\n",
    "   - При анализе данных по дням недели выявлено, что по выходным и в понедельник активность пользователей снижается.\n",
    "\n",
    "Анализ популярных событий и партнеров выявил:\n",
    "\n",
    "   - Топ-5 регионов по выручке, числу заказов, количеству мероприятий;\n",
    "   - Топ-5 сервисов по выручке, числу заказов, количеству мероприятий;\n",
    "   - Активность в регионах распределена неравномерно - из 81 региона больше 50% заказов и выручки приходится на 3 региона. Сервисы распределны чуть более равномерно - из 36 сервисов, более 50% выручки приносят 5 сервисов.\n",
    " "
   ]
  },
  {
   "cell_type": "markdown",
   "metadata": {},
   "source": [
    "## Статистический анализ данных"
   ]
  },
  {
   "cell_type": "markdown",
   "metadata": {},
   "source": [
    "Перед проверкой гипотиз изучу сравниваемые данные"
   ]
  },
  {
   "cell_type": "code",
   "execution_count": 57,
   "metadata": {},
   "outputs": [
    {
     "data": {
      "image/png": "[encoded data removed]",
      "text/plain": [
       "<Figure size 432x432 with 1 Axes>"
      ]
     },
     "metadata": {
      "needs_background": "light"
     },
     "output_type": "display_data"
    }
   ],
   "source": [
    "plt.rcParams[\"figure.figsize\"] = (6,6)\n",
    "\n",
    "df[df['season']=='осень'].groupby('device_type_canonical')['user_id'].nunique().plot(kind='bar', grid=False)\n",
    "\n",
    "plt.xlabel('тип устройства')\n",
    "plt.ylabel('Число уникальных юзеров')\n",
    "plt.title('Распределение юзеров по устройствам')\n",
    "\n",
    "plt.text(0, df[df['season']=='осень'].groupby('device_type_canonical')['user_id'].nunique()[0] + 100, \n",
    "         df[df['season']=='осень'].groupby('device_type_canonical')['user_id'].nunique()[0], fontweight='bold', size=10, ha='center')\n",
    "\n",
    "plt.text(1, df[df['season']=='осень'].groupby('device_type_canonical')['user_id'].nunique()[1] + 100, \n",
    "         df[df['season']=='осень'].groupby('device_type_canonical')['user_id'].nunique()[1], fontweight='bold', size=10, ha='center')\n",
    "\n",
    "plt.show()"
   ]
  },
  {
   "cell_type": "markdown",
   "metadata": {},
   "source": [
    "Выборки в данном случае не сбалансированые - так число юзеров телефонов > числа юзеров компьютеров, что увеличивает вероятность совершить ошибку второго рода. \n",
    "\n",
    "агрегирую данные по юзерам, чтобы изучить выборки на предмет зависимости (дублирования юзеров в обеих группах)"
   ]
  },
  {
   "cell_type": "code",
   "execution_count": 58,
   "metadata": {},
   "outputs": [],
   "source": [
    "# Создам разные датафреймы для разных тестов, \n",
    "# так как при проверки времени между заказами буду учитывать только юзеров с числом заказов >= 2\n",
    "\n",
    "df[\"orders_count_per_user\"] = df.groupby(\"user_id\")[\"order_id\"].transform(\"count\")\n",
    "\n",
    "df_orders_test = df[df['season']=='осень'].groupby(['device_type_canonical', 'user_id'])['order_id'].count().reset_index()\n",
    "\n",
    "df_time_test = df[(df['days_since_prev'].notna())\n",
    "                 & (df['orders_count_per_user'] >= 2)\n",
    "                 & (df['season']=='осень')].groupby(['device_type_canonical', 'user_id'])['days_since_prev'].mean().reset_index()"
   ]
  },
  {
   "cell_type": "markdown",
   "metadata": {},
   "source": [
    "Начну с проверки среднего количества заказов на одного пользователя. Для этого подготовлю данные датафрейма df_orders_test к статистическому тесту"
   ]
  },
  {
   "cell_type": "code",
   "execution_count": 59,
   "metadata": {},
   "outputs": [
    {
     "data": {
      "text/html": [
       "<div>\n",
       "<style scoped>\n",
       "    .dataframe tbody tr th:only-of-type {\n",
       "        vertical-align: middle;\n",
       "    }\n",
       "\n",
       "    .dataframe tbody tr th {\n",
       "        vertical-align: top;\n",
       "    }\n",
       "\n",
       "    .dataframe thead th {\n",
       "        text-align: right;\n",
       "    }\n",
       "</style>\n",
       "<table border=\"1\" class=\"dataframe\">\n",
       "  <thead>\n",
       "    <tr style=\"text-align: right;\">\n",
       "      <th></th>\n",
       "      <th>device_type_canonical</th>\n",
       "      <th>user_id</th>\n",
       "      <th>order_id</th>\n",
       "    </tr>\n",
       "  </thead>\n",
       "  <tbody>\n",
       "    <tr>\n",
       "      <th>4900</th>\n",
       "      <td>mobile</td>\n",
       "      <td>0028d17a676f8c8</td>\n",
       "      <td>1</td>\n",
       "    </tr>\n",
       "    <tr>\n",
       "      <th>4901</th>\n",
       "      <td>mobile</td>\n",
       "      <td>002b75ca606ba46</td>\n",
       "      <td>1</td>\n",
       "    </tr>\n",
       "    <tr>\n",
       "      <th>4902</th>\n",
       "      <td>mobile</td>\n",
       "      <td>002ec276eee9b0b</td>\n",
       "      <td>11</td>\n",
       "    </tr>\n",
       "    <tr>\n",
       "      <th>4912</th>\n",
       "      <td>mobile</td>\n",
       "      <td>005fefeabf1e678</td>\n",
       "      <td>1</td>\n",
       "    </tr>\n",
       "    <tr>\n",
       "      <th>4920</th>\n",
       "      <td>mobile</td>\n",
       "      <td>009201290d7316b</td>\n",
       "      <td>14</td>\n",
       "    </tr>\n",
       "    <tr>\n",
       "      <th>...</th>\n",
       "      <td>...</td>\n",
       "      <td>...</td>\n",
       "      <td>...</td>\n",
       "    </tr>\n",
       "    <tr>\n",
       "      <th>19086</th>\n",
       "      <td>mobile</td>\n",
       "      <td>ff684621b134cc4</td>\n",
       "      <td>48</td>\n",
       "    </tr>\n",
       "    <tr>\n",
       "      <th>19094</th>\n",
       "      <td>mobile</td>\n",
       "      <td>ff840c2bf377690</td>\n",
       "      <td>5</td>\n",
       "    </tr>\n",
       "    <tr>\n",
       "      <th>19097</th>\n",
       "      <td>mobile</td>\n",
       "      <td>ff9310a90294d5c</td>\n",
       "      <td>22</td>\n",
       "    </tr>\n",
       "    <tr>\n",
       "      <th>19103</th>\n",
       "      <td>mobile</td>\n",
       "      <td>ffb51f6745ee8a2</td>\n",
       "      <td>1</td>\n",
       "    </tr>\n",
       "    <tr>\n",
       "      <th>19117</th>\n",
       "      <td>mobile</td>\n",
       "      <td>fffcd3dde79eb2c</td>\n",
       "      <td>14</td>\n",
       "    </tr>\n",
       "  </tbody>\n",
       "</table>\n",
       "<p>3266 rows × 3 columns</p>\n",
       "</div>"
      ],
      "text/plain": [
       "      device_type_canonical          user_id  order_id\n",
       "4900                 mobile  0028d17a676f8c8         1\n",
       "4901                 mobile  002b75ca606ba46         1\n",
       "4902                 mobile  002ec276eee9b0b        11\n",
       "4912                 mobile  005fefeabf1e678         1\n",
       "4920                 mobile  009201290d7316b        14\n",
       "...                     ...              ...       ...\n",
       "19086                mobile  ff684621b134cc4        48\n",
       "19094                mobile  ff840c2bf377690         5\n",
       "19097                mobile  ff9310a90294d5c        22\n",
       "19103                mobile  ffb51f6745ee8a2         1\n",
       "19117                mobile  fffcd3dde79eb2c        14\n",
       "\n",
       "[3266 rows x 3 columns]"
      ]
     },
     "execution_count": 59,
     "metadata": {},
     "output_type": "execute_result"
    }
   ],
   "source": [
    "# Проверю, сколько пользователей используют и пк и телефон\n",
    "df_orders_test[df_orders_test.duplicated(subset='user_id')]"
   ]
  },
  {
   "cell_type": "markdown",
   "metadata": {},
   "source": [
    "3к+ пользователей используют и ПК, и телефон. Удалю их из списка \"мобильных\" юзеров, чтобы сократить численную разницу в выборках и сократить вероятность возникновения ошибки второго рода"
   ]
  },
  {
   "cell_type": "code",
   "execution_count": 60,
   "metadata": {
    "scrolled": true
   },
   "outputs": [
    {
     "name": "stdout",
     "output_type": "stream",
     "text": [
      "<class 'pandas.core.frame.DataFrame'>\n",
      "Int64Index: 15853 entries, 0 to 19118\n",
      "Data columns (total 3 columns):\n",
      " #   Column                 Non-Null Count  Dtype \n",
      "---  ------                 --------------  ----- \n",
      " 0   device_type_canonical  15853 non-null  object\n",
      " 1   user_id                15853 non-null  object\n",
      " 2   order_id               15853 non-null  int64 \n",
      "dtypes: int64(1), object(2)\n",
      "memory usage: 495.4+ KB\n"
     ]
    }
   ],
   "source": [
    "df_orders_test = df_orders_test.sort_values(by='device_type_canonical').drop_duplicates(subset='user_id', keep='first')\n",
    "df_orders_test.info()"
   ]
  },
  {
   "cell_type": "code",
   "execution_count": 61,
   "metadata": {},
   "outputs": [
    {
     "data": {
      "image/png": "[encoded data removed]",
      "text/plain": [
       "<Figure size 432x432 with 1 Axes>"
      ]
     },
     "metadata": {
      "needs_background": "light"
     },
     "output_type": "display_data"
    }
   ],
   "source": [
    "# Проверю, как теперь распределяются данные по группам\n",
    "\n",
    "plt.rcParams[\"figure.figsize\"] = (6,6)\n",
    "\n",
    "df_orders_test.groupby('device_type_canonical')['user_id'].nunique().plot(kind='bar', grid=False)\n",
    "\n",
    "plt.xlabel('тип устройства')\n",
    "plt.ylabel('Число уникальных юзеров')\n",
    "plt.title('Распределение юзеров по устройствам')\n",
    "\n",
    "plt.text(0, df_orders_test.groupby('device_type_canonical')['user_id'].nunique()[0] + 100, \n",
    "         df_orders_test.groupby('device_type_canonical')['user_id'].nunique()[0], fontweight='bold', size=10, ha='center')\n",
    "\n",
    "plt.text(1, df_orders_test.groupby('device_type_canonical')['user_id'].nunique()[1] + 100, \n",
    "         df_orders_test.groupby('device_type_canonical')['user_id'].nunique()[1], fontweight='bold', size=10, ha='center')\n",
    "\n",
    "plt.show()"
   ]
  },
  {
   "cell_type": "markdown",
   "metadata": {},
   "source": [
    "Данные валидированы, готовы к проведению теста. \n",
    "\n",
    "Гипотеза:\n",
    "Среднее количество заказов на одного пользователя мобильного приложения выше по сравнению с пользователями стационарных устройств.\n",
    "- H₀: μ₁ ≤ μ₂ (мобильные ≤ десктопы).\n",
    "- H₁: μ₁ > μ₂ (мобильные > десктопы).\n",
    "\n",
    "Для выбора сатистического теста для проверки гипотезы, проведу тест для проверки равности дисперсий (Тест Левена).\n",
    "Но сначала проверю статистики групп"
   ]
  },
  {
   "cell_type": "code",
   "execution_count": 62,
   "metadata": {},
   "outputs": [
    {
     "data": {
      "text/plain": [
       "count    10958.000000\n",
       "mean         2.869137\n",
       "std          4.109352\n",
       "min          1.000000\n",
       "25%          1.000000\n",
       "50%          2.000000\n",
       "75%          3.000000\n",
       "max        123.000000\n",
       "Name: order_id, dtype: float64"
      ]
     },
     "execution_count": 62,
     "metadata": {},
     "output_type": "execute_result"
    }
   ],
   "source": [
    "df_orders_test_a = df_orders_test[df_orders_test['device_type_canonical']=='mobile']['order_id']\n",
    "df_orders_test_a.describe()"
   ]
  },
  {
   "cell_type": "code",
   "execution_count": 63,
   "metadata": {},
   "outputs": [
    {
     "data": {
      "text/plain": [
       "count    4895.000000\n",
       "mean        7.061287\n",
       "std        36.064538\n",
       "min         1.000000\n",
       "25%         1.000000\n",
       "50%         2.000000\n",
       "75%         4.000000\n",
       "max      1499.000000\n",
       "Name: order_id, dtype: float64"
      ]
     },
     "execution_count": 63,
     "metadata": {},
     "output_type": "execute_result"
    }
   ],
   "source": [
    "df_orders_test_b = df_orders_test[df_orders_test['device_type_canonical']=='desktop']['order_id']\n",
    "df_orders_test_b.describe()"
   ]
  },
  {
   "cell_type": "markdown",
   "metadata": {},
   "source": [
    "Как видим стандартные отклонения сильно отличаются. Отфильтруюсь по 99-перцентилю и проверю статистики снова"
   ]
  },
  {
   "cell_type": "code",
   "execution_count": 64,
   "metadata": {},
   "outputs": [
    {
     "data": {
      "text/plain": [
       "count    4846.000000\n",
       "mean        4.498556\n",
       "std         9.483455\n",
       "min         1.000000\n",
       "25%         1.000000\n",
       "50%         2.000000\n",
       "75%         4.000000\n",
       "max       103.000000\n",
       "Name: order_id, dtype: float64"
      ]
     },
     "execution_count": 64,
     "metadata": {},
     "output_type": "execute_result"
    }
   ],
   "source": [
    "df_orders_test_b[df_orders_test_b < df_orders_test_b.quantile(q=0.99)].describe()"
   ]
  },
  {
   "cell_type": "markdown",
   "metadata": {},
   "source": [
    "Я отсеял около 50 значений, но теперь стандартные отклонения более похожи. Посмотрю, как распределяются данные на гистограмме. После проведу тест левана, чтобы убедиться в равности дисперсий"
   ]
  },
  {
   "cell_type": "code",
   "execution_count": 65,
   "metadata": {},
   "outputs": [],
   "source": [
    "df_orders_test_b = df_orders_test_b[df_orders_test_b < df_orders_test_b.quantile(q=0.99)]"
   ]
  },
  {
   "cell_type": "code",
   "execution_count": 66,
   "metadata": {},
   "outputs": [
    {
     "data": {
      "text/plain": [
       "<matplotlib.legend.Legend at 0x7f95831089a0>"
      ]
     },
     "execution_count": 66,
     "metadata": {},
     "output_type": "execute_result"
    },
    {
     "data": {
      "image/png": "[encoded data removed]",
      "text/plain": [
       "<Figure size 1080x288 with 1 Axes>"
      ]
     },
     "metadata": {
      "needs_background": "light"
     },
     "output_type": "display_data"
    }
   ],
   "source": [
    "plt.figure(figsize=(15, 4))\n",
    "plt.subplot(1, 2, 1)\n",
    "plt.hist(df_orders_test_a, bins=10, alpha=0.7, label='A', color='salmon')\n",
    "plt.hist(df_orders_test_b, bins=10, alpha=0.7, label='B', color='teal')\n",
    "plt.legend()"
   ]
  },
  {
   "cell_type": "markdown",
   "metadata": {},
   "source": [
    "Вышло не совсем наглядно. Построю диаграмму размаха"
   ]
  },
  {
   "cell_type": "code",
   "execution_count": 67,
   "metadata": {},
   "outputs": [
    {
     "data": {
      "image/png": "[encoded data removed]",
      "text/plain": [
       "<Figure size 432x432 with 1 Axes>"
      ]
     },
     "metadata": {
      "needs_background": "light"
     },
     "output_type": "display_data"
    }
   ],
   "source": [
    "plt.boxplot([df_orders_test_a, df_orders_test_b], labels=['телефоны', 'десктопы'])\n",
    "plt.show()"
   ]
  },
  {
   "cell_type": "markdown",
   "metadata": {},
   "source": [
    "Видно, что у \"десктопов\" хвост сильно тяжелее, чем у \"телефонов\". Тест Левана чувствителен к выбросам и даже при относительно равных дисперсиях, поэтому выполнять его нет смысла. Перейду к т-тесту Уэлча, так как он терпим к разным дисперсиям в выборках и выбросам "
   ]
  },
  {
   "cell_type": "markdown",
   "metadata": {},
   "source": [
    "Напомню гипотеза:\n",
    "Среднее количество заказов на одного пользователя мобильного приложения выше по сравнению с пользователями стационарных устройств.\n",
    "- H₀: μ₁ ≤ μ₂ (мобильные ≤ десктопы).\n",
    "- H₁: μ₁ > μ₂ (мобильные > десктопы)."
   ]
  },
  {
   "cell_type": "code",
   "execution_count": 68,
   "metadata": {
    "scrolled": true
   },
   "outputs": [
    {
     "name": "stdout",
     "output_type": "stream",
     "text": [
      "p_value = 1.0\n",
      "не можем опровергнуть нулевую гипотизу, статистически значимых отклонений не обнаружено\n"
     ]
    }
   ],
   "source": [
    "from scipy.stats import ttest_ind\n",
    "\n",
    "t_stat, p_value = ttest_ind(df_orders_test_a, \n",
    "                            df_orders_test_b, \n",
    "                            alternative='greater', \n",
    "                            equal_var=False)\n",
    "\n",
    "print(f'p_value = {p_value}')\n",
    "\n",
    "if p_value > 0.05:\n",
    "    print('не можем опровергнуть нулевую гипотизу, статистически значимых отклонений не обнаружено')\n",
    "else:\n",
    "    print('принимаем альтернативную гипотизу, статистически значиме отклонения присутствуют')"
   ]
  },
  {
   "cell_type": "markdown",
   "metadata": {},
   "source": [
    "По результатам теста я не могу отверждать, что среднее количество заказов с мобильных устройств больше, чем с десктопных. P_value = 1 говорит о том, что с высокой вероятностью мы будем иметь те средние, которые имеем в наших группах, если нулевая гипотеза верна. А учитывая получившиеся статистики, можно сделать вывод что среднее число заказов с десктопной версии > чем с мобильной"
   ]
  },
  {
   "cell_type": "markdown",
   "metadata": {},
   "source": [
    "Гипотеза 2: Среднее время между заказами пользователей мобильных приложений выше по сравнению с пользователями стационарных устройств.\n",
    "\n",
    "- H₀: μ₁ ≤ μ₂ (время мобильных ≤ время десктопов).\n",
    "- H₁: μ₁ > μ₂ (время мобильных > время десктопов).\n"
   ]
  },
  {
   "cell_type": "code",
   "execution_count": 69,
   "metadata": {},
   "outputs": [
    {
     "data": {
      "image/png": "[encoded data removed]",
      "text/plain": [
       "<Figure size 432x432 with 1 Axes>"
      ]
     },
     "metadata": {
      "needs_background": "light"
     },
     "output_type": "display_data"
    }
   ],
   "source": [
    "# Проверю, как распределяются данные по группам\n",
    "\n",
    "plt.rcParams[\"figure.figsize\"] = (6,6)\n",
    "\n",
    "df_time_test.groupby('device_type_canonical')['user_id'].nunique().plot(kind='bar', grid=False)\n",
    "\n",
    "plt.xlabel('тип устройства')\n",
    "plt.ylabel('Число уникальных юзеров')\n",
    "plt.title('Распределение юзеров по устройствам')\n",
    "\n",
    "plt.text(0, df_time_test.groupby('device_type_canonical')['user_id'].nunique()[0] + 100, \n",
    "         df_time_test.groupby('device_type_canonical')['user_id'].nunique()[0], fontweight='bold', size=10, ha='center')\n",
    "\n",
    "plt.text(1, df_time_test.groupby('device_type_canonical')['user_id'].nunique()[1] + 100, \n",
    "         df_time_test.groupby('device_type_canonical')['user_id'].nunique()[1], fontweight='bold', size=10, ha='center')\n",
    "\n",
    "plt.show()"
   ]
  },
  {
   "cell_type": "code",
   "execution_count": 70,
   "metadata": {},
   "outputs": [
    {
     "data": {
      "text/html": [
       "<div>\n",
       "<style scoped>\n",
       "    .dataframe tbody tr th:only-of-type {\n",
       "        vertical-align: middle;\n",
       "    }\n",
       "\n",
       "    .dataframe tbody tr th {\n",
       "        vertical-align: top;\n",
       "    }\n",
       "\n",
       "    .dataframe thead th {\n",
       "        text-align: right;\n",
       "    }\n",
       "</style>\n",
       "<table border=\"1\" class=\"dataframe\">\n",
       "  <thead>\n",
       "    <tr style=\"text-align: right;\">\n",
       "      <th></th>\n",
       "      <th>device_type_canonical</th>\n",
       "      <th>user_id</th>\n",
       "      <th>days_since_prev</th>\n",
       "    </tr>\n",
       "  </thead>\n",
       "  <tbody>\n",
       "    <tr>\n",
       "      <th>4055</th>\n",
       "      <td>mobile</td>\n",
       "      <td>002b75ca606ba46</td>\n",
       "      <td>63.000000</td>\n",
       "    </tr>\n",
       "    <tr>\n",
       "      <th>4056</th>\n",
       "      <td>mobile</td>\n",
       "      <td>002ec276eee9b0b</td>\n",
       "      <td>4.454545</td>\n",
       "    </tr>\n",
       "    <tr>\n",
       "      <th>4060</th>\n",
       "      <td>mobile</td>\n",
       "      <td>005fefeabf1e678</td>\n",
       "      <td>17.000000</td>\n",
       "    </tr>\n",
       "    <tr>\n",
       "      <th>4063</th>\n",
       "      <td>mobile</td>\n",
       "      <td>009201290d7316b</td>\n",
       "      <td>4.142857</td>\n",
       "    </tr>\n",
       "    <tr>\n",
       "      <th>4064</th>\n",
       "      <td>mobile</td>\n",
       "      <td>00937de412ea430</td>\n",
       "      <td>11.428571</td>\n",
       "    </tr>\n",
       "    <tr>\n",
       "      <th>...</th>\n",
       "      <td>...</td>\n",
       "      <td>...</td>\n",
       "      <td>...</td>\n",
       "    </tr>\n",
       "    <tr>\n",
       "      <th>14237</th>\n",
       "      <td>mobile</td>\n",
       "      <td>ff684621b134cc4</td>\n",
       "      <td>1.041667</td>\n",
       "    </tr>\n",
       "    <tr>\n",
       "      <th>14240</th>\n",
       "      <td>mobile</td>\n",
       "      <td>ff840c2bf377690</td>\n",
       "      <td>3.750000</td>\n",
       "    </tr>\n",
       "    <tr>\n",
       "      <th>14242</th>\n",
       "      <td>mobile</td>\n",
       "      <td>ff9310a90294d5c</td>\n",
       "      <td>2.454545</td>\n",
       "    </tr>\n",
       "    <tr>\n",
       "      <th>14246</th>\n",
       "      <td>mobile</td>\n",
       "      <td>ffb51f6745ee8a2</td>\n",
       "      <td>66.000000</td>\n",
       "    </tr>\n",
       "    <tr>\n",
       "      <th>14259</th>\n",
       "      <td>mobile</td>\n",
       "      <td>fffcd3dde79eb2c</td>\n",
       "      <td>4.000000</td>\n",
       "    </tr>\n",
       "  </tbody>\n",
       "</table>\n",
       "<p>3043 rows × 3 columns</p>\n",
       "</div>"
      ],
      "text/plain": [
       "      device_type_canonical          user_id  days_since_prev\n",
       "4055                 mobile  002b75ca606ba46        63.000000\n",
       "4056                 mobile  002ec276eee9b0b         4.454545\n",
       "4060                 mobile  005fefeabf1e678        17.000000\n",
       "4063                 mobile  009201290d7316b         4.142857\n",
       "4064                 mobile  00937de412ea430        11.428571\n",
       "...                     ...              ...              ...\n",
       "14237                mobile  ff684621b134cc4         1.041667\n",
       "14240                mobile  ff840c2bf377690         3.750000\n",
       "14242                mobile  ff9310a90294d5c         2.454545\n",
       "14246                mobile  ffb51f6745ee8a2        66.000000\n",
       "14259                mobile  fffcd3dde79eb2c         4.000000\n",
       "\n",
       "[3043 rows x 3 columns]"
      ]
     },
     "execution_count": 70,
     "metadata": {},
     "output_type": "execute_result"
    }
   ],
   "source": [
    "df_time_test[df_time_test.duplicated(subset='user_id')]"
   ]
  },
  {
   "cell_type": "markdown",
   "metadata": {},
   "source": [
    "Вышла похожая история, как и в прошлый раз. Удалю эти дубликаты"
   ]
  },
  {
   "cell_type": "code",
   "execution_count": 71,
   "metadata": {},
   "outputs": [
    {
     "name": "stdout",
     "output_type": "stream",
     "text": [
      "<class 'pandas.core.frame.DataFrame'>\n",
      "Int64Index: 11217 entries, 0 to 7448\n",
      "Data columns (total 3 columns):\n",
      " #   Column                 Non-Null Count  Dtype  \n",
      "---  ------                 --------------  -----  \n",
      " 0   device_type_canonical  11217 non-null  object \n",
      " 1   user_id                11217 non-null  object \n",
      " 2   days_since_prev        11217 non-null  float64\n",
      "dtypes: float64(1), object(2)\n",
      "memory usage: 350.5+ KB\n"
     ]
    }
   ],
   "source": [
    "df_time_test = df_time_test.sort_values(by='device_type_canonical').drop_duplicates(subset='user_id', keep='first')\n",
    "df_time_test.info()"
   ]
  },
  {
   "cell_type": "code",
   "execution_count": 72,
   "metadata": {},
   "outputs": [
    {
     "data": {
      "image/png": "[encoded data removed]",
      "text/plain": [
       "<Figure size 432x432 with 1 Axes>"
      ]
     },
     "metadata": {
      "needs_background": "light"
     },
     "output_type": "display_data"
    }
   ],
   "source": [
    "# Проверю, как распределяются данные по группам\n",
    "\n",
    "plt.rcParams[\"figure.figsize\"] = (6,6)\n",
    "\n",
    "df_time_test.groupby('device_type_canonical')['user_id'].nunique().plot(kind='bar', grid=False)\n",
    "\n",
    "plt.xlabel('тип устройства')\n",
    "plt.ylabel('Число уникальных юзеров')\n",
    "plt.title('Распределение юзеров по устройствам')\n",
    "\n",
    "plt.text(0, df_time_test.groupby('device_type_canonical')['user_id'].nunique()[0] + 100, \n",
    "         df_time_test.groupby('device_type_canonical')['user_id'].nunique()[0], fontweight='bold', size=10, ha='center')\n",
    "\n",
    "plt.text(1, df_time_test.groupby('device_type_canonical')['user_id'].nunique()[1] + 100, \n",
    "         df_time_test.groupby('device_type_canonical')['user_id'].nunique()[1], fontweight='bold', size=10, ha='center')\n",
    "\n",
    "plt.show()"
   ]
  },
  {
   "cell_type": "markdown",
   "metadata": {},
   "source": [
    "Теперь можно разделить пользователей на две группы и проверить статистики этих групп"
   ]
  },
  {
   "cell_type": "code",
   "execution_count": 73,
   "metadata": {},
   "outputs": [],
   "source": [
    "df_time_test_a = df_time_test[df_time_test['device_type_canonical'] == 'mobile']['days_since_prev']\n",
    "df_time_test_b = df_time_test[df_time_test['device_type_canonical'] == 'desktop']['days_since_prev']"
   ]
  },
  {
   "cell_type": "code",
   "execution_count": 74,
   "metadata": {},
   "outputs": [
    {
     "data": {
      "text/plain": [
       "count    7168.000000\n",
       "mean       25.055022\n",
       "std        30.032801\n",
       "min         0.000000\n",
       "25%         2.989130\n",
       "50%        14.000000\n",
       "75%        36.000000\n",
       "max       148.000000\n",
       "Name: days_since_prev, dtype: float64"
      ]
     },
     "execution_count": 74,
     "metadata": {},
     "output_type": "execute_result"
    }
   ],
   "source": [
    "df_time_test_a.describe()"
   ]
  },
  {
   "cell_type": "code",
   "execution_count": 75,
   "metadata": {},
   "outputs": [
    {
     "data": {
      "text/plain": [
       "count    4049.000000\n",
       "mean       14.940654\n",
       "std        24.243367\n",
       "min         0.000000\n",
       "25%         1.000000\n",
       "50%         4.500000\n",
       "75%        17.000000\n",
       "max       146.000000\n",
       "Name: days_since_prev, dtype: float64"
      ]
     },
     "execution_count": 75,
     "metadata": {},
     "output_type": "execute_result"
    }
   ],
   "source": [
    "df_time_test_b.describe()"
   ]
  },
  {
   "cell_type": "markdown",
   "metadata": {},
   "source": [
    "Группы выглядят похожими, построю боксплоты"
   ]
  },
  {
   "cell_type": "code",
   "execution_count": 76,
   "metadata": {},
   "outputs": [
    {
     "data": {
      "image/png": "[encoded data removed]",
      "text/plain": [
       "<Figure size 432x432 with 1 Axes>"
      ]
     },
     "metadata": {
      "needs_background": "light"
     },
     "output_type": "display_data"
    }
   ],
   "source": [
    "plt.boxplot([df_time_test_a, df_time_test_b], labels=['телефоны', 'десктопы'])\n",
    "plt.show()"
   ]
  },
  {
   "cell_type": "markdown",
   "metadata": {},
   "source": [
    "Распределение среднего времени между заказами пользователей мобильных приложений распределено больше вправо нежели пользователей десктопов. У выборок тяжелые хвосты, к тому же отклонения различаются, поэтому снова буду применять тест Уэлча"
   ]
  },
  {
   "cell_type": "markdown",
   "metadata": {},
   "source": [
    "Напомню гипотезу 2: Среднее время между заказами пользователей мобильных приложений выше по сравнению с пользователями стационарных устройств.\n",
    "\n",
    "- H₀: μ₁ ≤ μ₂ (время мобильных ≤ время десктопов).\n",
    "- H₁: μ₁ > μ₂ (время мобильных > время десктопов)."
   ]
  },
  {
   "cell_type": "code",
   "execution_count": 77,
   "metadata": {},
   "outputs": [
    {
     "name": "stdout",
     "output_type": "stream",
     "text": [
      "p_value = 0.0\n",
      "принимаем альтернативную гипотизу, статистически значиме отклонения присутствуют\n"
     ]
    }
   ],
   "source": [
    "t_stat, p_value = ttest_ind(df_time_test_a, \n",
    "                            df_time_test_b, \n",
    "                            alternative='greater', \n",
    "                            equal_var=False)\n",
    "\n",
    "print(f'p_value = {round(p_value,4)}')\n",
    "\n",
    "if p_value > 0.05:\n",
    "    print('не можем опровергнуть нулевую гипотизу, статистически значимых отклонений не обнаружено')\n",
    "else:\n",
    "    print('принимаем альтернативную гипотизу, статистически значиме отклонения присутствуют')"
   ]
  },
  {
   "cell_type": "markdown",
   "metadata": {},
   "source": [
    "#### Аналитическая запаска для двух тестов\n",
    "- Для проверки обеих гипотиз был выбран t-тест Уэлча, так как дисперсии выборок различаются и в обоих случаях имеют хвосты в распределении значений. За уровень статистической значимости приму baseline в 5%;\n",
    "- В результате первого t-теста p_value стремится к 1, в результате второго - к нулю. \n",
    "- Результат:  Среднее количество заказов на одного юзера с мобильных устройств не больше (а скорее меньше), чем с десктопных. Среднее время между заказами пользователей мобильных приложений выше по сравнению с пользователями стационарных устройств  \n",
    "- Стоит учитывать различия в численности выборок, так вероятность отвергнуть нулевую гипотезу выше, чем когда она истина. \n"
   ]
  },
  {
   "cell_type": "markdown",
   "metadata": {},
   "source": [
    "## Вывод к проекту"
   ]
  },
  {
   "cell_type": "markdown",
   "metadata": {},
   "source": [
    "\n",
    "\n",
    "Итого были выполнены следующие задачи:\n",
    "   - Загрузка, знакомство, предобработка и валидация данных, входе чего были удалены менее 0,5% строк и добавлены 4 новых поля необходимых для дальнейшего анализа;\n",
    "   - Проведен исслеовательский анализ данных:   \n",
    "      - исследованны заказы по сегментам и их сезонные изменения. Осенью наблюдается повышенная активность пользователей, что скорее всего связано с высоким сезоном, когда многие сферы бизнеса переживают подъем\n",
    "      - проанализированна активность пользователей осенью. по выходным и в понедельник активность пользователей снижается, а вот по четвергам число уникальных юзеров максимально.\n",
    "      - Анализ популярных событий и партнеров. Активность в регионах распределена неравномерно - из 81 региона больше 50% заказов и выручки приходится на 3 региона, однако внимание стоит уделить Каменевскому региону, который является самым прибыльным и продающим.\t\n",
    "   - Проведен статистический анализ данных и проверка гепотиз:\n",
    "      - Среднее количество заказов на одного юзера с мобильных устройств не больше (а скорее меньше), чем с десктопных.\n",
    "      - Среднее время между заказами пользователей мобильных приложений выше по сравнению с пользователями стационарных устройств."
   ]
  },
  {
   "cell_type": "markdown",
   "metadata": {},
   "source": [
    "Рекомендую: \n",
    "- всегда стремиться к победе! \n",
    "- Проверить, какой тип билетов (регион, ивент, город, тип ивента) продавались 03.09 и 01.10, чтобы понять, с чем связаны скачки в продажах билетов в эти числа\n",
    "- в таблицу с заказами добавить поле с видом акции или скидки по которой продается билет и разделить цену без скидки и цену со скидкой, что позволит в дальнейшем оценивать эффективнсть акций и промо\n",
    "- Мотивировать людей делать больше покупок (и чаще) с мобильных устройств путем развития приложения. Такая стратегия актуальна как никогда, так как мобильные устройства всегда под рукой, а десктоп - нет. Соответсвенно люди, покупающие билеты через телефон, всегда находятся ближе к покупке, чем люди, преобритающие билеты через пк."
   ]
  }
 ],
 "metadata": {
  "ExecuteTimeLog": [
   {
    "duration": 1507,
    "start_time": "2025-05-21T08:03:26.443Z"
   },
   {
    "duration": 1939,
    "start_time": "2025-05-21T08:03:29.065Z"
   },
   {
    "duration": 31,
    "start_time": "2025-05-21T08:03:34.733Z"
   },
   {
    "duration": 17,
    "start_time": "2025-05-21T08:03:39.439Z"
   },
   {
    "duration": 13,
    "start_time": "2025-05-21T08:03:43.950Z"
   },
   {
    "duration": 12,
    "start_time": "2025-05-21T08:11:25.640Z"
   },
   {
    "duration": 93,
    "start_time": "2025-05-21T08:11:32.717Z"
   },
   {
    "duration": 91,
    "start_time": "2025-05-21T08:11:43.087Z"
   },
   {
    "duration": 88,
    "start_time": "2025-05-21T08:11:49.702Z"
   },
   {
    "duration": 88,
    "start_time": "2025-05-21T08:11:55.180Z"
   },
   {
    "duration": 206,
    "start_time": "2025-05-21T08:13:34.035Z"
   },
   {
    "duration": 33,
    "start_time": "2025-05-21T08:14:25.208Z"
   },
   {
    "duration": 25,
    "start_time": "2025-05-21T08:14:48.371Z"
   },
   {
    "duration": 39,
    "start_time": "2025-05-21T08:15:10.035Z"
   },
   {
    "duration": 12,
    "start_time": "2025-05-21T08:16:18.249Z"
   },
   {
    "duration": 14,
    "start_time": "2025-05-21T08:18:50.525Z"
   },
   {
    "duration": 63,
    "start_time": "2025-05-21T08:19:13.624Z"
   },
   {
    "duration": 30,
    "start_time": "2025-05-21T08:19:28.531Z"
   },
   {
    "duration": 64,
    "start_time": "2025-05-21T08:20:21.316Z"
   },
   {
    "duration": 73,
    "start_time": "2025-05-21T08:20:28.992Z"
   },
   {
    "duration": 9,
    "start_time": "2025-05-21T08:20:54.266Z"
   },
   {
    "duration": 29,
    "start_time": "2025-05-21T08:21:12.801Z"
   },
   {
    "duration": 31,
    "start_time": "2025-05-21T08:21:20.569Z"
   },
   {
    "duration": 73,
    "start_time": "2025-05-21T08:21:56.223Z"
   },
   {
    "duration": 76,
    "start_time": "2025-05-21T08:22:12.669Z"
   },
   {
    "duration": 117,
    "start_time": "2025-05-21T08:22:26.780Z"
   },
   {
    "duration": 605,
    "start_time": "2025-05-21T08:22:45.917Z"
   },
   {
    "duration": 8,
    "start_time": "2025-05-21T08:23:23.411Z"
   },
   {
    "duration": 4,
    "start_time": "2025-05-21T08:23:27.883Z"
   },
   {
    "duration": 656,
    "start_time": "2025-05-21T08:23:32.471Z"
   },
   {
    "duration": 23,
    "start_time": "2025-05-21T08:24:19.964Z"
   },
   {
    "duration": 94,
    "start_time": "2025-05-21T08:24:39.706Z"
   },
   {
    "duration": 685,
    "start_time": "2025-05-21T08:25:04.032Z"
   },
   {
    "duration": 668,
    "start_time": "2025-05-21T08:25:25.602Z"
   },
   {
    "duration": 710,
    "start_time": "2025-05-21T08:25:36.951Z"
   },
   {
    "duration": 6,
    "start_time": "2025-05-21T08:37:47.557Z"
   },
   {
    "duration": 22,
    "start_time": "2025-05-21T08:37:51.957Z"
   },
   {
    "duration": 5,
    "start_time": "2025-05-21T08:37:54.997Z"
   },
   {
    "duration": 91,
    "start_time": "2025-05-21T08:38:18.937Z"
   },
   {
    "duration": 27,
    "start_time": "2025-05-21T08:39:13.706Z"
   },
   {
    "duration": 697,
    "start_time": "2025-05-21T08:40:48.646Z"
   },
   {
    "duration": 1623,
    "start_time": "2025-05-21T09:22:21.265Z"
   },
   {
    "duration": 1398,
    "start_time": "2025-05-21T09:22:48.587Z"
   },
   {
    "duration": 1235,
    "start_time": "2025-05-21T09:23:30.853Z"
   },
   {
    "duration": 2052,
    "start_time": "2025-05-21T09:23:32.090Z"
   },
   {
    "duration": 748,
    "start_time": "2025-05-21T09:23:34.143Z"
   },
   {
    "duration": 1701,
    "start_time": "2025-05-21T09:23:34.893Z"
   },
   {
    "duration": 29,
    "start_time": "2025-05-21T09:25:04.308Z"
   },
   {
    "duration": 79,
    "start_time": "2025-05-21T09:25:15.324Z"
   },
   {
    "duration": 10,
    "start_time": "2025-05-21T09:26:14.024Z"
   },
   {
    "duration": 4,
    "start_time": "2025-05-21T09:27:00.004Z"
   },
   {
    "duration": 14,
    "start_time": "2025-05-21T09:27:05.588Z"
   },
   {
    "duration": 29,
    "start_time": "2025-05-21T09:28:27.035Z"
   },
   {
    "duration": 87,
    "start_time": "2025-05-21T09:28:46.637Z"
   },
   {
    "duration": 73,
    "start_time": "2025-05-21T09:29:26.543Z"
   },
   {
    "duration": 341,
    "start_time": "2025-05-21T09:29:45.979Z"
   },
   {
    "duration": 698,
    "start_time": "2025-05-21T09:30:28.625Z"
   },
   {
    "duration": 350,
    "start_time": "2025-05-21T09:30:32.476Z"
   },
   {
    "duration": 288,
    "start_time": "2025-05-21T09:31:24.329Z"
   },
   {
    "duration": 564,
    "start_time": "2025-05-21T09:32:02.240Z"
   },
   {
    "duration": 580,
    "start_time": "2025-05-21T09:32:12.968Z"
   },
   {
    "duration": 61,
    "start_time": "2025-05-21T09:44:29.603Z"
   },
   {
    "duration": 294,
    "start_time": "2025-05-21T09:46:32.486Z"
   },
   {
    "duration": 329,
    "start_time": "2025-05-21T09:48:35.031Z"
   },
   {
    "duration": 279,
    "start_time": "2025-05-21T09:49:04.308Z"
   },
   {
    "duration": 3,
    "start_time": "2025-05-21T09:51:40.487Z"
   },
   {
    "duration": 52,
    "start_time": "2025-05-21T09:54:09.711Z"
   },
   {
    "duration": 17,
    "start_time": "2025-05-21T09:54:50.799Z"
   },
   {
    "duration": 50,
    "start_time": "2025-05-21T09:55:23.154Z"
   },
   {
    "duration": 51,
    "start_time": "2025-05-21T09:55:30.554Z"
   },
   {
    "duration": 64,
    "start_time": "2025-05-21T09:55:36.718Z"
   },
   {
    "duration": 52,
    "start_time": "2025-05-21T09:56:08.824Z"
   },
   {
    "duration": 17,
    "start_time": "2025-05-21T09:57:02.970Z"
   },
   {
    "duration": 11,
    "start_time": "2025-05-21T09:58:25.378Z"
   },
   {
    "duration": 8,
    "start_time": "2025-05-21T09:58:40.005Z"
   },
   {
    "duration": 4,
    "start_time": "2025-05-21T10:07:11.123Z"
   },
   {
    "duration": 25,
    "start_time": "2025-05-21T10:08:47.683Z"
   },
   {
    "duration": 11,
    "start_time": "2025-05-21T10:09:19.594Z"
   },
   {
    "duration": 1406,
    "start_time": "2025-05-21T10:09:23.999Z"
   },
   {
    "duration": 1427,
    "start_time": "2025-05-21T10:09:44.819Z"
   },
   {
    "duration": 1400,
    "start_time": "2025-05-21T10:09:58.402Z"
   },
   {
    "duration": 1455,
    "start_time": "2025-05-21T10:10:15.217Z"
   },
   {
    "duration": 61,
    "start_time": "2025-05-21T10:10:19.208Z"
   },
   {
    "duration": 1518,
    "start_time": "2025-05-21T10:10:24.364Z"
   },
   {
    "duration": 25,
    "start_time": "2025-05-21T10:10:32.990Z"
   },
   {
    "duration": 59,
    "start_time": "2025-05-21T10:10:55.422Z"
   },
   {
    "duration": 68,
    "start_time": "2025-05-21T10:11:08.335Z"
   },
   {
    "duration": 481,
    "start_time": "2025-05-21T10:11:35.022Z"
   },
   {
    "duration": 4,
    "start_time": "2025-05-21T10:13:53.767Z"
   },
   {
    "duration": 434,
    "start_time": "2025-05-21T10:13:55.636Z"
   },
   {
    "duration": 5,
    "start_time": "2025-05-21T10:14:21.021Z"
   },
   {
    "duration": 442,
    "start_time": "2025-05-21T10:14:22.967Z"
   },
   {
    "duration": 25,
    "start_time": "2025-05-21T10:18:03.906Z"
   },
   {
    "duration": 16,
    "start_time": "2025-05-21T10:19:08.019Z"
   },
   {
    "duration": 14,
    "start_time": "2025-05-21T10:19:33.959Z"
   },
   {
    "duration": 66,
    "start_time": "2025-05-21T10:27:36.617Z"
   },
   {
    "duration": 388,
    "start_time": "2025-05-21T10:28:36.618Z"
   },
   {
    "duration": 29,
    "start_time": "2025-05-21T10:29:24.308Z"
   },
   {
    "duration": 73,
    "start_time": "2025-05-21T10:30:24.114Z"
   },
   {
    "duration": 446,
    "start_time": "2025-05-21T10:31:04.909Z"
   },
   {
    "duration": 128,
    "start_time": "2025-05-21T10:38:27.924Z"
   },
   {
    "duration": 24,
    "start_time": "2025-05-21T10:41:08.970Z"
   },
   {
    "duration": 6,
    "start_time": "2025-05-21T10:41:23.080Z"
   },
   {
    "duration": 213,
    "start_time": "2025-05-21T10:43:53.398Z"
   },
   {
    "duration": 57,
    "start_time": "2025-05-21T12:11:33.752Z"
   },
   {
    "duration": 25,
    "start_time": "2025-05-21T12:11:38.800Z"
   },
   {
    "duration": 353,
    "start_time": "2025-05-21T12:16:14.233Z"
   },
   {
    "duration": 83,
    "start_time": "2025-05-21T12:19:30.242Z"
   },
   {
    "duration": 354,
    "start_time": "2025-05-21T12:19:54.821Z"
   },
   {
    "duration": 1254,
    "start_time": "2025-05-21T12:20:15.761Z"
   },
   {
    "duration": 1880,
    "start_time": "2025-05-21T12:20:17.017Z"
   },
   {
    "duration": 719,
    "start_time": "2025-05-21T12:20:18.899Z"
   },
   {
    "duration": 174,
    "start_time": "2025-05-21T12:20:19.620Z"
   },
   {
    "duration": 201,
    "start_time": "2025-05-21T12:20:19.797Z"
   },
   {
    "duration": 594,
    "start_time": "2025-05-21T12:20:19.999Z"
   },
   {
    "duration": 300,
    "start_time": "2025-05-21T12:20:20.595Z"
   },
   {
    "duration": 65,
    "start_time": "2025-05-21T12:20:20.896Z"
   },
   {
    "duration": 7,
    "start_time": "2025-05-21T12:20:20.963Z"
   },
   {
    "duration": 41,
    "start_time": "2025-05-21T12:20:20.971Z"
   },
   {
    "duration": 509,
    "start_time": "2025-05-21T12:20:21.013Z"
   },
   {
    "duration": 16,
    "start_time": "2025-05-21T12:20:21.524Z"
   },
   {
    "duration": 507,
    "start_time": "2025-05-21T12:20:21.542Z"
   },
   {
    "duration": 139,
    "start_time": "2025-05-21T12:20:22.051Z"
   },
   {
    "duration": 70,
    "start_time": "2025-05-21T12:20:22.191Z"
   },
   {
    "duration": 351,
    "start_time": "2025-05-21T12:20:22.262Z"
   },
   {
    "duration": 90,
    "start_time": "2025-05-21T12:20:22.615Z"
   },
   {
    "duration": 327,
    "start_time": "2025-05-21T12:20:22.707Z"
   },
   {
    "duration": 1223,
    "start_time": "2025-05-21T12:21:29.970Z"
   },
   {
    "duration": 1991,
    "start_time": "2025-05-21T12:21:31.195Z"
   },
   {
    "duration": 701,
    "start_time": "2025-05-21T12:21:33.187Z"
   },
   {
    "duration": 172,
    "start_time": "2025-05-21T12:21:33.889Z"
   },
   {
    "duration": 3,
    "start_time": "2025-05-21T12:21:34.063Z"
   },
   {
    "duration": 532,
    "start_time": "2025-05-21T12:21:34.068Z"
   },
   {
    "duration": 303,
    "start_time": "2025-05-21T12:21:34.602Z"
   },
   {
    "duration": 74,
    "start_time": "2025-05-21T12:21:34.907Z"
   },
   {
    "duration": 11,
    "start_time": "2025-05-21T12:21:34.982Z"
   },
   {
    "duration": 29,
    "start_time": "2025-05-21T12:21:34.995Z"
   },
   {
    "duration": 493,
    "start_time": "2025-05-21T12:21:35.026Z"
   },
   {
    "duration": 17,
    "start_time": "2025-05-21T12:21:35.521Z"
   },
   {
    "duration": 559,
    "start_time": "2025-05-21T12:21:35.539Z"
   },
   {
    "duration": 134,
    "start_time": "2025-05-21T12:21:36.101Z"
   },
   {
    "duration": 72,
    "start_time": "2025-05-21T12:21:36.237Z"
   },
   {
    "duration": 583,
    "start_time": "2025-05-21T12:21:36.311Z"
   },
   {
    "duration": 94,
    "start_time": "2025-05-21T12:21:36.895Z"
   },
   {
    "duration": 357,
    "start_time": "2025-05-21T12:21:36.991Z"
   },
   {
    "duration": 215,
    "start_time": "2025-05-21T12:23:03.988Z"
   },
   {
    "duration": 14,
    "start_time": "2025-05-21T12:23:45.936Z"
   },
   {
    "duration": 5,
    "start_time": "2025-05-21T12:24:09.984Z"
   },
   {
    "duration": 6,
    "start_time": "2025-05-21T12:24:16.914Z"
   },
   {
    "duration": 6,
    "start_time": "2025-05-21T12:24:35.575Z"
   },
   {
    "duration": 6,
    "start_time": "2025-05-21T12:24:56.613Z"
   },
   {
    "duration": 14,
    "start_time": "2025-05-21T12:29:46.048Z"
   },
   {
    "duration": 24,
    "start_time": "2025-05-21T12:45:33.895Z"
   },
   {
    "duration": 12,
    "start_time": "2025-05-21T12:47:44.186Z"
   },
   {
    "duration": 10,
    "start_time": "2025-05-21T12:48:16.387Z"
   },
   {
    "duration": 7,
    "start_time": "2025-05-21T12:48:24.737Z"
   },
   {
    "duration": 7,
    "start_time": "2025-05-21T12:48:32.205Z"
   },
   {
    "duration": 5,
    "start_time": "2025-05-21T12:52:06.734Z"
   },
   {
    "duration": 23,
    "start_time": "2025-05-21T12:52:30.526Z"
   },
   {
    "duration": 8150,
    "start_time": "2025-05-21T12:53:00.420Z"
   },
   {
    "duration": 26,
    "start_time": "2025-05-21T12:53:18.706Z"
   },
   {
    "duration": 10,
    "start_time": "2025-05-21T12:55:48.287Z"
   },
   {
    "duration": 1388,
    "start_time": "2025-05-21T12:55:57.330Z"
   },
   {
    "duration": 7,
    "start_time": "2025-05-21T12:56:36.030Z"
   },
   {
    "duration": 1350,
    "start_time": "2025-05-21T12:56:42.944Z"
   },
   {
    "duration": 1393,
    "start_time": "2025-05-21T12:56:47.280Z"
   },
   {
    "duration": 7,
    "start_time": "2025-05-21T12:56:50.914Z"
   },
   {
    "duration": 6,
    "start_time": "2025-05-21T12:57:58.017Z"
   },
   {
    "duration": 1186,
    "start_time": "2025-05-21T12:58:13.501Z"
   },
   {
    "duration": 1721,
    "start_time": "2025-05-21T12:58:14.690Z"
   },
   {
    "duration": 759,
    "start_time": "2025-05-21T12:58:16.413Z"
   },
   {
    "duration": 172,
    "start_time": "2025-05-21T12:58:17.174Z"
   },
   {
    "duration": 4,
    "start_time": "2025-05-21T12:58:17.348Z"
   },
   {
    "duration": 661,
    "start_time": "2025-05-21T12:58:17.360Z"
   },
   {
    "duration": 304,
    "start_time": "2025-05-21T12:58:18.023Z"
   },
   {
    "duration": 54,
    "start_time": "2025-05-21T12:58:18.328Z"
   },
   {
    "duration": 6,
    "start_time": "2025-05-21T12:58:18.384Z"
   },
   {
    "duration": 20,
    "start_time": "2025-05-21T12:58:18.392Z"
   },
   {
    "duration": 663,
    "start_time": "2025-05-21T12:58:18.414Z"
   },
   {
    "duration": 17,
    "start_time": "2025-05-21T12:58:19.079Z"
   },
   {
    "duration": 422,
    "start_time": "2025-05-21T12:58:19.097Z"
   },
   {
    "duration": 136,
    "start_time": "2025-05-21T12:58:19.520Z"
   },
   {
    "duration": 268,
    "start_time": "2025-05-21T12:58:19.661Z"
   },
   {
    "duration": 352,
    "start_time": "2025-05-21T12:58:19.931Z"
   },
   {
    "duration": 97,
    "start_time": "2025-05-21T12:58:20.284Z"
   },
   {
    "duration": 330,
    "start_time": "2025-05-21T12:58:20.383Z"
   },
   {
    "duration": 5,
    "start_time": "2025-05-21T12:58:20.715Z"
   },
   {
    "duration": 45,
    "start_time": "2025-05-21T12:58:20.722Z"
   },
   {
    "duration": 7646,
    "start_time": "2025-05-21T12:58:20.769Z"
   },
   {
    "duration": 24,
    "start_time": "2025-05-21T12:58:28.417Z"
   },
   {
    "duration": 9,
    "start_time": "2025-05-21T13:00:38.143Z"
   },
   {
    "duration": 16,
    "start_time": "2025-05-21T13:01:40.594Z"
   },
   {
    "duration": 24,
    "start_time": "2025-05-21T13:01:52.540Z"
   },
   {
    "duration": 27,
    "start_time": "2025-05-21T13:02:07.142Z"
   },
   {
    "duration": 17,
    "start_time": "2025-05-21T13:02:15.500Z"
   },
   {
    "duration": 4,
    "start_time": "2025-05-21T13:03:05.454Z"
   },
   {
    "duration": 6,
    "start_time": "2025-05-21T13:03:29.875Z"
   },
   {
    "duration": 1174,
    "start_time": "2025-05-21T13:04:35.918Z"
   },
   {
    "duration": 1912,
    "start_time": "2025-05-21T13:04:37.094Z"
   },
   {
    "duration": 699,
    "start_time": "2025-05-21T13:04:39.008Z"
   },
   {
    "duration": 173,
    "start_time": "2025-05-21T13:04:39.709Z"
   },
   {
    "duration": 10,
    "start_time": "2025-05-21T13:04:39.884Z"
   },
   {
    "duration": 568,
    "start_time": "2025-05-21T13:04:39.895Z"
   },
   {
    "duration": 302,
    "start_time": "2025-05-21T13:04:40.465Z"
   },
   {
    "duration": 51,
    "start_time": "2025-05-21T13:04:40.769Z"
   },
   {
    "duration": 7,
    "start_time": "2025-05-21T13:04:40.822Z"
   },
   {
    "duration": 24,
    "start_time": "2025-05-21T13:04:40.831Z"
   },
   {
    "duration": 442,
    "start_time": "2025-05-21T13:04:40.861Z"
   },
   {
    "duration": 17,
    "start_time": "2025-05-21T13:04:41.304Z"
   },
   {
    "duration": 439,
    "start_time": "2025-05-21T13:04:41.322Z"
   },
   {
    "duration": 133,
    "start_time": "2025-05-21T13:04:41.762Z"
   },
   {
    "duration": 66,
    "start_time": "2025-05-21T13:04:41.897Z"
   },
   {
    "duration": 351,
    "start_time": "2025-05-21T13:04:41.965Z"
   },
   {
    "duration": 93,
    "start_time": "2025-05-21T13:04:42.318Z"
   },
   {
    "duration": 329,
    "start_time": "2025-05-21T13:04:42.413Z"
   },
   {
    "duration": 5,
    "start_time": "2025-05-21T13:04:42.743Z"
   },
   {
    "duration": 33,
    "start_time": "2025-05-21T13:04:42.750Z"
   },
   {
    "duration": 2020,
    "start_time": "2025-05-21T13:04:42.784Z"
   },
   {
    "duration": 0,
    "start_time": "2025-05-21T13:04:44.806Z"
   },
   {
    "duration": 1190,
    "start_time": "2025-05-21T13:05:38.908Z"
   },
   {
    "duration": 1643,
    "start_time": "2025-05-21T13:05:40.100Z"
   },
   {
    "duration": 719,
    "start_time": "2025-05-21T13:05:41.745Z"
   },
   {
    "duration": 168,
    "start_time": "2025-05-21T13:05:42.466Z"
   },
   {
    "duration": 3,
    "start_time": "2025-05-21T13:05:42.636Z"
   },
   {
    "duration": 595,
    "start_time": "2025-05-21T13:05:42.640Z"
   },
   {
    "duration": 290,
    "start_time": "2025-05-21T13:05:43.237Z"
   },
   {
    "duration": 61,
    "start_time": "2025-05-21T13:05:43.529Z"
   },
   {
    "duration": 56,
    "start_time": "2025-05-21T13:05:43.591Z"
   },
   {
    "duration": 246,
    "start_time": "2025-05-21T13:05:43.649Z"
   },
   {
    "duration": 478,
    "start_time": "2025-05-21T13:05:43.897Z"
   },
   {
    "duration": 16,
    "start_time": "2025-05-21T13:05:44.377Z"
   },
   {
    "duration": 447,
    "start_time": "2025-05-21T13:05:44.395Z"
   },
   {
    "duration": 147,
    "start_time": "2025-05-21T13:05:44.843Z"
   },
   {
    "duration": 75,
    "start_time": "2025-05-21T13:05:44.992Z"
   },
   {
    "duration": 382,
    "start_time": "2025-05-21T13:05:45.069Z"
   },
   {
    "duration": 90,
    "start_time": "2025-05-21T13:05:45.452Z"
   },
   {
    "duration": 580,
    "start_time": "2025-05-21T13:05:45.543Z"
   },
   {
    "duration": 5,
    "start_time": "2025-05-21T13:05:46.125Z"
   },
   {
    "duration": 27,
    "start_time": "2025-05-21T13:05:46.131Z"
   },
   {
    "duration": 7594,
    "start_time": "2025-05-21T13:05:46.160Z"
   },
   {
    "duration": 40,
    "start_time": "2025-05-21T13:05:53.756Z"
   },
   {
    "duration": 13,
    "start_time": "2025-05-21T13:06:44.657Z"
   },
   {
    "duration": 5,
    "start_time": "2025-05-21T13:09:18.812Z"
   },
   {
    "duration": 26,
    "start_time": "2025-05-21T13:09:24.479Z"
   },
   {
    "duration": 7,
    "start_time": "2025-05-21T13:09:48.398Z"
   },
   {
    "duration": 27,
    "start_time": "2025-05-21T13:09:50.161Z"
   },
   {
    "duration": 30,
    "start_time": "2025-05-21T13:12:41.022Z"
   },
   {
    "duration": 70,
    "start_time": "2025-05-21T13:17:36.078Z"
   },
   {
    "duration": 31,
    "start_time": "2025-05-21T13:17:42.014Z"
   },
   {
    "duration": 19,
    "start_time": "2025-05-21T13:18:07.021Z"
   },
   {
    "duration": 203,
    "start_time": "2025-05-21T13:20:53.133Z"
   },
   {
    "duration": 224,
    "start_time": "2025-05-21T13:21:24.252Z"
   },
   {
    "duration": 302,
    "start_time": "2025-05-21T13:21:47.779Z"
   },
   {
    "duration": 358,
    "start_time": "2025-05-21T13:21:51.993Z"
   },
   {
    "duration": 28,
    "start_time": "2025-05-21T13:22:16.549Z"
   },
   {
    "duration": 419,
    "start_time": "2025-05-21T13:22:23.033Z"
   },
   {
    "duration": 184,
    "start_time": "2025-05-21T13:23:42.838Z"
   },
   {
    "duration": 21,
    "start_time": "2025-05-21T13:24:18.325Z"
   },
   {
    "duration": 45,
    "start_time": "2025-05-21T13:24:24.674Z"
   },
   {
    "duration": 21,
    "start_time": "2025-05-21T13:25:51.427Z"
   },
   {
    "duration": 21,
    "start_time": "2025-05-21T13:26:13.888Z"
   },
   {
    "duration": 35,
    "start_time": "2025-05-21T13:26:28.537Z"
   },
   {
    "duration": 33,
    "start_time": "2025-05-21T13:26:42.196Z"
   },
   {
    "duration": 25,
    "start_time": "2025-05-21T13:26:57.351Z"
   },
   {
    "duration": 25,
    "start_time": "2025-05-21T13:27:09.028Z"
   },
   {
    "duration": 21,
    "start_time": "2025-05-21T13:28:46.092Z"
   },
   {
    "duration": 11,
    "start_time": "2025-05-21T13:29:01.233Z"
   },
   {
    "duration": 24,
    "start_time": "2025-05-21T13:29:33.647Z"
   },
   {
    "duration": 19,
    "start_time": "2025-05-21T13:29:38.110Z"
   },
   {
    "duration": 9,
    "start_time": "2025-05-21T13:29:40.305Z"
   },
   {
    "duration": 68,
    "start_time": "2025-05-21T13:29:53.175Z"
   },
   {
    "duration": 18,
    "start_time": "2025-05-21T13:34:47.758Z"
   },
   {
    "duration": 35,
    "start_time": "2025-05-21T13:34:49.605Z"
   },
   {
    "duration": 12,
    "start_time": "2025-05-21T13:35:15.841Z"
   },
   {
    "duration": 10,
    "start_time": "2025-05-21T13:35:21.075Z"
   },
   {
    "duration": 240,
    "start_time": "2025-05-21T13:37:50.087Z"
   },
   {
    "duration": 1608,
    "start_time": "2025-05-21T13:41:42.270Z"
   },
   {
    "duration": 1257,
    "start_time": "2025-05-21T13:42:36.603Z"
   },
   {
    "duration": 1367,
    "start_time": "2025-05-21T13:43:33.081Z"
   },
   {
    "duration": 1165,
    "start_time": "2025-05-21T13:44:06.798Z"
   },
   {
    "duration": 1210,
    "start_time": "2025-05-21T13:49:01.782Z"
   },
   {
    "duration": 1882,
    "start_time": "2025-05-21T13:49:02.994Z"
   },
   {
    "duration": 768,
    "start_time": "2025-05-21T13:49:04.878Z"
   },
   {
    "duration": 173,
    "start_time": "2025-05-21T13:49:05.660Z"
   },
   {
    "duration": 3,
    "start_time": "2025-05-21T13:49:05.834Z"
   },
   {
    "duration": 936,
    "start_time": "2025-05-21T13:49:05.839Z"
   },
   {
    "duration": 298,
    "start_time": "2025-05-21T13:49:06.778Z"
   },
   {
    "duration": 109,
    "start_time": "2025-05-21T13:49:07.077Z"
   },
   {
    "duration": 64,
    "start_time": "2025-05-21T13:49:07.188Z"
   },
   {
    "duration": 56,
    "start_time": "2025-05-21T13:49:07.255Z"
   },
   {
    "duration": 517,
    "start_time": "2025-05-21T13:49:07.313Z"
   },
   {
    "duration": 17,
    "start_time": "2025-05-21T13:49:07.831Z"
   },
   {
    "duration": 536,
    "start_time": "2025-05-21T13:49:07.861Z"
   },
   {
    "duration": 137,
    "start_time": "2025-05-21T13:49:08.399Z"
   },
   {
    "duration": 73,
    "start_time": "2025-05-21T13:49:08.538Z"
   },
   {
    "duration": 356,
    "start_time": "2025-05-21T13:49:08.613Z"
   },
   {
    "duration": 92,
    "start_time": "2025-05-21T13:49:08.971Z"
   },
   {
    "duration": 343,
    "start_time": "2025-05-21T13:49:09.064Z"
   },
   {
    "duration": 5,
    "start_time": "2025-05-21T13:49:09.409Z"
   },
   {
    "duration": 9,
    "start_time": "2025-05-21T13:49:09.416Z"
   },
   {
    "duration": 7763,
    "start_time": "2025-05-21T13:49:09.426Z"
   },
   {
    "duration": 37,
    "start_time": "2025-05-21T13:49:17.190Z"
   },
   {
    "duration": 83,
    "start_time": "2025-05-21T13:49:17.229Z"
   },
   {
    "duration": 17,
    "start_time": "2025-05-21T13:49:17.314Z"
   },
   {
    "duration": 415,
    "start_time": "2025-05-21T13:49:17.333Z"
   },
   {
    "duration": 164,
    "start_time": "2025-05-21T13:49:17.749Z"
   },
   {
    "duration": 10,
    "start_time": "2025-05-21T13:49:17.914Z"
   },
   {
    "duration": 264,
    "start_time": "2025-05-21T13:49:17.927Z"
   },
   {
    "duration": 1177,
    "start_time": "2025-05-21T13:49:18.192Z"
   },
   {
    "duration": 130,
    "start_time": "2025-05-21T13:57:14.346Z"
   },
   {
    "duration": 104,
    "start_time": "2025-05-21T13:57:32.694Z"
   },
   {
    "duration": 132,
    "start_time": "2025-05-21T13:57:40.542Z"
   },
   {
    "duration": 15,
    "start_time": "2025-05-21T14:09:55.544Z"
   },
   {
    "duration": 2106,
    "start_time": "2025-05-21T14:10:17.984Z"
   },
   {
    "duration": 244,
    "start_time": "2025-05-21T14:20:56.239Z"
   },
   {
    "duration": 235,
    "start_time": "2025-05-21T14:22:13.108Z"
   },
   {
    "duration": 268,
    "start_time": "2025-05-21T14:22:20.440Z"
   },
   {
    "duration": 252,
    "start_time": "2025-05-21T14:22:53.480Z"
   },
   {
    "duration": 258,
    "start_time": "2025-05-21T14:23:01.186Z"
   },
   {
    "duration": 286,
    "start_time": "2025-05-21T14:23:06.613Z"
   },
   {
    "duration": 259,
    "start_time": "2025-05-21T14:23:46.969Z"
   },
   {
    "duration": 247,
    "start_time": "2025-05-21T14:25:11.353Z"
   },
   {
    "duration": 60,
    "start_time": "2025-05-21T14:25:37.093Z"
   },
   {
    "duration": 295,
    "start_time": "2025-05-21T14:26:42.901Z"
   },
   {
    "duration": 298,
    "start_time": "2025-05-21T14:26:55.776Z"
   },
   {
    "duration": 60,
    "start_time": "2025-05-21T14:27:09.186Z"
   },
   {
    "duration": 258,
    "start_time": "2025-05-21T14:27:27.644Z"
   },
   {
    "duration": 256,
    "start_time": "2025-05-21T14:27:40.089Z"
   },
   {
    "duration": 237,
    "start_time": "2025-05-21T14:28:03.853Z"
   },
   {
    "duration": 242,
    "start_time": "2025-05-21T14:28:43.742Z"
   },
   {
    "duration": 248,
    "start_time": "2025-05-21T14:28:54.479Z"
   },
   {
    "duration": 66,
    "start_time": "2025-05-21T14:29:20.854Z"
   },
   {
    "duration": 263,
    "start_time": "2025-05-21T14:31:41.572Z"
   },
   {
    "duration": 291,
    "start_time": "2025-05-21T14:31:57.951Z"
   },
   {
    "duration": 284,
    "start_time": "2025-05-21T14:32:33.105Z"
   },
   {
    "duration": 283,
    "start_time": "2025-05-21T14:32:39.252Z"
   },
   {
    "duration": 275,
    "start_time": "2025-05-21T14:32:43.976Z"
   },
   {
    "duration": 13,
    "start_time": "2025-05-21T14:36:06.461Z"
   },
   {
    "duration": 248,
    "start_time": "2025-05-21T14:36:11.317Z"
   },
   {
    "duration": 239,
    "start_time": "2025-05-21T14:36:28.667Z"
   },
   {
    "duration": 271,
    "start_time": "2025-05-21T14:36:34.729Z"
   },
   {
    "duration": 260,
    "start_time": "2025-05-21T14:37:03.005Z"
   },
   {
    "duration": 275,
    "start_time": "2025-05-21T14:39:20.334Z"
   },
   {
    "duration": 251,
    "start_time": "2025-05-21T14:41:02.962Z"
   },
   {
    "duration": 271,
    "start_time": "2025-05-21T14:41:14.857Z"
   },
   {
    "duration": 263,
    "start_time": "2025-05-21T14:42:48.075Z"
   },
   {
    "duration": 169,
    "start_time": "2025-05-21T14:43:00.824Z"
   },
   {
    "duration": 201,
    "start_time": "2025-05-21T14:43:10.625Z"
   },
   {
    "duration": 212,
    "start_time": "2025-05-21T14:43:30.111Z"
   },
   {
    "duration": 267,
    "start_time": "2025-05-21T14:45:40.303Z"
   },
   {
    "duration": 264,
    "start_time": "2025-05-21T14:45:56.868Z"
   },
   {
    "duration": 265,
    "start_time": "2025-05-21T14:46:07.859Z"
   },
   {
    "duration": 278,
    "start_time": "2025-05-21T14:46:20.225Z"
   },
   {
    "duration": 283,
    "start_time": "2025-05-21T14:46:30.661Z"
   },
   {
    "duration": 472,
    "start_time": "2025-05-21T14:46:54.238Z"
   },
   {
    "duration": 280,
    "start_time": "2025-05-21T14:47:20.822Z"
   },
   {
    "duration": 300,
    "start_time": "2025-05-21T14:47:41.930Z"
   },
   {
    "duration": 312,
    "start_time": "2025-05-21T14:47:45.283Z"
   },
   {
    "duration": 274,
    "start_time": "2025-05-21T14:48:14.694Z"
   },
   {
    "duration": 297,
    "start_time": "2025-05-21T14:48:45.520Z"
   },
   {
    "duration": 234,
    "start_time": "2025-05-21T14:50:04.697Z"
   },
   {
    "duration": 239,
    "start_time": "2025-05-21T14:50:27.272Z"
   },
   {
    "duration": 198,
    "start_time": "2025-05-21T14:51:32.800Z"
   },
   {
    "duration": 247,
    "start_time": "2025-05-21T14:51:42.675Z"
   },
   {
    "duration": 258,
    "start_time": "2025-05-21T14:51:56.770Z"
   },
   {
    "duration": 322,
    "start_time": "2025-05-21T14:52:23.703Z"
   },
   {
    "duration": 2155,
    "start_time": "2025-05-21T14:59:19.667Z"
   },
   {
    "duration": 210,
    "start_time": "2025-05-21T15:02:05.395Z"
   },
   {
    "duration": 12,
    "start_time": "2025-05-21T15:02:20.023Z"
   },
   {
    "duration": 196,
    "start_time": "2025-05-21T15:02:23.574Z"
   },
   {
    "duration": 2172,
    "start_time": "2025-05-21T15:02:30.488Z"
   },
   {
    "duration": 15,
    "start_time": "2025-05-21T15:03:45.408Z"
   },
   {
    "duration": 2326,
    "start_time": "2025-05-21T15:03:54.812Z"
   },
   {
    "duration": 2151,
    "start_time": "2025-05-21T15:04:03.810Z"
   },
   {
    "duration": 2184,
    "start_time": "2025-05-21T15:04:14.853Z"
   },
   {
    "duration": 2181,
    "start_time": "2025-05-21T15:04:48.518Z"
   },
   {
    "duration": 2126,
    "start_time": "2025-05-21T15:05:27.022Z"
   },
   {
    "duration": 2311,
    "start_time": "2025-05-21T15:05:35.725Z"
   },
   {
    "duration": 2143,
    "start_time": "2025-05-21T15:15:13.591Z"
   },
   {
    "duration": 2283,
    "start_time": "2025-05-21T15:17:36.472Z"
   },
   {
    "duration": 51,
    "start_time": "2025-05-21T15:27:48.044Z"
   },
   {
    "duration": 48,
    "start_time": "2025-05-21T15:28:03.578Z"
   },
   {
    "duration": 47,
    "start_time": "2025-05-21T15:28:16.815Z"
   },
   {
    "duration": 50,
    "start_time": "2025-05-21T15:28:21.234Z"
   },
   {
    "duration": 47,
    "start_time": "2025-05-21T15:28:48.097Z"
   },
   {
    "duration": 52,
    "start_time": "2025-05-21T15:28:56.919Z"
   },
   {
    "duration": 50,
    "start_time": "2025-05-21T15:29:11.368Z"
   },
   {
    "duration": 52,
    "start_time": "2025-05-21T15:29:30.578Z"
   },
   {
    "duration": 53,
    "start_time": "2025-05-21T15:30:39.397Z"
   },
   {
    "duration": 181,
    "start_time": "2025-05-21T15:32:54.370Z"
   },
   {
    "duration": 182,
    "start_time": "2025-05-21T15:35:40.740Z"
   },
   {
    "duration": 190,
    "start_time": "2025-05-21T15:44:43.270Z"
   },
   {
    "duration": 199,
    "start_time": "2025-05-21T15:44:54.157Z"
   },
   {
    "duration": 183,
    "start_time": "2025-05-21T15:48:38.455Z"
   },
   {
    "duration": 30,
    "start_time": "2025-05-21T15:55:20.291Z"
   },
   {
    "duration": 28,
    "start_time": "2025-05-21T15:55:47.029Z"
   },
   {
    "duration": 8,
    "start_time": "2025-05-21T15:55:53.804Z"
   },
   {
    "duration": 86,
    "start_time": "2025-05-21T15:56:11.441Z"
   },
   {
    "duration": 17,
    "start_time": "2025-05-21T15:56:13.401Z"
   },
   {
    "duration": 96,
    "start_time": "2025-05-21T15:57:22.624Z"
   },
   {
    "duration": 17,
    "start_time": "2025-05-21T15:57:24.924Z"
   },
   {
    "duration": 119,
    "start_time": "2025-05-21T15:57:45.012Z"
   },
   {
    "duration": 9,
    "start_time": "2025-05-21T15:57:47.427Z"
   },
   {
    "duration": 98,
    "start_time": "2025-05-21T15:57:57.355Z"
   },
   {
    "duration": 13,
    "start_time": "2025-05-21T15:57:59.723Z"
   },
   {
    "duration": 13,
    "start_time": "2025-05-21T15:58:14.122Z"
   },
   {
    "duration": 10,
    "start_time": "2025-05-21T16:00:02.959Z"
   },
   {
    "duration": 19,
    "start_time": "2025-05-21T16:00:14.595Z"
   },
   {
    "duration": 6,
    "start_time": "2025-05-21T16:00:28.506Z"
   },
   {
    "duration": 17,
    "start_time": "2025-05-21T16:00:31.859Z"
   },
   {
    "duration": 20,
    "start_time": "2025-05-21T16:00:36.650Z"
   },
   {
    "duration": 12,
    "start_time": "2025-05-21T16:00:48.052Z"
   },
   {
    "duration": 16,
    "start_time": "2025-05-21T16:02:26.826Z"
   },
   {
    "duration": 12,
    "start_time": "2025-05-21T16:02:33.323Z"
   },
   {
    "duration": 3,
    "start_time": "2025-05-21T16:03:11.599Z"
   },
   {
    "duration": 4,
    "start_time": "2025-05-21T16:03:18.799Z"
   },
   {
    "duration": 87,
    "start_time": "2025-05-21T16:04:37.240Z"
   },
   {
    "duration": 3,
    "start_time": "2025-05-21T16:04:39.658Z"
   },
   {
    "duration": 12,
    "start_time": "2025-05-21T16:04:43.332Z"
   },
   {
    "duration": 12,
    "start_time": "2025-05-21T16:04:52.775Z"
   },
   {
    "duration": 13,
    "start_time": "2025-05-21T16:05:01.762Z"
   },
   {
    "duration": 16,
    "start_time": "2025-05-21T16:06:32.371Z"
   },
   {
    "duration": 15,
    "start_time": "2025-05-21T16:06:46.158Z"
   },
   {
    "duration": 10,
    "start_time": "2025-05-21T16:09:27.676Z"
   },
   {
    "duration": 12,
    "start_time": "2025-05-21T16:12:16.337Z"
   },
   {
    "duration": 273,
    "start_time": "2025-05-21T16:12:27.927Z"
   },
   {
    "duration": 288,
    "start_time": "2025-05-21T16:12:40.096Z"
   },
   {
    "duration": 392,
    "start_time": "2025-05-21T16:12:56.993Z"
   },
   {
    "duration": 293,
    "start_time": "2025-05-21T16:15:18.098Z"
   },
   {
    "duration": 308,
    "start_time": "2025-05-21T16:15:39.382Z"
   },
   {
    "duration": 300,
    "start_time": "2025-05-21T16:15:59.661Z"
   },
   {
    "duration": 588,
    "start_time": "2025-05-21T16:20:17.518Z"
   },
   {
    "duration": 581,
    "start_time": "2025-05-21T16:20:35.553Z"
   },
   {
    "duration": 489,
    "start_time": "2025-05-21T16:21:29.625Z"
   },
   {
    "duration": 509,
    "start_time": "2025-05-21T16:21:38.955Z"
   },
   {
    "duration": 694,
    "start_time": "2025-05-21T16:23:22.200Z"
   },
   {
    "duration": 1016,
    "start_time": "2025-05-21T16:25:23.819Z"
   },
   {
    "duration": 912,
    "start_time": "2025-05-21T16:25:54.741Z"
   },
   {
    "duration": 872,
    "start_time": "2025-05-21T16:26:11.050Z"
   },
   {
    "duration": 970,
    "start_time": "2025-05-21T16:26:23.742Z"
   },
   {
    "duration": 1161,
    "start_time": "2025-05-21T16:27:46.117Z"
   },
   {
    "duration": 1179,
    "start_time": "2025-05-21T16:29:26.241Z"
   },
   {
    "duration": 1314,
    "start_time": "2025-05-21T16:29:36.836Z"
   },
   {
    "duration": 1221,
    "start_time": "2025-05-21T16:30:01.173Z"
   },
   {
    "duration": 1463,
    "start_time": "2025-05-21T16:30:24.428Z"
   },
   {
    "duration": 14,
    "start_time": "2025-05-21T16:42:04.926Z"
   },
   {
    "duration": 4,
    "start_time": "2025-05-21T16:45:13.847Z"
   },
   {
    "duration": 15,
    "start_time": "2025-05-21T16:45:19.929Z"
   },
   {
    "duration": 30,
    "start_time": "2025-05-21T16:46:56.988Z"
   },
   {
    "duration": 95,
    "start_time": "2025-05-21T16:47:20.553Z"
   },
   {
    "duration": 12,
    "start_time": "2025-05-21T16:47:24.930Z"
   },
   {
    "duration": 29,
    "start_time": "2025-05-21T16:48:21.901Z"
   },
   {
    "duration": 86,
    "start_time": "2025-05-21T16:48:24.073Z"
   },
   {
    "duration": 9,
    "start_time": "2025-05-21T16:48:25.930Z"
   },
   {
    "duration": 93,
    "start_time": "2025-05-21T16:48:44.632Z"
   },
   {
    "duration": 9,
    "start_time": "2025-05-21T16:48:46.958Z"
   },
   {
    "duration": 4,
    "start_time": "2025-05-21T16:49:32.204Z"
   },
   {
    "duration": 10,
    "start_time": "2025-05-21T16:50:37.908Z"
   },
   {
    "duration": 672,
    "start_time": "2025-05-21T16:51:20.151Z"
   },
   {
    "duration": 1256,
    "start_time": "2025-05-21T16:52:19.248Z"
   },
   {
    "duration": 2309,
    "start_time": "2025-05-21T16:52:20.505Z"
   },
   {
    "duration": 722,
    "start_time": "2025-05-21T16:52:22.815Z"
   },
   {
    "duration": 169,
    "start_time": "2025-05-21T16:52:23.538Z"
   },
   {
    "duration": 6,
    "start_time": "2025-05-21T16:52:23.710Z"
   },
   {
    "duration": 547,
    "start_time": "2025-05-21T16:52:23.717Z"
   },
   {
    "duration": 300,
    "start_time": "2025-05-21T16:52:24.266Z"
   },
   {
    "duration": 54,
    "start_time": "2025-05-21T16:52:24.568Z"
   },
   {
    "duration": 8,
    "start_time": "2025-05-21T16:52:24.624Z"
   },
   {
    "duration": 5,
    "start_time": "2025-05-21T16:52:24.634Z"
   },
   {
    "duration": 487,
    "start_time": "2025-05-21T16:52:24.661Z"
   },
   {
    "duration": 22,
    "start_time": "2025-05-21T16:52:25.149Z"
   },
   {
    "duration": 446,
    "start_time": "2025-05-21T16:52:25.173Z"
   },
   {
    "duration": 131,
    "start_time": "2025-05-21T16:52:25.622Z"
   },
   {
    "duration": 58,
    "start_time": "2025-05-21T16:52:25.760Z"
   },
   {
    "duration": 347,
    "start_time": "2025-05-21T16:52:25.820Z"
   },
   {
    "duration": 94,
    "start_time": "2025-05-21T16:52:26.169Z"
   },
   {
    "duration": 318,
    "start_time": "2025-05-21T16:52:26.265Z"
   },
   {
    "duration": 5,
    "start_time": "2025-05-21T16:52:26.585Z"
   },
   {
    "duration": 3,
    "start_time": "2025-05-21T16:52:26.592Z"
   },
   {
    "duration": 7664,
    "start_time": "2025-05-21T16:52:26.597Z"
   },
   {
    "duration": 38,
    "start_time": "2025-05-21T16:52:34.263Z"
   },
   {
    "duration": 86,
    "start_time": "2025-05-21T16:52:34.303Z"
   },
   {
    "duration": 20,
    "start_time": "2025-05-21T16:52:34.391Z"
   },
   {
    "duration": 669,
    "start_time": "2025-05-21T16:52:34.412Z"
   },
   {
    "duration": 179,
    "start_time": "2025-05-21T16:52:35.083Z"
   },
   {
    "duration": 11,
    "start_time": "2025-05-21T16:52:35.263Z"
   },
   {
    "duration": 265,
    "start_time": "2025-05-21T16:52:35.276Z"
   },
   {
    "duration": 1377,
    "start_time": "2025-05-21T16:52:35.543Z"
   },
   {
    "duration": 142,
    "start_time": "2025-05-21T16:52:36.921Z"
   },
   {
    "duration": 284,
    "start_time": "2025-05-21T16:52:37.065Z"
   },
   {
    "duration": 292,
    "start_time": "2025-05-21T16:52:37.351Z"
   },
   {
    "duration": 213,
    "start_time": "2025-05-21T16:52:37.645Z"
   },
   {
    "duration": 225,
    "start_time": "2025-05-21T16:52:37.860Z"
   },
   {
    "duration": 2232,
    "start_time": "2025-05-21T16:52:38.087Z"
   },
   {
    "duration": 190,
    "start_time": "2025-05-21T16:52:40.321Z"
   },
   {
    "duration": 98,
    "start_time": "2025-05-21T16:52:40.513Z"
   },
   {
    "duration": 3,
    "start_time": "2025-05-21T16:52:40.613Z"
   },
   {
    "duration": 16,
    "start_time": "2025-05-21T16:52:40.618Z"
   },
   {
    "duration": 1307,
    "start_time": "2025-05-21T16:52:40.636Z"
   },
   {
    "duration": 36,
    "start_time": "2025-05-21T16:52:41.947Z"
   },
   {
    "duration": 101,
    "start_time": "2025-05-21T16:52:41.985Z"
   },
   {
    "duration": 2,
    "start_time": "2025-05-21T16:52:42.088Z"
   },
   {
    "duration": 19,
    "start_time": "2025-05-21T16:52:42.092Z"
   },
   {
    "duration": 629,
    "start_time": "2025-05-21T16:52:42.113Z"
   },
   {
    "duration": 1298,
    "start_time": "2025-05-22T04:34:20.631Z"
   },
   {
    "duration": 1991,
    "start_time": "2025-05-22T04:34:21.931Z"
   },
   {
    "duration": 708,
    "start_time": "2025-05-22T04:34:23.924Z"
   },
   {
    "duration": 176,
    "start_time": "2025-05-22T04:34:24.633Z"
   },
   {
    "duration": 3,
    "start_time": "2025-05-22T04:34:24.812Z"
   },
   {
    "duration": 549,
    "start_time": "2025-05-22T04:34:24.817Z"
   },
   {
    "duration": 308,
    "start_time": "2025-05-22T04:34:25.368Z"
   },
   {
    "duration": 54,
    "start_time": "2025-05-22T04:34:25.678Z"
   },
   {
    "duration": 7,
    "start_time": "2025-05-22T04:34:25.734Z"
   },
   {
    "duration": 60,
    "start_time": "2025-05-22T04:34:25.742Z"
   },
   {
    "duration": 473,
    "start_time": "2025-05-22T04:34:25.804Z"
   },
   {
    "duration": 17,
    "start_time": "2025-05-22T04:34:26.279Z"
   },
   {
    "duration": 502,
    "start_time": "2025-05-22T04:34:26.298Z"
   },
   {
    "duration": 137,
    "start_time": "2025-05-22T04:34:26.803Z"
   },
   {
    "duration": 72,
    "start_time": "2025-05-22T04:34:26.942Z"
   },
   {
    "duration": 366,
    "start_time": "2025-05-22T04:34:27.016Z"
   },
   {
    "duration": 92,
    "start_time": "2025-05-22T04:34:27.384Z"
   },
   {
    "duration": 355,
    "start_time": "2025-05-22T04:34:27.478Z"
   },
   {
    "duration": 5,
    "start_time": "2025-05-22T04:34:27.835Z"
   },
   {
    "duration": 8,
    "start_time": "2025-05-22T04:34:27.841Z"
   },
   {
    "duration": 7794,
    "start_time": "2025-05-22T04:34:27.851Z"
   },
   {
    "duration": 44,
    "start_time": "2025-05-22T04:34:35.646Z"
   },
   {
    "duration": 93,
    "start_time": "2025-05-22T04:34:35.693Z"
   },
   {
    "duration": 111,
    "start_time": "2025-05-22T04:34:35.788Z"
   },
   {
    "duration": 388,
    "start_time": "2025-05-22T04:34:35.901Z"
   },
   {
    "duration": 174,
    "start_time": "2025-05-22T04:34:36.291Z"
   },
   {
    "duration": 10,
    "start_time": "2025-05-22T04:34:36.467Z"
   },
   {
    "duration": 261,
    "start_time": "2025-05-22T04:34:36.479Z"
   },
   {
    "duration": 1169,
    "start_time": "2025-05-22T04:34:36.741Z"
   },
   {
    "duration": 145,
    "start_time": "2025-05-22T04:34:37.912Z"
   },
   {
    "duration": 285,
    "start_time": "2025-05-22T04:34:38.059Z"
   },
   {
    "duration": 265,
    "start_time": "2025-05-22T04:34:38.345Z"
   },
   {
    "duration": 220,
    "start_time": "2025-05-22T04:34:38.611Z"
   },
   {
    "duration": 235,
    "start_time": "2025-05-22T04:34:38.833Z"
   },
   {
    "duration": 2236,
    "start_time": "2025-05-22T04:34:39.069Z"
   },
   {
    "duration": 197,
    "start_time": "2025-05-22T04:34:41.307Z"
   },
   {
    "duration": 95,
    "start_time": "2025-05-22T04:34:41.505Z"
   },
   {
    "duration": 17,
    "start_time": "2025-05-22T04:34:41.601Z"
   },
   {
    "duration": 15,
    "start_time": "2025-05-22T04:34:41.620Z"
   },
   {
    "duration": 1416,
    "start_time": "2025-05-22T04:34:41.637Z"
   },
   {
    "duration": 29,
    "start_time": "2025-05-22T04:34:43.057Z"
   },
   {
    "duration": 102,
    "start_time": "2025-05-22T04:34:43.088Z"
   },
   {
    "duration": 3,
    "start_time": "2025-05-22T04:34:43.191Z"
   },
   {
    "duration": 107,
    "start_time": "2025-05-22T04:34:43.196Z"
   },
   {
    "duration": 506,
    "start_time": "2025-05-22T04:34:43.305Z"
   },
   {
    "duration": 424,
    "start_time": "2025-05-22T04:35:11.920Z"
   },
   {
    "duration": 810,
    "start_time": "2025-05-22T04:35:35.838Z"
   },
   {
    "duration": 655,
    "start_time": "2025-05-22T04:36:42.376Z"
   },
   {
    "duration": 386,
    "start_time": "2025-05-22T04:40:19.004Z"
   },
   {
    "duration": 415,
    "start_time": "2025-05-22T04:41:27.594Z"
   },
   {
    "duration": 668,
    "start_time": "2025-05-22T04:41:35.364Z"
   },
   {
    "duration": 582,
    "start_time": "2025-05-22T04:42:03.167Z"
   },
   {
    "duration": 1319,
    "start_time": "2025-05-22T04:42:16.692Z"
   },
   {
    "duration": 1375,
    "start_time": "2025-05-22T04:42:30.133Z"
   },
   {
    "duration": 375,
    "start_time": "2025-05-22T04:46:57.645Z"
   },
   {
    "duration": 581,
    "start_time": "2025-05-22T04:47:24.099Z"
   },
   {
    "duration": 761,
    "start_time": "2025-05-22T04:51:13.364Z"
   },
   {
    "duration": 610,
    "start_time": "2025-05-22T04:51:18.345Z"
   },
   {
    "duration": 613,
    "start_time": "2025-05-22T04:51:39.796Z"
   },
   {
    "duration": 646,
    "start_time": "2025-05-22T04:51:45.533Z"
   },
   {
    "duration": 599,
    "start_time": "2025-05-22T04:51:51.377Z"
   },
   {
    "duration": 857,
    "start_time": "2025-05-22T04:51:59.560Z"
   },
   {
    "duration": 704,
    "start_time": "2025-05-22T04:52:05.044Z"
   },
   {
    "duration": 679,
    "start_time": "2025-05-22T04:52:11.188Z"
   },
   {
    "duration": 710,
    "start_time": "2025-05-22T04:52:16.650Z"
   },
   {
    "duration": 688,
    "start_time": "2025-05-22T04:52:26.991Z"
   },
   {
    "duration": 874,
    "start_time": "2025-05-22T04:52:31.802Z"
   },
   {
    "duration": 680,
    "start_time": "2025-05-22T04:52:37.586Z"
   },
   {
    "duration": 725,
    "start_time": "2025-05-22T04:52:41.855Z"
   },
   {
    "duration": 748,
    "start_time": "2025-05-22T04:52:59.225Z"
   },
   {
    "duration": 823,
    "start_time": "2025-05-22T04:53:08.359Z"
   },
   {
    "duration": 719,
    "start_time": "2025-05-22T04:53:14.161Z"
   },
   {
    "duration": 440,
    "start_time": "2025-05-22T04:54:28.013Z"
   },
   {
    "duration": 561,
    "start_time": "2025-05-22T04:54:49.661Z"
   },
   {
    "duration": 470,
    "start_time": "2025-05-22T04:55:49.092Z"
   },
   {
    "duration": 762,
    "start_time": "2025-05-22T04:56:16.631Z"
   },
   {
    "duration": 860,
    "start_time": "2025-05-22T04:56:41.537Z"
   },
   {
    "duration": 861,
    "start_time": "2025-05-22T04:57:01.499Z"
   },
   {
    "duration": 940,
    "start_time": "2025-05-22T04:57:14.591Z"
   },
   {
    "duration": 805,
    "start_time": "2025-05-22T04:57:20.984Z"
   },
   {
    "duration": 921,
    "start_time": "2025-05-22T04:57:52.844Z"
   },
   {
    "duration": 895,
    "start_time": "2025-05-22T04:58:03.875Z"
   },
   {
    "duration": 1133,
    "start_time": "2025-05-22T04:58:51.846Z"
   },
   {
    "duration": 939,
    "start_time": "2025-05-22T04:59:09.868Z"
   },
   {
    "duration": 944,
    "start_time": "2025-05-22T04:59:18.237Z"
   },
   {
    "duration": 1465,
    "start_time": "2025-05-22T04:59:46.086Z"
   },
   {
    "duration": 1156,
    "start_time": "2025-05-22T05:02:35.269Z"
   },
   {
    "duration": 1252,
    "start_time": "2025-05-22T05:03:16.462Z"
   },
   {
    "duration": 1384,
    "start_time": "2025-05-22T05:03:35.206Z"
   },
   {
    "duration": 70,
    "start_time": "2025-05-22T05:04:16.929Z"
   },
   {
    "duration": 1196,
    "start_time": "2025-05-22T05:04:22.193Z"
   },
   {
    "duration": 1059,
    "start_time": "2025-05-22T05:04:37.579Z"
   },
   {
    "duration": 608,
    "start_time": "2025-05-22T05:06:35.510Z"
   },
   {
    "duration": 1231,
    "start_time": "2025-05-22T05:06:59.330Z"
   },
   {
    "duration": 572,
    "start_time": "2025-05-22T05:07:11.352Z"
   },
   {
    "duration": 578,
    "start_time": "2025-05-22T05:07:34.442Z"
   },
   {
    "duration": 1645,
    "start_time": "2025-05-22T05:07:45.505Z"
   },
   {
    "duration": 1408,
    "start_time": "2025-05-22T05:07:56.355Z"
   },
   {
    "duration": 1563,
    "start_time": "2025-05-22T05:09:15.308Z"
   },
   {
    "duration": 1102,
    "start_time": "2025-05-22T05:09:54.042Z"
   },
   {
    "duration": 1393,
    "start_time": "2025-05-22T05:10:09.102Z"
   },
   {
    "duration": 192,
    "start_time": "2025-05-22T05:12:27.173Z"
   },
   {
    "duration": 358,
    "start_time": "2025-05-22T05:12:33.729Z"
   },
   {
    "duration": 932,
    "start_time": "2025-05-22T05:12:39.669Z"
   },
   {
    "duration": 4,
    "start_time": "2025-05-22T05:20:51.974Z"
   },
   {
    "duration": 1542,
    "start_time": "2025-05-22T05:21:10.035Z"
   },
   {
    "duration": 1186,
    "start_time": "2025-05-22T05:25:44.123Z"
   },
   {
    "duration": 2078,
    "start_time": "2025-05-22T05:25:45.311Z"
   },
   {
    "duration": 756,
    "start_time": "2025-05-22T05:25:47.391Z"
   },
   {
    "duration": 187,
    "start_time": "2025-05-22T05:25:48.149Z"
   },
   {
    "duration": 4,
    "start_time": "2025-05-22T05:25:48.338Z"
   },
   {
    "duration": 568,
    "start_time": "2025-05-22T05:25:48.343Z"
   },
   {
    "duration": 296,
    "start_time": "2025-05-22T05:25:48.912Z"
   },
   {
    "duration": 67,
    "start_time": "2025-05-22T05:25:49.210Z"
   },
   {
    "duration": 7,
    "start_time": "2025-05-22T05:25:49.278Z"
   },
   {
    "duration": 12,
    "start_time": "2025-05-22T05:25:49.287Z"
   },
   {
    "duration": 460,
    "start_time": "2025-05-22T05:25:49.300Z"
   },
   {
    "duration": 21,
    "start_time": "2025-05-22T05:25:49.761Z"
   },
   {
    "duration": 456,
    "start_time": "2025-05-22T05:25:49.784Z"
   },
   {
    "duration": 144,
    "start_time": "2025-05-22T05:25:50.243Z"
   },
   {
    "duration": 59,
    "start_time": "2025-05-22T05:25:50.389Z"
   },
   {
    "duration": 375,
    "start_time": "2025-05-22T05:25:50.450Z"
   },
   {
    "duration": 92,
    "start_time": "2025-05-22T05:25:50.827Z"
   },
   {
    "duration": 346,
    "start_time": "2025-05-22T05:25:50.921Z"
   },
   {
    "duration": 6,
    "start_time": "2025-05-22T05:25:51.277Z"
   },
   {
    "duration": 27,
    "start_time": "2025-05-22T05:25:51.285Z"
   },
   {
    "duration": 7864,
    "start_time": "2025-05-22T05:25:51.314Z"
   },
   {
    "duration": 41,
    "start_time": "2025-05-22T05:25:59.180Z"
   },
   {
    "duration": 94,
    "start_time": "2025-05-22T05:25:59.223Z"
   },
   {
    "duration": 17,
    "start_time": "2025-05-22T05:25:59.318Z"
   },
   {
    "duration": 415,
    "start_time": "2025-05-22T05:25:59.336Z"
   },
   {
    "duration": 172,
    "start_time": "2025-05-22T05:25:59.752Z"
   },
   {
    "duration": 12,
    "start_time": "2025-05-22T05:25:59.925Z"
   },
   {
    "duration": 264,
    "start_time": "2025-05-22T05:25:59.938Z"
   },
   {
    "duration": 1532,
    "start_time": "2025-05-22T05:26:00.204Z"
   },
   {
    "duration": 143,
    "start_time": "2025-05-22T05:26:01.737Z"
   },
   {
    "duration": 315,
    "start_time": "2025-05-22T05:26:01.882Z"
   },
   {
    "duration": 261,
    "start_time": "2025-05-22T05:26:02.199Z"
   },
   {
    "duration": 214,
    "start_time": "2025-05-22T05:26:02.462Z"
   },
   {
    "duration": 241,
    "start_time": "2025-05-22T05:26:02.678Z"
   },
   {
    "duration": 2250,
    "start_time": "2025-05-22T05:26:02.921Z"
   },
   {
    "duration": 192,
    "start_time": "2025-05-22T05:26:05.176Z"
   },
   {
    "duration": 96,
    "start_time": "2025-05-22T05:26:05.370Z"
   },
   {
    "duration": 57,
    "start_time": "2025-05-22T05:26:05.468Z"
   },
   {
    "duration": 58,
    "start_time": "2025-05-22T05:26:05.527Z"
   },
   {
    "duration": 1427,
    "start_time": "2025-05-22T05:26:05.586Z"
   },
   {
    "duration": 31,
    "start_time": "2025-05-22T05:26:07.017Z"
   },
   {
    "duration": 97,
    "start_time": "2025-05-22T05:26:07.050Z"
   },
   {
    "duration": 4,
    "start_time": "2025-05-22T05:26:07.148Z"
   },
   {
    "duration": 24,
    "start_time": "2025-05-22T05:26:07.154Z"
   },
   {
    "duration": 967,
    "start_time": "2025-05-22T05:26:07.180Z"
   },
   {
    "duration": 1208,
    "start_time": "2025-05-22T05:26:08.149Z"
   },
   {
    "duration": 164,
    "start_time": "2025-05-22T05:33:44.102Z"
   },
   {
    "duration": 144,
    "start_time": "2025-05-22T05:45:34.243Z"
   },
   {
    "duration": 143,
    "start_time": "2025-05-22T05:46:50.549Z"
   },
   {
    "duration": 10,
    "start_time": "2025-05-22T05:46:53.693Z"
   },
   {
    "duration": 102,
    "start_time": "2025-05-22T05:47:11.615Z"
   },
   {
    "duration": 11,
    "start_time": "2025-05-22T05:47:17.475Z"
   },
   {
    "duration": 11,
    "start_time": "2025-05-22T05:47:29.338Z"
   },
   {
    "duration": 11,
    "start_time": "2025-05-22T05:48:00.829Z"
   },
   {
    "duration": 12,
    "start_time": "2025-05-22T05:48:06.444Z"
   },
   {
    "duration": 85,
    "start_time": "2025-05-22T05:48:46.249Z"
   },
   {
    "duration": 141,
    "start_time": "2025-05-22T05:49:22.414Z"
   },
   {
    "duration": 11,
    "start_time": "2025-05-22T05:49:24.502Z"
   },
   {
    "duration": 10,
    "start_time": "2025-05-22T05:49:32.203Z"
   },
   {
    "duration": 10,
    "start_time": "2025-05-22T06:06:24.381Z"
   },
   {
    "duration": 173,
    "start_time": "2025-05-22T06:08:06.658Z"
   },
   {
    "duration": 15,
    "start_time": "2025-05-22T06:08:08.525Z"
   },
   {
    "duration": 540,
    "start_time": "2025-05-22T06:08:56.864Z"
   },
   {
    "duration": 197,
    "start_time": "2025-05-22T06:09:05.730Z"
   },
   {
    "duration": 174,
    "start_time": "2025-05-22T06:09:36.850Z"
   },
   {
    "duration": 13,
    "start_time": "2025-05-22T06:09:38.634Z"
   },
   {
    "duration": 15,
    "start_time": "2025-05-22T06:13:56.100Z"
   },
   {
    "duration": 221,
    "start_time": "2025-05-22T06:15:24.432Z"
   },
   {
    "duration": 15,
    "start_time": "2025-05-22T06:15:27.000Z"
   },
   {
    "duration": 14,
    "start_time": "2025-05-22T06:15:54.773Z"
   },
   {
    "duration": 170,
    "start_time": "2025-05-22T06:16:12.536Z"
   },
   {
    "duration": 12,
    "start_time": "2025-05-22T06:16:14.425Z"
   },
   {
    "duration": 7,
    "start_time": "2025-05-22T06:18:16.915Z"
   },
   {
    "duration": 11,
    "start_time": "2025-05-22T06:18:31.148Z"
   },
   {
    "duration": 150,
    "start_time": "2025-05-22T06:18:42.321Z"
   },
   {
    "duration": 150,
    "start_time": "2025-05-22T06:18:57.409Z"
   },
   {
    "duration": 146,
    "start_time": "2025-05-22T06:19:20.953Z"
   },
   {
    "duration": 147,
    "start_time": "2025-05-22T06:19:25.617Z"
   },
   {
    "duration": 156,
    "start_time": "2025-05-22T06:19:31.603Z"
   },
   {
    "duration": 142,
    "start_time": "2025-05-22T06:19:35.536Z"
   },
   {
    "duration": 189,
    "start_time": "2025-05-22T06:20:50.282Z"
   },
   {
    "duration": 143,
    "start_time": "2025-05-22T06:20:58.198Z"
   },
   {
    "duration": 149,
    "start_time": "2025-05-22T06:21:11.830Z"
   },
   {
    "duration": 136,
    "start_time": "2025-05-22T06:22:42.234Z"
   },
   {
    "duration": 139,
    "start_time": "2025-05-22T06:22:50.276Z"
   },
   {
    "duration": 150,
    "start_time": "2025-05-22T06:23:57.622Z"
   },
   {
    "duration": 141,
    "start_time": "2025-05-22T06:24:29.783Z"
   },
   {
    "duration": 161,
    "start_time": "2025-05-22T06:25:03.835Z"
   },
   {
    "duration": 157,
    "start_time": "2025-05-22T06:25:11.665Z"
   },
   {
    "duration": 7,
    "start_time": "2025-05-22T06:26:25.549Z"
   },
   {
    "duration": 11,
    "start_time": "2025-05-22T06:26:54.740Z"
   },
   {
    "duration": 12,
    "start_time": "2025-05-22T06:27:11.183Z"
   },
   {
    "duration": 9,
    "start_time": "2025-05-22T06:27:19.232Z"
   },
   {
    "duration": 12,
    "start_time": "2025-05-22T06:27:29.441Z"
   },
   {
    "duration": 13,
    "start_time": "2025-05-22T06:27:56.821Z"
   },
   {
    "duration": 11,
    "start_time": "2025-05-22T06:28:14.361Z"
   },
   {
    "duration": 7,
    "start_time": "2025-05-22T06:28:31.904Z"
   },
   {
    "duration": 154,
    "start_time": "2025-05-22T06:29:56.715Z"
   },
   {
    "duration": 297,
    "start_time": "2025-05-22T06:30:42.192Z"
   },
   {
    "duration": 187,
    "start_time": "2025-05-22T06:31:03.119Z"
   },
   {
    "duration": 7,
    "start_time": "2025-05-22T06:32:17.148Z"
   },
   {
    "duration": 179,
    "start_time": "2025-05-22T06:32:25.925Z"
   },
   {
    "duration": 209,
    "start_time": "2025-05-22T06:32:41.946Z"
   },
   {
    "duration": 182,
    "start_time": "2025-05-22T06:32:50.733Z"
   },
   {
    "duration": 177,
    "start_time": "2025-05-22T06:32:55.489Z"
   },
   {
    "duration": 178,
    "start_time": "2025-05-22T06:33:03.349Z"
   },
   {
    "duration": 182,
    "start_time": "2025-05-22T06:33:17.474Z"
   },
   {
    "duration": 175,
    "start_time": "2025-05-22T06:33:30.954Z"
   },
   {
    "duration": 132,
    "start_time": "2025-05-22T06:33:58.031Z"
   },
   {
    "duration": 130,
    "start_time": "2025-05-22T06:34:11.840Z"
   },
   {
    "duration": 127,
    "start_time": "2025-05-22T06:34:23.798Z"
   },
   {
    "duration": 155,
    "start_time": "2025-05-22T06:34:34.266Z"
   },
   {
    "duration": 146,
    "start_time": "2025-05-22T06:34:43.086Z"
   },
   {
    "duration": 173,
    "start_time": "2025-05-22T06:35:02.174Z"
   },
   {
    "duration": 181,
    "start_time": "2025-05-22T06:35:06.590Z"
   },
   {
    "duration": 168,
    "start_time": "2025-05-22T06:35:27.528Z"
   },
   {
    "duration": 342,
    "start_time": "2025-05-22T06:35:46.727Z"
   },
   {
    "duration": 169,
    "start_time": "2025-05-22T06:36:20.176Z"
   },
   {
    "duration": 170,
    "start_time": "2025-05-22T06:36:26.317Z"
   },
   {
    "duration": 177,
    "start_time": "2025-05-22T06:36:31.843Z"
   },
   {
    "duration": 13,
    "start_time": "2025-05-22T06:38:44.611Z"
   },
   {
    "duration": 9,
    "start_time": "2025-05-22T06:38:58.173Z"
   },
   {
    "duration": 14,
    "start_time": "2025-05-22T06:41:43.189Z"
   },
   {
    "duration": 15,
    "start_time": "2025-05-22T06:43:10.180Z"
   },
   {
    "duration": 15,
    "start_time": "2025-05-22T06:43:22.893Z"
   },
   {
    "duration": 14,
    "start_time": "2025-05-22T06:43:27.989Z"
   },
   {
    "duration": 18,
    "start_time": "2025-05-22T06:45:11.993Z"
   },
   {
    "duration": 11,
    "start_time": "2025-05-22T06:47:40.202Z"
   },
   {
    "duration": 11,
    "start_time": "2025-05-22T06:47:47.880Z"
   },
   {
    "duration": 12,
    "start_time": "2025-05-22T06:48:40.600Z"
   },
   {
    "duration": 24,
    "start_time": "2025-05-22T07:49:09.837Z"
   },
   {
    "duration": 215,
    "start_time": "2025-05-22T07:49:18.067Z"
   },
   {
    "duration": 212,
    "start_time": "2025-05-22T07:49:30.716Z"
   },
   {
    "duration": 204,
    "start_time": "2025-05-22T07:49:36.829Z"
   },
   {
    "duration": 205,
    "start_time": "2025-05-22T07:49:42.473Z"
   },
   {
    "duration": 275,
    "start_time": "2025-05-22T07:50:04.309Z"
   },
   {
    "duration": 460,
    "start_time": "2025-05-22T07:50:12.670Z"
   },
   {
    "duration": 444,
    "start_time": "2025-05-22T07:50:33.144Z"
   },
   {
    "duration": 417,
    "start_time": "2025-05-22T07:50:43.381Z"
   },
   {
    "duration": 562,
    "start_time": "2025-05-22T07:50:48.626Z"
   },
   {
    "duration": 407,
    "start_time": "2025-05-22T07:50:54.032Z"
   },
   {
    "duration": 405,
    "start_time": "2025-05-22T07:51:10.773Z"
   },
   {
    "duration": 15,
    "start_time": "2025-05-22T07:53:26.714Z"
   },
   {
    "duration": 14,
    "start_time": "2025-05-22T07:53:46.849Z"
   },
   {
    "duration": 340,
    "start_time": "2025-05-22T07:54:00.970Z"
   },
   {
    "duration": 396,
    "start_time": "2025-05-22T07:54:10.377Z"
   },
   {
    "duration": 413,
    "start_time": "2025-05-22T07:54:29.914Z"
   },
   {
    "duration": 411,
    "start_time": "2025-05-22T07:54:35.816Z"
   },
   {
    "duration": 389,
    "start_time": "2025-05-22T07:54:40.558Z"
   },
   {
    "duration": 410,
    "start_time": "2025-05-22T07:54:50.805Z"
   },
   {
    "duration": 437,
    "start_time": "2025-05-22T07:54:58.395Z"
   },
   {
    "duration": 428,
    "start_time": "2025-05-22T07:55:08.426Z"
   },
   {
    "duration": 612,
    "start_time": "2025-05-22T07:55:55.275Z"
   },
   {
    "duration": 1946,
    "start_time": "2025-05-22T07:56:58.330Z"
   },
   {
    "duration": 320,
    "start_time": "2025-05-22T07:57:14.610Z"
   },
   {
    "duration": 467,
    "start_time": "2025-05-22T07:57:38.302Z"
   },
   {
    "duration": 403,
    "start_time": "2025-05-22T07:57:53.716Z"
   },
   {
    "duration": 473,
    "start_time": "2025-05-22T07:58:02.906Z"
   },
   {
    "duration": 443,
    "start_time": "2025-05-22T07:58:16.431Z"
   },
   {
    "duration": 425,
    "start_time": "2025-05-22T07:58:36.840Z"
   },
   {
    "duration": 426,
    "start_time": "2025-05-22T07:58:43.438Z"
   },
   {
    "duration": 205,
    "start_time": "2025-05-22T08:00:41.030Z"
   },
   {
    "duration": 380,
    "start_time": "2025-05-22T08:01:19.723Z"
   },
   {
    "duration": 272,
    "start_time": "2025-05-22T08:01:58.542Z"
   },
   {
    "duration": 459,
    "start_time": "2025-05-22T08:02:30.299Z"
   },
   {
    "duration": 470,
    "start_time": "2025-05-22T08:02:40.668Z"
   },
   {
    "duration": 459,
    "start_time": "2025-05-22T08:02:48.712Z"
   },
   {
    "duration": 460,
    "start_time": "2025-05-22T08:02:57.324Z"
   },
   {
    "duration": 457,
    "start_time": "2025-05-22T08:03:11.014Z"
   },
   {
    "duration": 427,
    "start_time": "2025-05-22T08:03:19.552Z"
   },
   {
    "duration": 452,
    "start_time": "2025-05-22T08:03:29.722Z"
   },
   {
    "duration": 483,
    "start_time": "2025-05-22T08:03:35.386Z"
   },
   {
    "duration": 618,
    "start_time": "2025-05-22T08:03:40.839Z"
   },
   {
    "duration": 317,
    "start_time": "2025-05-22T08:04:04.036Z"
   },
   {
    "duration": 450,
    "start_time": "2025-05-22T08:04:19.258Z"
   },
   {
    "duration": 269,
    "start_time": "2025-05-22T08:04:42.145Z"
   },
   {
    "duration": 461,
    "start_time": "2025-05-22T08:04:59.818Z"
   },
   {
    "duration": 447,
    "start_time": "2025-05-22T08:05:06.537Z"
   },
   {
    "duration": 480,
    "start_time": "2025-05-22T08:05:27.490Z"
   },
   {
    "duration": 425,
    "start_time": "2025-05-22T08:06:42.423Z"
   },
   {
    "duration": 426,
    "start_time": "2025-05-22T08:06:56.031Z"
   },
   {
    "duration": 456,
    "start_time": "2025-05-22T08:07:10.391Z"
   },
   {
    "duration": 1521,
    "start_time": "2025-05-22T08:08:10.121Z"
   },
   {
    "duration": 1331,
    "start_time": "2025-05-22T08:08:49.439Z"
   },
   {
    "duration": 1261,
    "start_time": "2025-05-22T08:09:44.883Z"
   },
   {
    "duration": 1339,
    "start_time": "2025-05-22T08:10:50.003Z"
   },
   {
    "duration": 1076,
    "start_time": "2025-05-22T08:11:21.770Z"
   },
   {
    "duration": 1290,
    "start_time": "2025-05-22T08:11:34.246Z"
   },
   {
    "duration": 1040,
    "start_time": "2025-05-22T08:11:38.555Z"
   },
   {
    "duration": 1062,
    "start_time": "2025-05-22T08:11:47.161Z"
   },
   {
    "duration": 1278,
    "start_time": "2025-05-22T08:11:53.939Z"
   },
   {
    "duration": 1071,
    "start_time": "2025-05-22T08:14:33.987Z"
   },
   {
    "duration": 1179,
    "start_time": "2025-05-22T08:14:55.524Z"
   },
   {
    "duration": 1320,
    "start_time": "2025-05-22T08:15:14.301Z"
   },
   {
    "duration": 1415,
    "start_time": "2025-05-22T08:15:27.923Z"
   },
   {
    "duration": 1438,
    "start_time": "2025-05-22T08:15:47.294Z"
   },
   {
    "duration": 1287,
    "start_time": "2025-05-22T08:18:59.784Z"
   },
   {
    "duration": 1085,
    "start_time": "2025-05-22T08:19:21.063Z"
   },
   {
    "duration": 1409,
    "start_time": "2025-05-22T08:19:45.717Z"
   },
   {
    "duration": 121,
    "start_time": "2025-05-22T08:20:18.642Z"
   },
   {
    "duration": 1070,
    "start_time": "2025-05-22T08:20:23.723Z"
   },
   {
    "duration": 15,
    "start_time": "2025-05-22T08:21:05.822Z"
   },
   {
    "duration": 1645,
    "start_time": "2025-05-22T08:22:02.281Z"
   },
   {
    "duration": 1331,
    "start_time": "2025-05-22T08:22:17.993Z"
   },
   {
    "duration": 1605,
    "start_time": "2025-05-22T08:22:48.350Z"
   },
   {
    "duration": 1381,
    "start_time": "2025-05-22T08:23:12.286Z"
   },
   {
    "duration": 1420,
    "start_time": "2025-05-22T08:23:30.445Z"
   },
   {
    "duration": 1756,
    "start_time": "2025-05-22T08:24:40.757Z"
   },
   {
    "duration": 1417,
    "start_time": "2025-05-22T08:25:09.305Z"
   },
   {
    "duration": 1437,
    "start_time": "2025-05-22T08:26:57.872Z"
   },
   {
    "duration": 1606,
    "start_time": "2025-05-22T08:27:08.660Z"
   },
   {
    "duration": 70,
    "start_time": "2025-05-22T08:28:40.781Z"
   },
   {
    "duration": 16,
    "start_time": "2025-05-22T08:30:53.381Z"
   },
   {
    "duration": 21,
    "start_time": "2025-05-22T08:32:12.617Z"
   },
   {
    "duration": 120,
    "start_time": "2025-05-22T08:32:42.107Z"
   },
   {
    "duration": 275,
    "start_time": "2025-05-22T08:32:54.901Z"
   },
   {
    "duration": 266,
    "start_time": "2025-05-22T08:33:17.485Z"
   },
   {
    "duration": 20,
    "start_time": "2025-05-22T08:33:23.453Z"
   },
   {
    "duration": 172,
    "start_time": "2025-05-22T08:33:36.284Z"
   },
   {
    "duration": 175,
    "start_time": "2025-05-22T08:33:45.337Z"
   },
   {
    "duration": 173,
    "start_time": "2025-05-22T08:33:49.694Z"
   },
   {
    "duration": 170,
    "start_time": "2025-05-22T08:34:16.910Z"
   },
   {
    "duration": 176,
    "start_time": "2025-05-22T08:34:22.224Z"
   },
   {
    "duration": 173,
    "start_time": "2025-05-22T08:34:46.941Z"
   },
   {
    "duration": 195,
    "start_time": "2025-05-22T08:34:55.084Z"
   },
   {
    "duration": 194,
    "start_time": "2025-05-22T08:35:01.427Z"
   },
   {
    "duration": 165,
    "start_time": "2025-05-22T08:35:24.094Z"
   },
   {
    "duration": 11,
    "start_time": "2025-05-22T08:36:59.224Z"
   },
   {
    "duration": 18,
    "start_time": "2025-05-22T08:38:04.011Z"
   },
   {
    "duration": 418,
    "start_time": "2025-05-22T08:40:49.339Z"
   },
   {
    "duration": 415,
    "start_time": "2025-05-22T08:54:50.033Z"
   },
   {
    "duration": 448,
    "start_time": "2025-05-22T08:54:54.273Z"
   },
   {
    "duration": 659,
    "start_time": "2025-05-22T08:55:06.380Z"
   },
   {
    "duration": 456,
    "start_time": "2025-05-22T08:55:15.082Z"
   },
   {
    "duration": 405,
    "start_time": "2025-05-22T08:55:29.242Z"
   },
   {
    "duration": 1420,
    "start_time": "2025-05-22T08:56:43.122Z"
   },
   {
    "duration": 176,
    "start_time": "2025-05-22T08:57:14.430Z"
   },
   {
    "duration": 172,
    "start_time": "2025-05-22T08:57:38.336Z"
   },
   {
    "duration": 168,
    "start_time": "2025-05-22T08:57:52.996Z"
   },
   {
    "duration": 168,
    "start_time": "2025-05-22T08:57:59.561Z"
   },
   {
    "duration": 427,
    "start_time": "2025-05-22T08:58:14.938Z"
   },
   {
    "duration": 12,
    "start_time": "2025-05-22T09:00:34.322Z"
   },
   {
    "duration": 1256,
    "start_time": "2025-05-22T09:00:42.665Z"
   },
   {
    "duration": 2152,
    "start_time": "2025-05-22T09:00:43.923Z"
   },
   {
    "duration": 772,
    "start_time": "2025-05-22T09:00:46.077Z"
   },
   {
    "duration": 192,
    "start_time": "2025-05-22T09:00:46.851Z"
   },
   {
    "duration": 4,
    "start_time": "2025-05-22T09:00:47.045Z"
   },
   {
    "duration": 642,
    "start_time": "2025-05-22T09:00:47.051Z"
   },
   {
    "duration": 311,
    "start_time": "2025-05-22T09:00:47.695Z"
   },
   {
    "duration": 68,
    "start_time": "2025-05-22T09:00:48.008Z"
   },
   {
    "duration": 7,
    "start_time": "2025-05-22T09:00:48.078Z"
   },
   {
    "duration": 36,
    "start_time": "2025-05-22T09:00:48.087Z"
   },
   {
    "duration": 482,
    "start_time": "2025-05-22T09:00:48.125Z"
   },
   {
    "duration": 18,
    "start_time": "2025-05-22T09:00:48.609Z"
   },
   {
    "duration": 482,
    "start_time": "2025-05-22T09:00:48.629Z"
   },
   {
    "duration": 143,
    "start_time": "2025-05-22T09:00:49.114Z"
   },
   {
    "duration": 77,
    "start_time": "2025-05-22T09:00:49.258Z"
   },
   {
    "duration": 382,
    "start_time": "2025-05-22T09:00:49.337Z"
   },
   {
    "duration": 98,
    "start_time": "2025-05-22T09:00:49.721Z"
   },
   {
    "duration": 352,
    "start_time": "2025-05-22T09:00:49.821Z"
   },
   {
    "duration": 6,
    "start_time": "2025-05-22T09:00:50.176Z"
   },
   {
    "duration": 132,
    "start_time": "2025-05-22T09:00:50.184Z"
   },
   {
    "duration": 7766,
    "start_time": "2025-05-22T09:00:50.318Z"
   },
   {
    "duration": 38,
    "start_time": "2025-05-22T09:00:58.085Z"
   },
   {
    "duration": 89,
    "start_time": "2025-05-22T09:00:58.124Z"
   },
   {
    "duration": 17,
    "start_time": "2025-05-22T09:00:58.214Z"
   },
   {
    "duration": 431,
    "start_time": "2025-05-22T09:00:58.233Z"
   },
   {
    "duration": 175,
    "start_time": "2025-05-22T09:00:58.666Z"
   },
   {
    "duration": 11,
    "start_time": "2025-05-22T09:00:58.843Z"
   },
   {
    "duration": 343,
    "start_time": "2025-05-22T09:00:58.856Z"
   },
   {
    "duration": 1517,
    "start_time": "2025-05-22T09:00:59.201Z"
   },
   {
    "duration": 142,
    "start_time": "2025-05-22T09:01:00.719Z"
   },
   {
    "duration": 285,
    "start_time": "2025-05-22T09:01:00.863Z"
   },
   {
    "duration": 270,
    "start_time": "2025-05-22T09:01:01.149Z"
   },
   {
    "duration": 223,
    "start_time": "2025-05-22T09:01:01.421Z"
   },
   {
    "duration": 256,
    "start_time": "2025-05-22T09:01:01.646Z"
   },
   {
    "duration": 2274,
    "start_time": "2025-05-22T09:01:01.904Z"
   },
   {
    "duration": 199,
    "start_time": "2025-05-22T09:01:04.180Z"
   },
   {
    "duration": 102,
    "start_time": "2025-05-22T09:01:04.380Z"
   },
   {
    "duration": 28,
    "start_time": "2025-05-22T09:01:04.483Z"
   },
   {
    "duration": 44,
    "start_time": "2025-05-22T09:01:04.513Z"
   },
   {
    "duration": 1465,
    "start_time": "2025-05-22T09:01:04.560Z"
   },
   {
    "duration": 31,
    "start_time": "2025-05-22T09:01:06.031Z"
   },
   {
    "duration": 215,
    "start_time": "2025-05-22T09:01:06.064Z"
   },
   {
    "duration": 19,
    "start_time": "2025-05-22T09:01:06.281Z"
   },
   {
    "duration": 22,
    "start_time": "2025-05-22T09:01:06.302Z"
   },
   {
    "duration": 983,
    "start_time": "2025-05-22T09:01:06.326Z"
   },
   {
    "duration": 183,
    "start_time": "2025-05-22T09:01:07.311Z"
   },
   {
    "duration": 58,
    "start_time": "2025-05-22T09:01:07.495Z"
   },
   {
    "duration": 210,
    "start_time": "2025-05-22T09:01:07.555Z"
   },
   {
    "duration": 18,
    "start_time": "2025-05-22T09:01:07.766Z"
   },
   {
    "duration": 26,
    "start_time": "2025-05-22T09:01:07.786Z"
   },
   {
    "duration": 446,
    "start_time": "2025-05-22T09:01:07.814Z"
   },
   {
    "duration": 177,
    "start_time": "2025-05-22T09:01:08.262Z"
   },
   {
    "duration": 88,
    "start_time": "2025-05-22T09:01:08.441Z"
   },
   {
    "duration": 411,
    "start_time": "2025-05-22T09:01:08.532Z"
   },
   {
    "duration": 181,
    "start_time": "2025-05-22T09:01:08.945Z"
   },
   {
    "duration": 13,
    "start_time": "2025-05-22T09:02:45.004Z"
   },
   {
    "duration": 15,
    "start_time": "2025-05-22T09:02:53.873Z"
   },
   {
    "duration": 15,
    "start_time": "2025-05-22T09:03:16.526Z"
   },
   {
    "duration": 13,
    "start_time": "2025-05-22T09:07:54.577Z"
   },
   {
    "duration": 13,
    "start_time": "2025-05-22T09:09:46.662Z"
   },
   {
    "duration": 17,
    "start_time": "2025-05-22T09:10:57.428Z"
   },
   {
    "duration": 18,
    "start_time": "2025-05-22T09:13:20.597Z"
   },
   {
    "duration": 12,
    "start_time": "2025-05-22T09:13:29.627Z"
   },
   {
    "duration": 13,
    "start_time": "2025-05-22T09:14:00.589Z"
   },
   {
    "duration": 13,
    "start_time": "2025-05-22T09:14:17.403Z"
   },
   {
    "duration": 24,
    "start_time": "2025-05-22T09:41:01.999Z"
   },
   {
    "duration": 16,
    "start_time": "2025-05-22T09:41:05.711Z"
   },
   {
    "duration": 22,
    "start_time": "2025-05-22T09:42:55.238Z"
   },
   {
    "duration": 18,
    "start_time": "2025-05-22T09:43:01.959Z"
   },
   {
    "duration": 149,
    "start_time": "2025-05-22T10:48:49.484Z"
   },
   {
    "duration": 413,
    "start_time": "2025-05-22T10:52:01.947Z"
   },
   {
    "duration": 358,
    "start_time": "2025-05-22T10:53:43.174Z"
   },
   {
    "duration": 356,
    "start_time": "2025-05-22T10:53:49.434Z"
   },
   {
    "duration": 355,
    "start_time": "2025-05-22T10:54:03.639Z"
   },
   {
    "duration": 188,
    "start_time": "2025-05-22T11:49:25.632Z"
   },
   {
    "duration": 184,
    "start_time": "2025-05-22T11:49:44.490Z"
   },
   {
    "duration": 1293,
    "start_time": "2025-05-22T11:50:00.322Z"
   },
   {
    "duration": 1914,
    "start_time": "2025-05-22T11:50:01.617Z"
   },
   {
    "duration": 753,
    "start_time": "2025-05-22T11:50:03.533Z"
   },
   {
    "duration": 179,
    "start_time": "2025-05-22T11:50:04.289Z"
   },
   {
    "duration": 6,
    "start_time": "2025-05-22T11:50:04.471Z"
   },
   {
    "duration": 580,
    "start_time": "2025-05-22T11:50:04.479Z"
   },
   {
    "duration": 302,
    "start_time": "2025-05-22T11:50:05.061Z"
   },
   {
    "duration": 63,
    "start_time": "2025-05-22T11:50:05.365Z"
   },
   {
    "duration": 13,
    "start_time": "2025-05-22T11:50:05.430Z"
   },
   {
    "duration": 43,
    "start_time": "2025-05-22T11:50:05.444Z"
   },
   {
    "duration": 511,
    "start_time": "2025-05-22T11:50:05.488Z"
   },
   {
    "duration": 17,
    "start_time": "2025-05-22T11:50:06.001Z"
   },
   {
    "duration": 463,
    "start_time": "2025-05-22T11:50:06.020Z"
   },
   {
    "duration": 144,
    "start_time": "2025-05-22T11:50:06.486Z"
   },
   {
    "duration": 69,
    "start_time": "2025-05-22T11:50:06.632Z"
   },
   {
    "duration": 408,
    "start_time": "2025-05-22T11:50:06.703Z"
   },
   {
    "duration": 92,
    "start_time": "2025-05-22T11:50:07.113Z"
   },
   {
    "duration": 345,
    "start_time": "2025-05-22T11:50:07.207Z"
   },
   {
    "duration": 7,
    "start_time": "2025-05-22T11:50:07.555Z"
   },
   {
    "duration": 7,
    "start_time": "2025-05-22T11:50:07.576Z"
   },
   {
    "duration": 7777,
    "start_time": "2025-05-22T11:50:07.585Z"
   },
   {
    "duration": 44,
    "start_time": "2025-05-22T11:50:15.364Z"
   },
   {
    "duration": 125,
    "start_time": "2025-05-22T11:50:15.410Z"
   },
   {
    "duration": 19,
    "start_time": "2025-05-22T11:50:15.537Z"
   },
   {
    "duration": 435,
    "start_time": "2025-05-22T11:50:15.558Z"
   },
   {
    "duration": 175,
    "start_time": "2025-05-22T11:50:15.995Z"
   },
   {
    "duration": 12,
    "start_time": "2025-05-22T11:50:16.172Z"
   },
   {
    "duration": 387,
    "start_time": "2025-05-22T11:50:16.185Z"
   },
   {
    "duration": 1508,
    "start_time": "2025-05-22T11:50:16.575Z"
   },
   {
    "duration": 134,
    "start_time": "2025-05-22T11:50:18.085Z"
   },
   {
    "duration": 286,
    "start_time": "2025-05-22T11:50:18.221Z"
   },
   {
    "duration": 267,
    "start_time": "2025-05-22T11:50:18.509Z"
   },
   {
    "duration": 222,
    "start_time": "2025-05-22T11:50:18.778Z"
   },
   {
    "duration": 246,
    "start_time": "2025-05-22T11:50:19.001Z"
   },
   {
    "duration": 2205,
    "start_time": "2025-05-22T11:50:19.248Z"
   },
   {
    "duration": 187,
    "start_time": "2025-05-22T11:50:21.454Z"
   },
   {
    "duration": 102,
    "start_time": "2025-05-22T11:50:21.642Z"
   },
   {
    "duration": 4,
    "start_time": "2025-05-22T11:50:21.745Z"
   },
   {
    "duration": 70,
    "start_time": "2025-05-22T11:50:21.750Z"
   },
   {
    "duration": 1459,
    "start_time": "2025-05-22T11:50:21.822Z"
   },
   {
    "duration": 28,
    "start_time": "2025-05-22T11:50:23.286Z"
   },
   {
    "duration": 202,
    "start_time": "2025-05-22T11:50:23.316Z"
   },
   {
    "duration": 3,
    "start_time": "2025-05-22T11:50:23.520Z"
   },
   {
    "duration": 54,
    "start_time": "2025-05-22T11:50:23.525Z"
   },
   {
    "duration": 952,
    "start_time": "2025-05-22T11:50:23.580Z"
   },
   {
    "duration": 174,
    "start_time": "2025-05-22T11:50:24.534Z"
   },
   {
    "duration": 10,
    "start_time": "2025-05-22T11:50:24.710Z"
   },
   {
    "duration": 189,
    "start_time": "2025-05-22T11:50:24.722Z"
   },
   {
    "duration": 13,
    "start_time": "2025-05-22T11:50:24.913Z"
   },
   {
    "duration": 16,
    "start_time": "2025-05-22T11:50:24.927Z"
   },
   {
    "duration": 450,
    "start_time": "2025-05-22T11:50:24.945Z"
   },
   {
    "duration": 166,
    "start_time": "2025-05-22T11:50:25.397Z"
   },
   {
    "duration": 25,
    "start_time": "2025-05-22T11:50:25.565Z"
   },
   {
    "duration": 460,
    "start_time": "2025-05-22T11:50:25.592Z"
   },
   {
    "duration": 182,
    "start_time": "2025-05-22T11:50:26.053Z"
   },
   {
    "duration": 375,
    "start_time": "2025-05-22T11:50:26.237Z"
   },
   {
    "duration": 176,
    "start_time": "2025-05-22T11:50:26.614Z"
   },
   {
    "duration": 164,
    "start_time": "2025-05-22T11:51:49.040Z"
   },
   {
    "duration": 203,
    "start_time": "2025-05-22T11:53:23.129Z"
   },
   {
    "duration": 12,
    "start_time": "2025-05-22T11:53:27.159Z"
   },
   {
    "duration": 12,
    "start_time": "2025-05-22T11:53:58.171Z"
   },
   {
    "duration": 188,
    "start_time": "2025-05-22T11:54:39.521Z"
   },
   {
    "duration": 12,
    "start_time": "2025-05-22T11:54:41.223Z"
   },
   {
    "duration": 199,
    "start_time": "2025-05-22T11:54:50.534Z"
   },
   {
    "duration": 197,
    "start_time": "2025-05-22T11:54:57.353Z"
   },
   {
    "duration": 12,
    "start_time": "2025-05-22T11:54:59.183Z"
   },
   {
    "duration": 9,
    "start_time": "2025-05-22T11:55:06.696Z"
   },
   {
    "duration": 10,
    "start_time": "2025-05-22T11:55:13.302Z"
   },
   {
    "duration": 13,
    "start_time": "2025-05-22T11:55:30.117Z"
   },
   {
    "duration": 197,
    "start_time": "2025-05-22T11:56:21.731Z"
   },
   {
    "duration": 12,
    "start_time": "2025-05-22T11:56:23.749Z"
   },
   {
    "duration": 20,
    "start_time": "2025-05-22T11:57:03.197Z"
   },
   {
    "duration": 11,
    "start_time": "2025-05-22T11:57:27.736Z"
   },
   {
    "duration": 12,
    "start_time": "2025-05-22T11:57:33.860Z"
   },
   {
    "duration": 201,
    "start_time": "2025-05-22T12:01:08.709Z"
   },
   {
    "duration": 13,
    "start_time": "2025-05-22T12:01:11.398Z"
   },
   {
    "duration": 12,
    "start_time": "2025-05-22T12:02:06.962Z"
   },
   {
    "duration": 183,
    "start_time": "2025-05-22T12:04:40.441Z"
   },
   {
    "duration": 13,
    "start_time": "2025-05-22T12:04:44.197Z"
   },
   {
    "duration": 191,
    "start_time": "2025-05-22T12:05:19.104Z"
   },
   {
    "duration": 12,
    "start_time": "2025-05-22T12:05:20.730Z"
   },
   {
    "duration": 194,
    "start_time": "2025-05-22T12:05:28.282Z"
   },
   {
    "duration": 12,
    "start_time": "2025-05-22T12:05:30.665Z"
   },
   {
    "duration": 205,
    "start_time": "2025-05-22T12:05:38.300Z"
   },
   {
    "duration": 14,
    "start_time": "2025-05-22T12:05:41.106Z"
   },
   {
    "duration": 212,
    "start_time": "2025-05-22T12:05:46.066Z"
   },
   {
    "duration": 14,
    "start_time": "2025-05-22T12:05:49.118Z"
   },
   {
    "duration": 11,
    "start_time": "2025-05-22T12:05:56.698Z"
   },
   {
    "duration": 14,
    "start_time": "2025-05-22T12:06:41.453Z"
   },
   {
    "duration": 15,
    "start_time": "2025-05-22T12:06:46.527Z"
   },
   {
    "duration": 12,
    "start_time": "2025-05-22T12:06:58.281Z"
   },
   {
    "duration": 52,
    "start_time": "2025-05-22T14:08:57.593Z"
   },
   {
    "duration": 1416,
    "start_time": "2025-05-22T14:09:03.391Z"
   },
   {
    "duration": 1954,
    "start_time": "2025-05-22T14:09:04.810Z"
   },
   {
    "duration": 783,
    "start_time": "2025-05-22T14:09:06.765Z"
   },
   {
    "duration": 212,
    "start_time": "2025-05-22T14:09:07.551Z"
   },
   {
    "duration": 4,
    "start_time": "2025-05-22T14:09:07.765Z"
   },
   {
    "duration": 594,
    "start_time": "2025-05-22T14:09:07.771Z"
   },
   {
    "duration": 316,
    "start_time": "2025-05-22T14:09:08.367Z"
   },
   {
    "duration": 66,
    "start_time": "2025-05-22T14:09:08.685Z"
   },
   {
    "duration": 27,
    "start_time": "2025-05-22T14:09:08.753Z"
   },
   {
    "duration": 32,
    "start_time": "2025-05-22T14:09:08.785Z"
   },
   {
    "duration": 510,
    "start_time": "2025-05-22T14:09:08.819Z"
   },
   {
    "duration": 23,
    "start_time": "2025-05-22T14:09:09.331Z"
   },
   {
    "duration": 458,
    "start_time": "2025-05-22T14:09:09.356Z"
   },
   {
    "duration": 142,
    "start_time": "2025-05-22T14:09:09.816Z"
   },
   {
    "duration": 62,
    "start_time": "2025-05-22T14:09:09.959Z"
   },
   {
    "duration": 388,
    "start_time": "2025-05-22T14:09:10.023Z"
   },
   {
    "duration": 98,
    "start_time": "2025-05-22T14:09:10.413Z"
   },
   {
    "duration": 360,
    "start_time": "2025-05-22T14:09:10.513Z"
   },
   {
    "duration": 6,
    "start_time": "2025-05-22T14:09:10.875Z"
   },
   {
    "duration": 54,
    "start_time": "2025-05-22T14:09:10.883Z"
   },
   {
    "duration": 8168,
    "start_time": "2025-05-22T14:09:10.940Z"
   },
   {
    "duration": 49,
    "start_time": "2025-05-22T14:09:19.110Z"
   },
   {
    "duration": 88,
    "start_time": "2025-05-22T14:09:19.160Z"
   },
   {
    "duration": 19,
    "start_time": "2025-05-22T14:09:19.250Z"
   },
   {
    "duration": 423,
    "start_time": "2025-05-22T14:09:19.271Z"
   },
   {
    "duration": 180,
    "start_time": "2025-05-22T14:09:19.696Z"
   },
   {
    "duration": 12,
    "start_time": "2025-05-22T14:09:19.878Z"
   },
   {
    "duration": 276,
    "start_time": "2025-05-22T14:09:19.895Z"
   },
   {
    "duration": 1505,
    "start_time": "2025-05-22T14:09:20.174Z"
   },
   {
    "duration": 156,
    "start_time": "2025-05-22T14:09:21.681Z"
   },
   {
    "duration": 298,
    "start_time": "2025-05-22T14:09:21.839Z"
   },
   {
    "duration": 281,
    "start_time": "2025-05-22T14:09:22.139Z"
   },
   {
    "duration": 230,
    "start_time": "2025-05-22T14:09:22.422Z"
   },
   {
    "duration": 258,
    "start_time": "2025-05-22T14:09:22.653Z"
   },
   {
    "duration": 2430,
    "start_time": "2025-05-22T14:09:22.913Z"
   },
   {
    "duration": 210,
    "start_time": "2025-05-22T14:09:25.345Z"
   },
   {
    "duration": 104,
    "start_time": "2025-05-22T14:09:25.557Z"
   },
   {
    "duration": 4,
    "start_time": "2025-05-22T14:09:25.663Z"
   },
   {
    "duration": 28,
    "start_time": "2025-05-22T14:09:25.669Z"
   },
   {
    "duration": 1629,
    "start_time": "2025-05-22T14:09:25.699Z"
   },
   {
    "duration": 33,
    "start_time": "2025-05-22T14:09:27.330Z"
   },
   {
    "duration": 111,
    "start_time": "2025-05-22T14:09:27.365Z"
   },
   {
    "duration": 4,
    "start_time": "2025-05-22T14:09:27.478Z"
   },
   {
    "duration": 21,
    "start_time": "2025-05-22T14:09:27.484Z"
   },
   {
    "duration": 1007,
    "start_time": "2025-05-22T14:09:27.507Z"
   },
   {
    "duration": 195,
    "start_time": "2025-05-22T14:09:28.516Z"
   },
   {
    "duration": 10,
    "start_time": "2025-05-22T14:09:28.713Z"
   },
   {
    "duration": 209,
    "start_time": "2025-05-22T14:09:28.725Z"
   },
   {
    "duration": 13,
    "start_time": "2025-05-22T14:09:28.936Z"
   },
   {
    "duration": 16,
    "start_time": "2025-05-22T14:09:28.951Z"
   },
   {
    "duration": 483,
    "start_time": "2025-05-22T14:09:28.969Z"
   },
   {
    "duration": 179,
    "start_time": "2025-05-22T14:09:29.454Z"
   },
   {
    "duration": 20,
    "start_time": "2025-05-22T14:09:29.635Z"
   },
   {
    "duration": 472,
    "start_time": "2025-05-22T14:09:29.657Z"
   },
   {
    "duration": 191,
    "start_time": "2025-05-22T14:09:30.131Z"
   },
   {
    "duration": 391,
    "start_time": "2025-05-22T14:09:30.324Z"
   },
   {
    "duration": 230,
    "start_time": "2025-05-22T14:09:30.717Z"
   },
   {
    "duration": 166,
    "start_time": "2025-05-22T14:09:30.949Z"
   },
   {
    "duration": 12,
    "start_time": "2025-05-22T14:09:57.095Z"
   },
   {
    "duration": 114,
    "start_time": "2025-05-22T14:13:17.479Z"
   },
   {
    "duration": 16,
    "start_time": "2025-05-22T14:13:25.918Z"
   },
   {
    "duration": 10,
    "start_time": "2025-05-22T14:19:38.844Z"
   },
   {
    "duration": 9,
    "start_time": "2025-05-22T14:19:52.832Z"
   },
   {
    "duration": 25,
    "start_time": "2025-05-22T14:20:02.531Z"
   },
   {
    "duration": 35,
    "start_time": "2025-05-22T14:21:45.709Z"
   },
   {
    "duration": 33,
    "start_time": "2025-05-22T14:22:24.007Z"
   },
   {
    "duration": 347,
    "start_time": "2025-05-22T14:22:41.218Z"
   },
   {
    "duration": 177,
    "start_time": "2025-05-22T14:23:27.484Z"
   },
   {
    "duration": 11,
    "start_time": "2025-05-22T14:42:23.639Z"
   },
   {
    "duration": 10,
    "start_time": "2025-05-22T14:42:31.902Z"
   },
   {
    "duration": 13,
    "start_time": "2025-05-22T14:43:17.074Z"
   },
   {
    "duration": 14,
    "start_time": "2025-05-22T14:43:25.189Z"
   },
   {
    "duration": 448,
    "start_time": "2025-05-22T14:45:30.636Z"
   },
   {
    "duration": 11,
    "start_time": "2025-05-22T14:51:09.875Z"
   },
   {
    "duration": 8,
    "start_time": "2025-05-22T14:51:42.559Z"
   },
   {
    "duration": 11,
    "start_time": "2025-05-22T14:51:53.476Z"
   },
   {
    "duration": 10,
    "start_time": "2025-05-22T14:52:06.018Z"
   },
   {
    "duration": 10,
    "start_time": "2025-05-22T14:53:08.658Z"
   },
   {
    "duration": 11,
    "start_time": "2025-05-22T14:53:18.260Z"
   },
   {
    "duration": 9,
    "start_time": "2025-05-22T14:54:33.607Z"
   },
   {
    "duration": 14,
    "start_time": "2025-05-22T14:54:39.312Z"
   },
   {
    "duration": 15,
    "start_time": "2025-05-22T14:54:58.952Z"
   },
   {
    "duration": 156,
    "start_time": "2025-05-22T14:56:01.340Z"
   },
   {
    "duration": 246,
    "start_time": "2025-05-22T14:56:10.514Z"
   },
   {
    "duration": 247,
    "start_time": "2025-05-22T14:56:21.839Z"
   },
   {
    "duration": 414,
    "start_time": "2025-05-22T14:56:33.231Z"
   },
   {
    "duration": 58,
    "start_time": "2025-05-22T14:58:56.834Z"
   },
   {
    "duration": 23,
    "start_time": "2025-05-22T14:59:16.767Z"
   },
   {
    "duration": 11,
    "start_time": "2025-05-22T15:01:30.002Z"
   },
   {
    "duration": 12,
    "start_time": "2025-05-22T15:01:45.144Z"
   },
   {
    "duration": 12,
    "start_time": "2025-05-22T15:01:46.997Z"
   },
   {
    "duration": 6,
    "start_time": "2025-05-22T15:02:23.390Z"
   },
   {
    "duration": 7,
    "start_time": "2025-05-22T15:03:09.996Z"
   },
   {
    "duration": 9,
    "start_time": "2025-05-22T15:03:21.133Z"
   },
   {
    "duration": 75,
    "start_time": "2025-05-22T15:04:19.297Z"
   },
   {
    "duration": 5,
    "start_time": "2025-05-22T15:04:45.629Z"
   },
   {
    "duration": 6,
    "start_time": "2025-05-22T15:05:05.798Z"
   },
   {
    "duration": 6,
    "start_time": "2025-05-22T15:05:14.990Z"
   },
   {
    "duration": 10,
    "start_time": "2025-05-22T15:06:04.373Z"
   },
   {
    "duration": 5,
    "start_time": "2025-05-22T15:06:14.612Z"
   },
   {
    "duration": 7,
    "start_time": "2025-05-22T15:06:16.694Z"
   },
   {
    "duration": 11,
    "start_time": "2025-05-22T15:07:17.956Z"
   },
   {
    "duration": 13,
    "start_time": "2025-05-22T15:07:21.562Z"
   },
   {
    "duration": 5,
    "start_time": "2025-05-22T15:07:25.980Z"
   },
   {
    "duration": 6,
    "start_time": "2025-05-22T15:07:27.756Z"
   },
   {
    "duration": 6,
    "start_time": "2025-05-22T15:11:00.054Z"
   },
   {
    "duration": 10,
    "start_time": "2025-05-22T15:17:58.142Z"
   },
   {
    "duration": 10,
    "start_time": "2025-05-22T15:18:04.217Z"
   },
   {
    "duration": 10,
    "start_time": "2025-05-22T15:18:24.822Z"
   },
   {
    "duration": 10,
    "start_time": "2025-05-22T15:18:28.688Z"
   },
   {
    "duration": 10,
    "start_time": "2025-05-22T15:18:31.226Z"
   },
   {
    "duration": 10,
    "start_time": "2025-05-22T15:18:34.447Z"
   },
   {
    "duration": 11,
    "start_time": "2025-05-22T15:19:20.055Z"
   },
   {
    "duration": 126,
    "start_time": "2025-05-22T15:20:14.015Z"
   },
   {
    "duration": 249,
    "start_time": "2025-05-22T15:20:26.438Z"
   },
   {
    "duration": 247,
    "start_time": "2025-05-22T15:20:44.963Z"
   },
   {
    "duration": 251,
    "start_time": "2025-05-22T15:20:49.121Z"
   },
   {
    "duration": 314,
    "start_time": "2025-05-22T15:21:26.198Z"
   },
   {
    "duration": 227,
    "start_time": "2025-05-22T15:21:47.217Z"
   },
   {
    "duration": 111,
    "start_time": "2025-05-22T15:21:59.986Z"
   },
   {
    "duration": 222,
    "start_time": "2025-05-22T15:23:14.026Z"
   },
   {
    "duration": 238,
    "start_time": "2025-05-22T15:23:33.416Z"
   },
   {
    "duration": 235,
    "start_time": "2025-05-22T15:23:40.472Z"
   },
   {
    "duration": 231,
    "start_time": "2025-05-22T15:23:53.690Z"
   },
   {
    "duration": 121,
    "start_time": "2025-05-22T15:25:52.495Z"
   },
   {
    "duration": 6,
    "start_time": "2025-05-22T15:36:15.032Z"
   },
   {
    "duration": 6,
    "start_time": "2025-05-22T15:36:35.692Z"
   },
   {
    "duration": 5,
    "start_time": "2025-05-22T15:36:41.017Z"
   },
   {
    "duration": 5,
    "start_time": "2025-05-22T15:36:45.579Z"
   },
   {
    "duration": 6,
    "start_time": "2025-05-22T15:37:03.781Z"
   },
   {
    "duration": 7,
    "start_time": "2025-05-22T15:42:43.596Z"
   },
   {
    "duration": 6,
    "start_time": "2025-05-22T15:42:51.888Z"
   },
   {
    "duration": 6,
    "start_time": "2025-05-22T15:43:00.483Z"
   },
   {
    "duration": 6,
    "start_time": "2025-05-22T15:43:08.828Z"
   },
   {
    "duration": 397,
    "start_time": "2025-05-22T15:52:36.196Z"
   },
   {
    "duration": 154,
    "start_time": "2025-05-22T15:52:49.400Z"
   },
   {
    "duration": 20,
    "start_time": "2025-05-22T15:53:18.016Z"
   },
   {
    "duration": 359,
    "start_time": "2025-05-22T15:53:28.642Z"
   },
   {
    "duration": 483,
    "start_time": "2025-05-22T15:53:45.445Z"
   },
   {
    "duration": 191,
    "start_time": "2025-05-22T15:54:46.319Z"
   },
   {
    "duration": 14,
    "start_time": "2025-05-22T15:54:49.475Z"
   },
   {
    "duration": 25,
    "start_time": "2025-05-22T15:55:24.662Z"
   },
   {
    "duration": 154,
    "start_time": "2025-05-22T15:55:27.351Z"
   },
   {
    "duration": 14,
    "start_time": "2025-05-22T15:55:35.714Z"
   },
   {
    "duration": 11,
    "start_time": "2025-05-22T15:55:41.102Z"
   },
   {
    "duration": 10,
    "start_time": "2025-05-22T15:55:46.629Z"
   },
   {
    "duration": 10,
    "start_time": "2025-05-22T15:55:52.061Z"
   },
   {
    "duration": 397,
    "start_time": "2025-05-22T15:56:20.754Z"
   },
   {
    "duration": 224,
    "start_time": "2025-05-22T15:56:32.434Z"
   },
   {
    "duration": 110,
    "start_time": "2025-05-22T15:56:34.963Z"
   },
   {
    "duration": 5,
    "start_time": "2025-05-22T15:57:05.016Z"
   },
   {
    "duration": 240,
    "start_time": "2025-05-22T15:57:06.701Z"
   },
   {
    "duration": 447,
    "start_time": "2025-05-22T15:57:22.422Z"
   },
   {
    "duration": 164,
    "start_time": "2025-05-22T15:57:30.486Z"
   },
   {
    "duration": 114,
    "start_time": "2025-05-22T15:57:40.271Z"
   },
   {
    "duration": 6,
    "start_time": "2025-05-22T15:57:53.444Z"
   },
   {
    "duration": 7,
    "start_time": "2025-05-22T15:59:07.239Z"
   },
   {
    "duration": 16,
    "start_time": "2025-05-22T15:59:17.438Z"
   },
   {
    "duration": 5,
    "start_time": "2025-05-22T15:59:22.979Z"
   },
   {
    "duration": 6,
    "start_time": "2025-05-22T16:00:08.378Z"
   },
   {
    "duration": 6,
    "start_time": "2025-05-22T16:00:13.056Z"
   },
   {
    "duration": 5,
    "start_time": "2025-05-22T16:00:32.608Z"
   },
   {
    "duration": 177,
    "start_time": "2025-05-22T16:00:34.794Z"
   },
   {
    "duration": 111,
    "start_time": "2025-05-22T16:00:37.017Z"
   },
   {
    "duration": 5,
    "start_time": "2025-05-22T16:00:48.869Z"
   },
   {
    "duration": 180,
    "start_time": "2025-05-22T16:00:50.639Z"
   },
   {
    "duration": 1195,
    "start_time": "2025-05-22T16:02:14.797Z"
   },
   {
    "duration": 1900,
    "start_time": "2025-05-22T16:02:15.994Z"
   },
   {
    "duration": 765,
    "start_time": "2025-05-22T16:02:17.895Z"
   },
   {
    "duration": 181,
    "start_time": "2025-05-22T16:02:18.662Z"
   },
   {
    "duration": 4,
    "start_time": "2025-05-22T16:02:18.846Z"
   },
   {
    "duration": 609,
    "start_time": "2025-05-22T16:02:18.851Z"
   },
   {
    "duration": 304,
    "start_time": "2025-05-22T16:02:19.461Z"
   },
   {
    "duration": 55,
    "start_time": "2025-05-22T16:02:19.767Z"
   },
   {
    "duration": 20,
    "start_time": "2025-05-22T16:02:19.824Z"
   },
   {
    "duration": 18,
    "start_time": "2025-05-22T16:02:19.845Z"
   },
   {
    "duration": 483,
    "start_time": "2025-05-22T16:02:19.865Z"
   },
   {
    "duration": 18,
    "start_time": "2025-05-22T16:02:20.350Z"
   },
   {
    "duration": 445,
    "start_time": "2025-05-22T16:02:20.370Z"
   },
   {
    "duration": 162,
    "start_time": "2025-05-22T16:02:20.818Z"
   },
   {
    "duration": 75,
    "start_time": "2025-05-22T16:02:20.982Z"
   },
   {
    "duration": 360,
    "start_time": "2025-05-22T16:02:21.059Z"
   },
   {
    "duration": 94,
    "start_time": "2025-05-22T16:02:21.421Z"
   },
   {
    "duration": 341,
    "start_time": "2025-05-22T16:02:21.517Z"
   },
   {
    "duration": 6,
    "start_time": "2025-05-22T16:02:21.859Z"
   },
   {
    "duration": 54,
    "start_time": "2025-05-22T16:02:21.867Z"
   },
   {
    "duration": 7804,
    "start_time": "2025-05-22T16:02:21.923Z"
   },
   {
    "duration": 38,
    "start_time": "2025-05-22T16:02:29.729Z"
   },
   {
    "duration": 90,
    "start_time": "2025-05-22T16:02:29.770Z"
   },
   {
    "duration": 19,
    "start_time": "2025-05-22T16:02:29.862Z"
   },
   {
    "duration": 411,
    "start_time": "2025-05-22T16:02:29.883Z"
   },
   {
    "duration": 166,
    "start_time": "2025-05-22T16:02:30.295Z"
   },
   {
    "duration": 10,
    "start_time": "2025-05-22T16:02:30.463Z"
   },
   {
    "duration": 340,
    "start_time": "2025-05-22T16:02:30.474Z"
   },
   {
    "duration": 1223,
    "start_time": "2025-05-22T16:02:30.816Z"
   },
   {
    "duration": 142,
    "start_time": "2025-05-22T16:02:32.041Z"
   },
   {
    "duration": 291,
    "start_time": "2025-05-22T16:02:32.184Z"
   },
   {
    "duration": 263,
    "start_time": "2025-05-22T16:02:32.476Z"
   },
   {
    "duration": 219,
    "start_time": "2025-05-22T16:02:32.741Z"
   },
   {
    "duration": 249,
    "start_time": "2025-05-22T16:02:32.962Z"
   },
   {
    "duration": 2273,
    "start_time": "2025-05-22T16:02:33.213Z"
   },
   {
    "duration": 211,
    "start_time": "2025-05-22T16:02:35.488Z"
   },
   {
    "duration": 101,
    "start_time": "2025-05-22T16:02:35.701Z"
   },
   {
    "duration": 3,
    "start_time": "2025-05-22T16:02:35.804Z"
   },
   {
    "duration": 60,
    "start_time": "2025-05-22T16:02:35.809Z"
   },
   {
    "duration": 1514,
    "start_time": "2025-05-22T16:02:35.870Z"
   },
   {
    "duration": 28,
    "start_time": "2025-05-22T16:02:37.390Z"
   },
   {
    "duration": 209,
    "start_time": "2025-05-22T16:02:37.420Z"
   },
   {
    "duration": 3,
    "start_time": "2025-05-22T16:02:37.631Z"
   },
   {
    "duration": 13,
    "start_time": "2025-05-22T16:02:37.639Z"
   },
   {
    "duration": 1036,
    "start_time": "2025-05-22T16:02:37.653Z"
   },
   {
    "duration": 188,
    "start_time": "2025-05-22T16:02:38.691Z"
   },
   {
    "duration": 9,
    "start_time": "2025-05-22T16:02:38.881Z"
   },
   {
    "duration": 193,
    "start_time": "2025-05-22T16:02:38.892Z"
   },
   {
    "duration": 13,
    "start_time": "2025-05-22T16:02:39.087Z"
   },
   {
    "duration": 33,
    "start_time": "2025-05-22T16:02:39.102Z"
   },
   {
    "duration": 475,
    "start_time": "2025-05-22T16:02:39.137Z"
   },
   {
    "duration": 203,
    "start_time": "2025-05-22T16:02:39.613Z"
   },
   {
    "duration": 25,
    "start_time": "2025-05-22T16:02:39.818Z"
   },
   {
    "duration": 536,
    "start_time": "2025-05-22T16:02:39.845Z"
   },
   {
    "duration": 231,
    "start_time": "2025-05-22T16:02:40.382Z"
   },
   {
    "duration": 534,
    "start_time": "2025-05-22T16:02:40.615Z"
   },
   {
    "duration": 232,
    "start_time": "2025-05-22T16:02:41.151Z"
   },
   {
    "duration": 15,
    "start_time": "2025-05-22T16:02:41.384Z"
   },
   {
    "duration": 105,
    "start_time": "2025-05-22T16:02:41.401Z"
   },
   {
    "duration": 160,
    "start_time": "2025-05-22T16:02:41.508Z"
   },
   {
    "duration": 10,
    "start_time": "2025-05-22T16:02:41.670Z"
   },
   {
    "duration": 23,
    "start_time": "2025-05-22T16:02:41.682Z"
   },
   {
    "duration": 27,
    "start_time": "2025-05-22T16:02:41.707Z"
   },
   {
    "duration": 10,
    "start_time": "2025-05-22T16:02:41.736Z"
   },
   {
    "duration": 180,
    "start_time": "2025-05-22T16:02:41.747Z"
   },
   {
    "duration": 127,
    "start_time": "2025-05-22T16:02:41.929Z"
   },
   {
    "duration": 7,
    "start_time": "2025-05-22T16:02:42.057Z"
   },
   {
    "duration": 67,
    "start_time": "2025-05-22T16:02:42.065Z"
   },
   {
    "duration": 6,
    "start_time": "2025-05-22T16:03:22.006Z"
   },
   {
    "duration": 4,
    "start_time": "2025-05-22T16:03:26.958Z"
   },
   {
    "duration": 1192,
    "start_time": "2025-05-22T16:03:43.699Z"
   },
   {
    "duration": 1716,
    "start_time": "2025-05-22T16:03:44.893Z"
   },
   {
    "duration": 792,
    "start_time": "2025-05-22T16:03:46.611Z"
   },
   {
    "duration": 190,
    "start_time": "2025-05-22T16:03:47.405Z"
   },
   {
    "duration": 6,
    "start_time": "2025-05-22T16:03:47.599Z"
   },
   {
    "duration": 593,
    "start_time": "2025-05-22T16:03:47.607Z"
   },
   {
    "duration": 301,
    "start_time": "2025-05-22T16:03:48.202Z"
   },
   {
    "duration": 62,
    "start_time": "2025-05-22T16:03:48.506Z"
   },
   {
    "duration": 7,
    "start_time": "2025-05-22T16:03:48.569Z"
   },
   {
    "duration": 18,
    "start_time": "2025-05-22T16:03:48.578Z"
   },
   {
    "duration": 457,
    "start_time": "2025-05-22T16:03:48.598Z"
   },
   {
    "duration": 16,
    "start_time": "2025-05-22T16:03:49.057Z"
   },
   {
    "duration": 470,
    "start_time": "2025-05-22T16:03:49.075Z"
   },
   {
    "duration": 141,
    "start_time": "2025-05-22T16:03:49.549Z"
   },
   {
    "duration": 66,
    "start_time": "2025-05-22T16:03:49.692Z"
   },
   {
    "duration": 360,
    "start_time": "2025-05-22T16:03:49.760Z"
   },
   {
    "duration": 95,
    "start_time": "2025-05-22T16:03:50.122Z"
   },
   {
    "duration": 347,
    "start_time": "2025-05-22T16:03:50.218Z"
   },
   {
    "duration": 7,
    "start_time": "2025-05-22T16:03:50.567Z"
   },
   {
    "duration": 12,
    "start_time": "2025-05-22T16:03:50.576Z"
   },
   {
    "duration": 7970,
    "start_time": "2025-05-22T16:03:50.590Z"
   },
   {
    "duration": 38,
    "start_time": "2025-05-22T16:03:58.562Z"
   },
   {
    "duration": 92,
    "start_time": "2025-05-22T16:03:58.602Z"
   },
   {
    "duration": 19,
    "start_time": "2025-05-22T16:03:58.696Z"
   },
   {
    "duration": 384,
    "start_time": "2025-05-22T16:03:58.717Z"
   },
   {
    "duration": 172,
    "start_time": "2025-05-22T16:03:59.104Z"
   },
   {
    "duration": 12,
    "start_time": "2025-05-22T16:03:59.278Z"
   },
   {
    "duration": 265,
    "start_time": "2025-05-22T16:03:59.292Z"
   },
   {
    "duration": 1244,
    "start_time": "2025-05-22T16:03:59.560Z"
   },
   {
    "duration": 154,
    "start_time": "2025-05-22T16:04:00.805Z"
   },
   {
    "duration": 301,
    "start_time": "2025-05-22T16:04:00.961Z"
   },
   {
    "duration": 280,
    "start_time": "2025-05-22T16:04:01.264Z"
   },
   {
    "duration": 228,
    "start_time": "2025-05-22T16:04:01.546Z"
   },
   {
    "duration": 252,
    "start_time": "2025-05-22T16:04:01.776Z"
   },
   {
    "duration": 2309,
    "start_time": "2025-05-22T16:04:02.030Z"
   },
   {
    "duration": 199,
    "start_time": "2025-05-22T16:04:04.340Z"
   },
   {
    "duration": 99,
    "start_time": "2025-05-22T16:04:04.540Z"
   },
   {
    "duration": 3,
    "start_time": "2025-05-22T16:04:04.641Z"
   },
   {
    "duration": 70,
    "start_time": "2025-05-22T16:04:04.646Z"
   },
   {
    "duration": 1550,
    "start_time": "2025-05-22T16:04:04.718Z"
   },
   {
    "duration": 30,
    "start_time": "2025-05-22T16:04:06.272Z"
   },
   {
    "duration": 100,
    "start_time": "2025-05-22T16:04:06.304Z"
   },
   {
    "duration": 3,
    "start_time": "2025-05-22T16:04:06.406Z"
   },
   {
    "duration": 52,
    "start_time": "2025-05-22T16:04:06.411Z"
   },
   {
    "duration": 1004,
    "start_time": "2025-05-22T16:04:06.465Z"
   },
   {
    "duration": 216,
    "start_time": "2025-05-22T16:04:07.471Z"
   },
   {
    "duration": 9,
    "start_time": "2025-05-22T16:04:07.688Z"
   },
   {
    "duration": 190,
    "start_time": "2025-05-22T16:04:07.699Z"
   },
   {
    "duration": 13,
    "start_time": "2025-05-22T16:04:07.891Z"
   },
   {
    "duration": 34,
    "start_time": "2025-05-22T16:04:07.905Z"
   },
   {
    "duration": 470,
    "start_time": "2025-05-22T16:04:07.941Z"
   },
   {
    "duration": 184,
    "start_time": "2025-05-22T16:04:08.412Z"
   },
   {
    "duration": 18,
    "start_time": "2025-05-22T16:04:08.597Z"
   },
   {
    "duration": 427,
    "start_time": "2025-05-22T16:04:08.617Z"
   },
   {
    "duration": 185,
    "start_time": "2025-05-22T16:04:09.046Z"
   },
   {
    "duration": 501,
    "start_time": "2025-05-22T16:04:09.233Z"
   },
   {
    "duration": 222,
    "start_time": "2025-05-22T16:04:09.738Z"
   },
   {
    "duration": 14,
    "start_time": "2025-05-22T16:04:09.962Z"
   },
   {
    "duration": 27,
    "start_time": "2025-05-22T16:04:09.977Z"
   },
   {
    "duration": 168,
    "start_time": "2025-05-22T16:04:10.006Z"
   },
   {
    "duration": 11,
    "start_time": "2025-05-22T16:04:10.175Z"
   },
   {
    "duration": 19,
    "start_time": "2025-05-22T16:04:10.188Z"
   },
   {
    "duration": 27,
    "start_time": "2025-05-22T16:04:10.208Z"
   },
   {
    "duration": 11,
    "start_time": "2025-05-22T16:04:10.237Z"
   },
   {
    "duration": 173,
    "start_time": "2025-05-22T16:04:10.250Z"
   },
   {
    "duration": 117,
    "start_time": "2025-05-22T16:04:10.424Z"
   },
   {
    "duration": 5,
    "start_time": "2025-05-22T16:04:10.543Z"
   },
   {
    "duration": 65,
    "start_time": "2025-05-22T16:04:10.550Z"
   },
   {
    "duration": 15,
    "start_time": "2025-05-22T16:05:38.508Z"
   },
   {
    "duration": 13,
    "start_time": "2025-05-22T16:07:53.883Z"
   },
   {
    "duration": 8,
    "start_time": "2025-05-22T16:10:28.762Z"
   },
   {
    "duration": 11,
    "start_time": "2025-05-22T16:10:33.126Z"
   },
   {
    "duration": 13,
    "start_time": "2025-05-22T16:11:27.861Z"
   },
   {
    "duration": 154,
    "start_time": "2025-05-22T16:11:59.238Z"
   },
   {
    "duration": 23,
    "start_time": "2025-05-22T16:13:04.608Z"
   },
   {
    "duration": 157,
    "start_time": "2025-05-22T16:13:18.827Z"
   },
   {
    "duration": 67,
    "start_time": "2025-05-22T16:13:43.445Z"
   },
   {
    "duration": 12,
    "start_time": "2025-05-22T16:13:54.226Z"
   },
   {
    "duration": 8,
    "start_time": "2025-05-22T16:15:04.835Z"
   },
   {
    "duration": 9,
    "start_time": "2025-05-22T16:15:14.470Z"
   },
   {
    "duration": 9,
    "start_time": "2025-05-22T16:15:26.205Z"
   },
   {
    "duration": 109,
    "start_time": "2025-05-22T16:16:45.649Z"
   },
   {
    "duration": 102,
    "start_time": "2025-05-22T16:18:05.881Z"
   },
   {
    "duration": 116,
    "start_time": "2025-05-22T16:18:12.471Z"
   },
   {
    "duration": 78,
    "start_time": "2025-05-22T16:18:36.276Z"
   },
   {
    "duration": 76,
    "start_time": "2025-05-22T16:19:04.116Z"
   },
   {
    "duration": 110,
    "start_time": "2025-05-22T16:19:34.184Z"
   },
   {
    "duration": 6,
    "start_time": "2025-05-22T16:23:09.142Z"
   },
   {
    "duration": 5,
    "start_time": "2025-05-22T16:24:06.883Z"
   },
   {
    "duration": 10,
    "start_time": "2025-05-22T16:24:16.677Z"
   },
   {
    "duration": 77,
    "start_time": "2025-05-22T16:27:04.519Z"
   },
   {
    "duration": 81,
    "start_time": "2025-05-22T16:27:09.127Z"
   },
   {
    "duration": 87,
    "start_time": "2025-05-22T16:27:13.932Z"
   },
   {
    "duration": 183,
    "start_time": "2025-05-22T16:27:17.085Z"
   },
   {
    "duration": 147,
    "start_time": "2025-05-22T16:27:20.313Z"
   },
   {
    "duration": 78,
    "start_time": "2025-05-22T16:27:24.244Z"
   },
   {
    "duration": 10,
    "start_time": "2025-05-22T16:27:43.924Z"
   },
   {
    "duration": 10,
    "start_time": "2025-05-22T16:27:56.212Z"
   },
   {
    "duration": 5,
    "start_time": "2025-05-22T16:29:07.746Z"
   },
   {
    "duration": 6,
    "start_time": "2025-05-22T16:29:37.419Z"
   },
   {
    "duration": 5,
    "start_time": "2025-05-22T16:29:43.227Z"
   },
   {
    "duration": 6,
    "start_time": "2025-05-22T16:29:46.250Z"
   },
   {
    "duration": 5,
    "start_time": "2025-05-22T16:29:49.584Z"
   },
   {
    "duration": 5,
    "start_time": "2025-05-22T16:29:54.578Z"
   },
   {
    "duration": 5,
    "start_time": "2025-05-22T16:29:58.469Z"
   },
   {
    "duration": 6,
    "start_time": "2025-05-22T16:30:01.850Z"
   },
   {
    "duration": 1199,
    "start_time": "2025-05-22T17:17:43.460Z"
   },
   {
    "duration": 1778,
    "start_time": "2025-05-22T17:17:44.661Z"
   },
   {
    "duration": 728,
    "start_time": "2025-05-22T17:17:46.441Z"
   },
   {
    "duration": 170,
    "start_time": "2025-05-22T17:17:47.171Z"
   },
   {
    "duration": 3,
    "start_time": "2025-05-22T17:17:47.344Z"
   },
   {
    "duration": 567,
    "start_time": "2025-05-22T17:17:47.349Z"
   },
   {
    "duration": 301,
    "start_time": "2025-05-22T17:17:47.918Z"
   },
   {
    "duration": 60,
    "start_time": "2025-05-22T17:17:48.221Z"
   },
   {
    "duration": 36,
    "start_time": "2025-05-22T17:17:48.283Z"
   },
   {
    "duration": 26,
    "start_time": "2025-05-22T17:17:48.321Z"
   },
   {
    "duration": 454,
    "start_time": "2025-05-22T17:17:48.349Z"
   },
   {
    "duration": 17,
    "start_time": "2025-05-22T17:17:48.805Z"
   },
   {
    "duration": 436,
    "start_time": "2025-05-22T17:17:48.838Z"
   },
   {
    "duration": 133,
    "start_time": "2025-05-22T17:17:49.278Z"
   },
   {
    "duration": 72,
    "start_time": "2025-05-22T17:17:49.412Z"
   },
   {
    "duration": 367,
    "start_time": "2025-05-22T17:17:49.486Z"
   },
   {
    "duration": 94,
    "start_time": "2025-05-22T17:17:49.855Z"
   },
   {
    "duration": 347,
    "start_time": "2025-05-22T17:17:49.951Z"
   },
   {
    "duration": 6,
    "start_time": "2025-05-22T17:17:50.300Z"
   },
   {
    "duration": 23,
    "start_time": "2025-05-22T17:17:50.308Z"
   },
   {
    "duration": 7906,
    "start_time": "2025-05-22T17:17:50.333Z"
   },
   {
    "duration": 39,
    "start_time": "2025-05-22T17:17:58.241Z"
   },
   {
    "duration": 94,
    "start_time": "2025-05-22T17:17:58.283Z"
   },
   {
    "duration": 19,
    "start_time": "2025-05-22T17:17:58.379Z"
   },
   {
    "duration": 397,
    "start_time": "2025-05-22T17:17:58.400Z"
   },
   {
    "duration": 166,
    "start_time": "2025-05-22T17:17:58.799Z"
   },
   {
    "duration": 12,
    "start_time": "2025-05-22T17:17:58.966Z"
   },
   {
    "duration": 263,
    "start_time": "2025-05-22T17:17:58.980Z"
   },
   {
    "duration": 1610,
    "start_time": "2025-05-22T17:17:59.245Z"
   },
   {
    "duration": 162,
    "start_time": "2025-05-22T17:18:00.857Z"
   },
   {
    "duration": 281,
    "start_time": "2025-05-22T17:18:01.021Z"
   },
   {
    "duration": 264,
    "start_time": "2025-05-22T17:18:01.304Z"
   },
   {
    "duration": 220,
    "start_time": "2025-05-22T17:18:01.570Z"
   },
   {
    "duration": 247,
    "start_time": "2025-05-22T17:18:01.793Z"
   },
   {
    "duration": 2233,
    "start_time": "2025-05-22T17:18:02.042Z"
   },
   {
    "duration": 196,
    "start_time": "2025-05-22T17:18:04.277Z"
   },
   {
    "duration": 107,
    "start_time": "2025-05-22T17:18:04.474Z"
   },
   {
    "duration": 4,
    "start_time": "2025-05-22T17:18:04.582Z"
   },
   {
    "duration": 78,
    "start_time": "2025-05-22T17:18:04.588Z"
   },
   {
    "duration": 1536,
    "start_time": "2025-05-22T17:18:04.668Z"
   },
   {
    "duration": 30,
    "start_time": "2025-05-22T17:18:06.211Z"
   },
   {
    "duration": 109,
    "start_time": "2025-05-22T17:18:06.243Z"
   },
   {
    "duration": 4,
    "start_time": "2025-05-22T17:18:06.354Z"
   },
   {
    "duration": 36,
    "start_time": "2025-05-22T17:18:06.360Z"
   },
   {
    "duration": 1004,
    "start_time": "2025-05-22T17:18:06.398Z"
   },
   {
    "duration": 220,
    "start_time": "2025-05-22T17:18:07.404Z"
   },
   {
    "duration": 15,
    "start_time": "2025-05-22T17:18:07.626Z"
   },
   {
    "duration": 229,
    "start_time": "2025-05-22T17:18:07.642Z"
   },
   {
    "duration": 14,
    "start_time": "2025-05-22T17:18:07.873Z"
   },
   {
    "duration": 44,
    "start_time": "2025-05-22T17:18:07.888Z"
   },
   {
    "duration": 491,
    "start_time": "2025-05-22T17:18:07.934Z"
   },
   {
    "duration": 183,
    "start_time": "2025-05-22T17:18:08.427Z"
   },
   {
    "duration": 27,
    "start_time": "2025-05-22T17:18:08.612Z"
   },
   {
    "duration": 487,
    "start_time": "2025-05-22T17:18:08.641Z"
   },
   {
    "duration": 183,
    "start_time": "2025-05-22T17:18:09.130Z"
   },
   {
    "duration": 510,
    "start_time": "2025-05-22T17:18:09.315Z"
   },
   {
    "duration": 232,
    "start_time": "2025-05-22T17:18:09.827Z"
   },
   {
    "duration": 14,
    "start_time": "2025-05-22T17:18:10.060Z"
   },
   {
    "duration": 36,
    "start_time": "2025-05-22T17:18:10.076Z"
   },
   {
    "duration": 166,
    "start_time": "2025-05-22T17:18:10.113Z"
   },
   {
    "duration": 12,
    "start_time": "2025-05-22T17:18:10.280Z"
   },
   {
    "duration": 13,
    "start_time": "2025-05-22T17:18:10.294Z"
   },
   {
    "duration": 51,
    "start_time": "2025-05-22T17:18:10.309Z"
   },
   {
    "duration": 5,
    "start_time": "2025-05-22T17:18:10.362Z"
   },
   {
    "duration": 183,
    "start_time": "2025-05-22T17:18:10.368Z"
   },
   {
    "duration": 118,
    "start_time": "2025-05-22T17:18:10.553Z"
   },
   {
    "duration": 6,
    "start_time": "2025-05-22T17:18:10.673Z"
   },
   {
    "duration": 161,
    "start_time": "2025-05-22T17:18:10.680Z"
   },
   {
    "duration": 14,
    "start_time": "2025-05-22T17:18:10.843Z"
   },
   {
    "duration": 57,
    "start_time": "2025-05-22T17:18:10.859Z"
   },
   {
    "duration": 185,
    "start_time": "2025-05-22T17:18:10.919Z"
   },
   {
    "duration": 6,
    "start_time": "2025-05-22T17:18:11.106Z"
   },
   {
    "duration": 30,
    "start_time": "2025-05-22T17:18:11.114Z"
   },
   {
    "duration": 132,
    "start_time": "2025-05-22T17:18:11.146Z"
   },
   {
    "duration": 116,
    "start_time": "2025-05-22T17:18:11.280Z"
   },
   {
    "duration": 6,
    "start_time": "2025-05-22T17:18:11.398Z"
   },
   {
    "duration": 1454,
    "start_time": "2025-05-23T09:41:32.482Z"
   },
   {
    "duration": 4811,
    "start_time": "2025-05-23T09:41:33.938Z"
   },
   {
    "duration": 730,
    "start_time": "2025-05-23T09:41:38.751Z"
   },
   {
    "duration": 172,
    "start_time": "2025-05-23T09:41:39.483Z"
   },
   {
    "duration": 3,
    "start_time": "2025-05-23T09:41:39.656Z"
   },
   {
    "duration": 534,
    "start_time": "2025-05-23T09:41:39.661Z"
   },
   {
    "duration": 287,
    "start_time": "2025-05-23T09:41:40.197Z"
   },
   {
    "duration": 60,
    "start_time": "2025-05-23T09:41:40.486Z"
   },
   {
    "duration": 24,
    "start_time": "2025-05-23T09:41:40.548Z"
   },
   {
    "duration": 4,
    "start_time": "2025-05-23T09:41:40.575Z"
   },
   {
    "duration": 463,
    "start_time": "2025-05-23T09:41:40.580Z"
   },
   {
    "duration": 28,
    "start_time": "2025-05-23T09:41:41.044Z"
   },
   {
    "duration": 427,
    "start_time": "2025-05-23T09:41:41.073Z"
   },
   {
    "duration": 140,
    "start_time": "2025-05-23T09:41:41.502Z"
   },
   {
    "duration": 66,
    "start_time": "2025-05-23T09:41:41.643Z"
   },
   {
    "duration": 371,
    "start_time": "2025-05-23T09:41:41.710Z"
   },
   {
    "duration": 89,
    "start_time": "2025-05-23T09:41:42.083Z"
   },
   {
    "duration": 361,
    "start_time": "2025-05-23T09:41:42.174Z"
   },
   {
    "duration": 5,
    "start_time": "2025-05-23T09:41:42.537Z"
   },
   {
    "duration": 5,
    "start_time": "2025-05-23T09:41:42.544Z"
   },
   {
    "duration": 7772,
    "start_time": "2025-05-23T09:41:42.550Z"
   },
   {
    "duration": 51,
    "start_time": "2025-05-23T09:41:50.324Z"
   },
   {
    "duration": 74,
    "start_time": "2025-05-23T09:41:50.377Z"
   },
   {
    "duration": 31,
    "start_time": "2025-05-23T09:41:50.453Z"
   },
   {
    "duration": 394,
    "start_time": "2025-05-23T09:41:50.486Z"
   },
   {
    "duration": 170,
    "start_time": "2025-05-23T09:41:50.881Z"
   },
   {
    "duration": 19,
    "start_time": "2025-05-23T09:41:51.052Z"
   },
   {
    "duration": 250,
    "start_time": "2025-05-23T09:41:51.075Z"
   },
   {
    "duration": 6225,
    "start_time": "2025-05-23T09:41:51.327Z"
   },
   {
    "duration": 147,
    "start_time": "2025-05-23T09:41:57.554Z"
   },
   {
    "duration": 282,
    "start_time": "2025-05-23T09:41:57.703Z"
   },
   {
    "duration": 277,
    "start_time": "2025-05-23T09:41:57.987Z"
   },
   {
    "duration": 216,
    "start_time": "2025-05-23T09:41:58.270Z"
   },
   {
    "duration": 259,
    "start_time": "2025-05-23T09:41:58.488Z"
   },
   {
    "duration": 2299,
    "start_time": "2025-05-23T09:41:58.749Z"
   },
   {
    "duration": 204,
    "start_time": "2025-05-23T09:42:01.049Z"
   },
   {
    "duration": 97,
    "start_time": "2025-05-23T09:42:01.255Z"
   },
   {
    "duration": 3,
    "start_time": "2025-05-23T09:42:01.354Z"
   },
   {
    "duration": 24,
    "start_time": "2025-05-23T09:42:01.359Z"
   },
   {
    "duration": 1587,
    "start_time": "2025-05-23T09:42:01.385Z"
   },
   {
    "duration": 30,
    "start_time": "2025-05-23T09:42:02.973Z"
   },
   {
    "duration": 114,
    "start_time": "2025-05-23T09:42:03.004Z"
   },
   {
    "duration": 3,
    "start_time": "2025-05-23T09:42:03.120Z"
   },
   {
    "duration": 14,
    "start_time": "2025-05-23T09:42:03.125Z"
   },
   {
    "duration": 990,
    "start_time": "2025-05-23T09:42:03.140Z"
   },
   {
    "duration": 185,
    "start_time": "2025-05-23T09:42:04.132Z"
   },
   {
    "duration": 10,
    "start_time": "2025-05-23T09:42:04.319Z"
   },
   {
    "duration": 206,
    "start_time": "2025-05-23T09:42:04.330Z"
   },
   {
    "duration": 14,
    "start_time": "2025-05-23T09:42:04.538Z"
   },
   {
    "duration": 31,
    "start_time": "2025-05-23T09:42:04.554Z"
   },
   {
    "duration": 463,
    "start_time": "2025-05-23T09:42:04.587Z"
   },
   {
    "duration": 183,
    "start_time": "2025-05-23T09:42:05.052Z"
   },
   {
    "duration": 19,
    "start_time": "2025-05-23T09:42:05.236Z"
   },
   {
    "duration": 473,
    "start_time": "2025-05-23T09:42:05.257Z"
   },
   {
    "duration": 185,
    "start_time": "2025-05-23T09:42:05.731Z"
   },
   {
    "duration": 519,
    "start_time": "2025-05-23T09:42:05.917Z"
   },
   {
    "duration": 226,
    "start_time": "2025-05-23T09:42:06.438Z"
   },
   {
    "duration": 16,
    "start_time": "2025-05-23T09:42:06.666Z"
   },
   {
    "duration": 26,
    "start_time": "2025-05-23T09:42:06.684Z"
   },
   {
    "duration": 178,
    "start_time": "2025-05-23T09:42:06.712Z"
   },
   {
    "duration": 12,
    "start_time": "2025-05-23T09:42:06.891Z"
   },
   {
    "duration": 11,
    "start_time": "2025-05-23T09:42:06.904Z"
   },
   {
    "duration": 10,
    "start_time": "2025-05-23T09:42:06.916Z"
   },
   {
    "duration": 5,
    "start_time": "2025-05-23T09:42:06.928Z"
   },
   {
    "duration": 204,
    "start_time": "2025-05-23T09:42:06.934Z"
   },
   {
    "duration": 116,
    "start_time": "2025-05-23T09:42:07.140Z"
   },
   {
    "duration": 14,
    "start_time": "2025-05-23T09:42:07.258Z"
   },
   {
    "duration": 160,
    "start_time": "2025-05-23T09:42:07.274Z"
   },
   {
    "duration": 14,
    "start_time": "2025-05-23T09:42:07.436Z"
   },
   {
    "duration": 40,
    "start_time": "2025-05-23T09:42:07.451Z"
   },
   {
    "duration": 162,
    "start_time": "2025-05-23T09:42:07.492Z"
   },
   {
    "duration": 6,
    "start_time": "2025-05-23T09:42:07.656Z"
   },
   {
    "duration": 8,
    "start_time": "2025-05-23T09:42:07.672Z"
   },
   {
    "duration": 21,
    "start_time": "2025-05-23T09:42:07.681Z"
   },
   {
    "duration": 125,
    "start_time": "2025-05-23T09:42:07.704Z"
   },
   {
    "duration": 4,
    "start_time": "2025-05-23T09:42:07.832Z"
   },
   {
    "duration": 51,
    "start_time": "2025-05-23T10:50:43.438Z"
   },
   {
    "duration": 1384,
    "start_time": "2025-05-23T10:50:58.682Z"
   },
   {
    "duration": 3702,
    "start_time": "2025-05-23T10:51:00.068Z"
   },
   {
    "duration": 797,
    "start_time": "2025-05-23T10:51:03.772Z"
   },
   {
    "duration": 189,
    "start_time": "2025-05-23T10:51:04.571Z"
   },
   {
    "duration": 4,
    "start_time": "2025-05-23T10:51:04.763Z"
   },
   {
    "duration": 544,
    "start_time": "2025-05-23T10:51:04.768Z"
   },
   {
    "duration": 286,
    "start_time": "2025-05-23T10:51:05.314Z"
   },
   {
    "duration": 62,
    "start_time": "2025-05-23T10:51:05.602Z"
   },
   {
    "duration": 9,
    "start_time": "2025-05-23T10:51:05.666Z"
   },
   {
    "duration": 18,
    "start_time": "2025-05-23T10:51:05.677Z"
   },
   {
    "duration": 439,
    "start_time": "2025-05-23T10:51:05.697Z"
   },
   {
    "duration": 17,
    "start_time": "2025-05-23T10:51:06.137Z"
   },
   {
    "duration": 463,
    "start_time": "2025-05-23T10:51:06.155Z"
   },
   {
    "duration": 138,
    "start_time": "2025-05-23T10:51:06.621Z"
   },
   {
    "duration": 60,
    "start_time": "2025-05-23T10:51:06.760Z"
   },
   {
    "duration": 377,
    "start_time": "2025-05-23T10:51:06.822Z"
   },
   {
    "duration": 91,
    "start_time": "2025-05-23T10:51:07.201Z"
   },
   {
    "duration": 343,
    "start_time": "2025-05-23T10:51:07.294Z"
   },
   {
    "duration": 5,
    "start_time": "2025-05-23T10:51:07.639Z"
   },
   {
    "duration": 10,
    "start_time": "2025-05-23T10:51:07.646Z"
   },
   {
    "duration": 7688,
    "start_time": "2025-05-23T10:51:07.658Z"
   },
   {
    "duration": 36,
    "start_time": "2025-05-23T10:51:15.348Z"
   },
   {
    "duration": 84,
    "start_time": "2025-05-23T10:51:15.386Z"
   },
   {
    "duration": 16,
    "start_time": "2025-05-23T10:51:15.471Z"
   },
   {
    "duration": 395,
    "start_time": "2025-05-23T10:51:15.489Z"
   },
   {
    "duration": 26,
    "start_time": "2025-05-23T10:51:15.886Z"
   },
   {
    "duration": 177,
    "start_time": "2025-05-23T10:51:15.913Z"
   },
   {
    "duration": 10,
    "start_time": "2025-05-23T10:51:16.091Z"
   },
   {
    "duration": 247,
    "start_time": "2025-05-23T10:51:16.103Z"
   },
   {
    "duration": 1078,
    "start_time": "2025-05-23T10:51:16.351Z"
   },
   {
    "duration": 132,
    "start_time": "2025-05-23T10:51:17.435Z"
   },
   {
    "duration": 277,
    "start_time": "2025-05-23T10:51:17.568Z"
   },
   {
    "duration": 252,
    "start_time": "2025-05-23T10:51:17.847Z"
   },
   {
    "duration": 210,
    "start_time": "2025-05-23T10:51:18.102Z"
   },
   {
    "duration": 229,
    "start_time": "2025-05-23T10:51:18.315Z"
   },
   {
    "duration": 2208,
    "start_time": "2025-05-23T10:51:18.546Z"
   },
   {
    "duration": 196,
    "start_time": "2025-05-23T10:51:20.756Z"
   },
   {
    "duration": 105,
    "start_time": "2025-05-23T10:51:20.954Z"
   },
   {
    "duration": 3,
    "start_time": "2025-05-23T10:51:21.061Z"
   },
   {
    "duration": 48,
    "start_time": "2025-05-23T10:51:21.066Z"
   },
   {
    "duration": 1485,
    "start_time": "2025-05-23T10:51:21.119Z"
   },
   {
    "duration": 29,
    "start_time": "2025-05-23T10:51:22.606Z"
   },
   {
    "duration": 117,
    "start_time": "2025-05-23T10:51:22.637Z"
   },
   {
    "duration": 3,
    "start_time": "2025-05-23T10:51:22.756Z"
   },
   {
    "duration": 13,
    "start_time": "2025-05-23T10:51:22.761Z"
   },
   {
    "duration": 1152,
    "start_time": "2025-05-23T10:51:22.776Z"
   },
   {
    "duration": 173,
    "start_time": "2025-05-23T10:51:23.929Z"
   },
   {
    "duration": 12,
    "start_time": "2025-05-23T10:51:24.104Z"
   },
   {
    "duration": 203,
    "start_time": "2025-05-23T10:51:24.118Z"
   },
   {
    "duration": 21,
    "start_time": "2025-05-23T10:51:24.323Z"
   },
   {
    "duration": 60,
    "start_time": "2025-05-23T10:51:24.346Z"
   },
   {
    "duration": 411,
    "start_time": "2025-05-23T10:51:24.408Z"
   },
   {
    "duration": 174,
    "start_time": "2025-05-23T10:51:24.821Z"
   },
   {
    "duration": 17,
    "start_time": "2025-05-23T10:51:24.997Z"
   },
   {
    "duration": 488,
    "start_time": "2025-05-23T10:51:25.015Z"
   },
   {
    "duration": 175,
    "start_time": "2025-05-23T10:51:25.504Z"
   },
   {
    "duration": 485,
    "start_time": "2025-05-23T10:51:25.680Z"
   },
   {
    "duration": 210,
    "start_time": "2025-05-23T10:51:26.166Z"
   },
   {
    "duration": 13,
    "start_time": "2025-05-23T10:51:26.378Z"
   },
   {
    "duration": 29,
    "start_time": "2025-05-23T10:51:26.393Z"
   },
   {
    "duration": 185,
    "start_time": "2025-05-23T10:51:26.424Z"
   },
   {
    "duration": 10,
    "start_time": "2025-05-23T10:51:26.611Z"
   },
   {
    "duration": 21,
    "start_time": "2025-05-23T10:51:26.623Z"
   },
   {
    "duration": 8,
    "start_time": "2025-05-23T10:51:26.646Z"
   },
   {
    "duration": 5,
    "start_time": "2025-05-23T10:51:26.656Z"
   },
   {
    "duration": 185,
    "start_time": "2025-05-23T10:51:26.662Z"
   },
   {
    "duration": 120,
    "start_time": "2025-05-23T10:51:26.849Z"
   },
   {
    "duration": 6,
    "start_time": "2025-05-23T10:51:26.970Z"
   },
   {
    "duration": 180,
    "start_time": "2025-05-23T10:51:26.978Z"
   },
   {
    "duration": 15,
    "start_time": "2025-05-23T10:51:27.161Z"
   },
   {
    "duration": 23,
    "start_time": "2025-05-23T10:51:27.178Z"
   },
   {
    "duration": 167,
    "start_time": "2025-05-23T10:51:27.203Z"
   },
   {
    "duration": 7,
    "start_time": "2025-05-23T10:51:27.372Z"
   },
   {
    "duration": 19,
    "start_time": "2025-05-23T10:51:27.380Z"
   },
   {
    "duration": 7,
    "start_time": "2025-05-23T10:51:27.401Z"
   },
   {
    "duration": 136,
    "start_time": "2025-05-23T10:51:27.409Z"
   },
   {
    "duration": 6,
    "start_time": "2025-05-23T10:51:27.547Z"
   },
   {
    "duration": 26,
    "start_time": "2025-05-23T10:52:08.975Z"
   },
   {
    "duration": 26,
    "start_time": "2025-05-23T10:52:46.843Z"
   },
   {
    "duration": 357,
    "start_time": "2025-05-23T10:52:56.674Z"
   },
   {
    "duration": 24,
    "start_time": "2025-05-23T10:53:00.391Z"
   },
   {
    "duration": 254,
    "start_time": "2025-05-23T13:04:34.768Z"
   },
   {
    "duration": 253,
    "start_time": "2025-05-23T13:04:52.003Z"
   },
   {
    "duration": 249,
    "start_time": "2025-05-23T13:04:56.774Z"
   },
   {
    "duration": 206,
    "start_time": "2025-05-23T13:05:21.416Z"
   },
   {
    "duration": 189,
    "start_time": "2025-05-23T13:05:39.815Z"
   }
  ],
  "colab": {
   "provenance": []
  },
  "kernelspec": {
   "display_name": "Python 3 (ipykernel)",
   "language": "python",
   "name": "python3"
  },
  "language_info": {
   "codemirror_mode": {
    "name": "ipython",
    "version": 3
   },
   "file_extension": ".py",
   "mimetype": "text/x-python",
   "name": "python",
   "nbconvert_exporter": "python",
   "pygments_lexer": "ipython3",
   "version": "3.9.5"
  },
  "toc": {
   "base_numbering": 1,
   "nav_menu": {},
   "number_sections": true,
   "sideBar": true,
   "skip_h1_title": true,
   "title_cell": "Table of Contents",
   "title_sidebar": "Contents",
   "toc_cell": false,
   "toc_position": {},
   "toc_section_display": true,
   "toc_window_display": true
  }
 },
 "nbformat": 4,
 "nbformat_minor": 1
}
